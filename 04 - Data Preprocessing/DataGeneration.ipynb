{
 "cells": [
  {
   "cell_type": "code",
   "execution_count": 2,
   "id": "a59aa164",
   "metadata": {},
   "outputs": [],
   "source": [
    "import pandas as pd\n",
    "import numpy as np\n",
    "from sklearn.preprocessing import StandardScaler, MinMaxScaler\n",
    "from sklearn.decomposition import PCA\n",
    "\n",
    "# Create a larger sample dataset\n",
    "np.random.seed(0)\n",
    "data = {\n",
    "    'Age': np.random.randint(18, 60, 100),\n",
    "    'Gender': np.random.choice(['Male', 'Female'], 100),\n",
    "    'Height': np.random.randint(150, 190, 100),\n",
    "    'Weight': np.random.randint(50, 100, 100),\n",
    "    'Math Score': np.random.randint(50, 100, 100),\n",
    "    'Science Score': np.random.randint(50, 100, 100),\n",
    "    'Overall Performance': np.random.choice(['Good', 'Excellent', 'Poor'], 100)\n",
    "}\n",
    "\n",
    "df = pd.DataFrame(data)"
   ]
  },
  {
   "cell_type": "code",
   "execution_count": 4,
   "id": "ef9aca27",
   "metadata": {},
   "outputs": [],
   "source": [
    "df.to_csv(\"student.csv\", index = False)"
   ]
  },
  {
   "cell_type": "code",
   "execution_count": 6,
   "id": "eede5736",
   "metadata": {},
   "outputs": [
    {
     "name": "stdout",
     "output_type": "stream",
     "text": [
      "    Age    Income  Is Student  Num Children  Temperature  Rating\n",
      "0    43  45893.41        True             0         38.2     2.6\n",
      "1    56  69663.07        True             1         38.7     3.2\n",
      "2    31  45124.06       False             5         36.9     3.9\n",
      "3    37  76724.60       False             2         41.6     2.5\n",
      "4    53  58343.03       False             1         36.5     3.3\n",
      "..  ...       ...         ...           ...          ...     ...\n",
      "95   33  39098.29       False             5         35.4     1.8\n",
      "96   48  90964.58       False             2         38.9     3.9\n",
      "97   58  70679.33        True             4         41.3     4.8\n",
      "98   50  97052.37        True             2         37.1     4.6\n",
      "99   42  46673.04       False             5         38.8     2.9\n",
      "\n",
      "[100 rows x 6 columns]\n"
     ]
    }
   ],
   "source": [
    "import pandas as pd\n",
    "import random\n",
    "\n",
    "# Generate random dataset with different data types\n",
    "def generate_dataset(num_rows):\n",
    "    data = []\n",
    "\n",
    "    for _ in range(num_rows):\n",
    "        age = random.randint(18, 65)\n",
    "        income = round(random.uniform(20000, 100000), 2)\n",
    "        is_student = random.choice([True, False])\n",
    "        num_children = random.randint(0, 5)\n",
    "        temperature = round(random.uniform(35.0, 42.0), 1)\n",
    "        rating = round(random.uniform(1.0, 5.0), 1)\n",
    "\n",
    "        data.append([age, income, is_student, num_children, temperature, rating])\n",
    "\n",
    "    columns = ['Age', 'Income', 'Is Student', 'Num Children', 'Temperature', 'Rating']\n",
    "    return pd.DataFrame(data, columns=columns)\n",
    "\n",
    "# Generate a dataset with 100 rows of random data\n",
    "dataset = generate_dataset(100)\n",
    "\n",
    "# Display the generated dataset\n",
    "print(dataset)\n"
   ]
  },
  {
   "cell_type": "code",
   "execution_count": 7,
   "id": "71b87517",
   "metadata": {},
   "outputs": [],
   "source": [
    "dataset.to_csv(\"student_assignment.csv\", index = False)"
   ]
  },
  {
   "cell_type": "code",
   "execution_count": null,
   "id": "0c04cb34",
   "metadata": {},
   "outputs": [],
   "source": []
  }
 ],
 "metadata": {
  "kernelspec": {
   "display_name": "Python 3 (ipykernel)",
   "language": "python",
   "name": "python3"
  },
  "language_info": {
   "codemirror_mode": {
    "name": "ipython",
    "version": 3
   },
   "file_extension": ".py",
   "mimetype": "text/x-python",
   "name": "python",
   "nbconvert_exporter": "python",
   "pygments_lexer": "ipython3",
   "version": "3.9.13"
  }
 },
 "nbformat": 4,
 "nbformat_minor": 5
}
