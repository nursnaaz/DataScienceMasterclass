{
 "cells": [
  {
   "cell_type": "code",
   "execution_count": 100,
   "id": "6ba28163",
   "metadata": {},
   "outputs": [],
   "source": [
    "import pandas as pd\n",
    "import numpy as np\n",
    "\n",
    "from sklearn.preprocessing import OneHotEncoder, MinMaxScaler, StandardScaler"
   ]
  },
  {
   "cell_type": "code",
   "execution_count": 2,
   "id": "ac1ffb6e",
   "metadata": {},
   "outputs": [],
   "source": [
    "data = pd.read_csv('Students.csv')"
   ]
  },
  {
   "cell_type": "code",
   "execution_count": 3,
   "id": "0b55d14e",
   "metadata": {},
   "outputs": [
    {
     "data": {
      "text/html": [
       "<div>\n",
       "<style scoped>\n",
       "    .dataframe tbody tr th:only-of-type {\n",
       "        vertical-align: middle;\n",
       "    }\n",
       "\n",
       "    .dataframe tbody tr th {\n",
       "        vertical-align: top;\n",
       "    }\n",
       "\n",
       "    .dataframe thead th {\n",
       "        text-align: right;\n",
       "    }\n",
       "</style>\n",
       "<table border=\"1\" class=\"dataframe\">\n",
       "  <thead>\n",
       "    <tr style=\"text-align: right;\">\n",
       "      <th></th>\n",
       "      <th>Age</th>\n",
       "      <th>Gender</th>\n",
       "      <th>Height</th>\n",
       "      <th>Weight</th>\n",
       "      <th>Math Score</th>\n",
       "      <th>Science Score</th>\n",
       "      <th>Overall Performance</th>\n",
       "    </tr>\n",
       "  </thead>\n",
       "  <tbody>\n",
       "    <tr>\n",
       "      <th>0</th>\n",
       "      <td>18.0</td>\n",
       "      <td>Female</td>\n",
       "      <td>169.0</td>\n",
       "      <td>56</td>\n",
       "      <td>63.0</td>\n",
       "      <td>70</td>\n",
       "      <td>Excellent</td>\n",
       "    </tr>\n",
       "    <tr>\n",
       "      <th>1</th>\n",
       "      <td>21.0</td>\n",
       "      <td>Male</td>\n",
       "      <td>183.0</td>\n",
       "      <td>57</td>\n",
       "      <td>57.0</td>\n",
       "      <td>57</td>\n",
       "      <td>Poor</td>\n",
       "    </tr>\n",
       "    <tr>\n",
       "      <th>2</th>\n",
       "      <td>21.0</td>\n",
       "      <td>Male</td>\n",
       "      <td>182.0</td>\n",
       "      <td>68</td>\n",
       "      <td>66.0</td>\n",
       "      <td>53</td>\n",
       "      <td>Good</td>\n",
       "    </tr>\n",
       "    <tr>\n",
       "      <th>3</th>\n",
       "      <td>57.0</td>\n",
       "      <td>Female</td>\n",
       "      <td>186.0</td>\n",
       "      <td>78</td>\n",
       "      <td>72.0</td>\n",
       "      <td>71</td>\n",
       "      <td>Poor</td>\n",
       "    </tr>\n",
       "    <tr>\n",
       "      <th>4</th>\n",
       "      <td>27.0</td>\n",
       "      <td>Male</td>\n",
       "      <td>156.0</td>\n",
       "      <td>93</td>\n",
       "      <td>65.0</td>\n",
       "      <td>-10</td>\n",
       "      <td>Excellent</td>\n",
       "    </tr>\n",
       "    <tr>\n",
       "      <th>...</th>\n",
       "      <td>...</td>\n",
       "      <td>...</td>\n",
       "      <td>...</td>\n",
       "      <td>...</td>\n",
       "      <td>...</td>\n",
       "      <td>...</td>\n",
       "      <td>...</td>\n",
       "    </tr>\n",
       "    <tr>\n",
       "      <th>100</th>\n",
       "      <td>NaN</td>\n",
       "      <td>Female</td>\n",
       "      <td>189.0</td>\n",
       "      <td>63</td>\n",
       "      <td>55.0</td>\n",
       "      <td>64</td>\n",
       "      <td>Poor</td>\n",
       "    </tr>\n",
       "    <tr>\n",
       "      <th>101</th>\n",
       "      <td>18.0</td>\n",
       "      <td>Male</td>\n",
       "      <td>161.0</td>\n",
       "      <td>56</td>\n",
       "      <td>83.0</td>\n",
       "      <td>87</td>\n",
       "      <td>Excellent</td>\n",
       "    </tr>\n",
       "    <tr>\n",
       "      <th>102</th>\n",
       "      <td>54.0</td>\n",
       "      <td>female</td>\n",
       "      <td>172.0</td>\n",
       "      <td>88</td>\n",
       "      <td>NaN</td>\n",
       "      <td>77</td>\n",
       "      <td>Excellent</td>\n",
       "    </tr>\n",
       "    <tr>\n",
       "      <th>103</th>\n",
       "      <td>52.0</td>\n",
       "      <td>Male</td>\n",
       "      <td>180.0</td>\n",
       "      <td>89</td>\n",
       "      <td>80.0</td>\n",
       "      <td>86</td>\n",
       "      <td>Poor</td>\n",
       "    </tr>\n",
       "    <tr>\n",
       "      <th>104</th>\n",
       "      <td>0.0</td>\n",
       "      <td>Male</td>\n",
       "      <td>167.0</td>\n",
       "      <td>512</td>\n",
       "      <td>58.0</td>\n",
       "      <td>81</td>\n",
       "      <td>Good</td>\n",
       "    </tr>\n",
       "  </tbody>\n",
       "</table>\n",
       "<p>105 rows × 7 columns</p>\n",
       "</div>"
      ],
      "text/plain": [
       "      Age  Gender  Height  Weight  Math Score  Science Score  \\\n",
       "0    18.0  Female   169.0      56        63.0             70   \n",
       "1    21.0    Male   183.0      57        57.0             57   \n",
       "2    21.0    Male   182.0      68        66.0             53   \n",
       "3    57.0  Female   186.0      78        72.0             71   \n",
       "4    27.0    Male   156.0      93        65.0            -10   \n",
       "..    ...     ...     ...     ...         ...            ...   \n",
       "100   NaN  Female   189.0      63        55.0             64   \n",
       "101  18.0    Male   161.0      56        83.0             87   \n",
       "102  54.0  female   172.0      88         NaN             77   \n",
       "103  52.0    Male   180.0      89        80.0             86   \n",
       "104   0.0    Male   167.0     512        58.0             81   \n",
       "\n",
       "    Overall Performance  \n",
       "0             Excellent  \n",
       "1                  Poor  \n",
       "2                  Good  \n",
       "3                  Poor  \n",
       "4             Excellent  \n",
       "..                  ...  \n",
       "100                Poor  \n",
       "101           Excellent  \n",
       "102           Excellent  \n",
       "103                Poor  \n",
       "104                Good  \n",
       "\n",
       "[105 rows x 7 columns]"
      ]
     },
     "execution_count": 3,
     "metadata": {},
     "output_type": "execute_result"
    }
   ],
   "source": [
    "data"
   ]
  },
  {
   "cell_type": "code",
   "execution_count": null,
   "id": "e6ab496e",
   "metadata": {},
   "outputs": [],
   "source": [
    "1. Null values - replace\n",
    "2. Duplicated\n",
    "2. Text error\n",
    "3. Outlier\n",
    "4. Negative value\n",
    "5. Scaling\n",
    "6. Encoding"
   ]
  },
  {
   "cell_type": "code",
   "execution_count": 4,
   "id": "93ba1468",
   "metadata": {},
   "outputs": [
    {
     "data": {
      "text/plain": [
       "(105, 7)"
      ]
     },
     "execution_count": 4,
     "metadata": {},
     "output_type": "execute_result"
    }
   ],
   "source": [
    "data.shape"
   ]
  },
  {
   "cell_type": "code",
   "execution_count": 6,
   "id": "e1a639d1",
   "metadata": {},
   "outputs": [
    {
     "data": {
      "text/html": [
       "<div>\n",
       "<style scoped>\n",
       "    .dataframe tbody tr th:only-of-type {\n",
       "        vertical-align: middle;\n",
       "    }\n",
       "\n",
       "    .dataframe tbody tr th {\n",
       "        vertical-align: top;\n",
       "    }\n",
       "\n",
       "    .dataframe thead th {\n",
       "        text-align: right;\n",
       "    }\n",
       "</style>\n",
       "<table border=\"1\" class=\"dataframe\">\n",
       "  <thead>\n",
       "    <tr style=\"text-align: right;\">\n",
       "      <th></th>\n",
       "      <th>Age</th>\n",
       "      <th>Height</th>\n",
       "      <th>Weight</th>\n",
       "      <th>Math Score</th>\n",
       "      <th>Science Score</th>\n",
       "    </tr>\n",
       "  </thead>\n",
       "  <tbody>\n",
       "    <tr>\n",
       "      <th>count</th>\n",
       "      <td>99.000000</td>\n",
       "      <td>100.00000</td>\n",
       "      <td>105.000000</td>\n",
       "      <td>101.000000</td>\n",
       "      <td>105.000000</td>\n",
       "    </tr>\n",
       "    <tr>\n",
       "      <th>mean</th>\n",
       "      <td>46.646465</td>\n",
       "      <td>179.59000</td>\n",
       "      <td>80.828571</td>\n",
       "      <td>74.000000</td>\n",
       "      <td>75.028571</td>\n",
       "    </tr>\n",
       "    <tr>\n",
       "      <th>std</th>\n",
       "      <td>96.714741</td>\n",
       "      <td>83.71019</td>\n",
       "      <td>63.945959</td>\n",
       "      <td>14.606848</td>\n",
       "      <td>20.916711</td>\n",
       "    </tr>\n",
       "    <tr>\n",
       "      <th>min</th>\n",
       "      <td>0.000000</td>\n",
       "      <td>150.00000</td>\n",
       "      <td>-90.000000</td>\n",
       "      <td>50.000000</td>\n",
       "      <td>-10.000000</td>\n",
       "    </tr>\n",
       "    <tr>\n",
       "      <th>25%</th>\n",
       "      <td>26.500000</td>\n",
       "      <td>161.00000</td>\n",
       "      <td>63.000000</td>\n",
       "      <td>60.000000</td>\n",
       "      <td>63.000000</td>\n",
       "    </tr>\n",
       "    <tr>\n",
       "      <th>50%</th>\n",
       "      <td>37.000000</td>\n",
       "      <td>172.50000</td>\n",
       "      <td>74.000000</td>\n",
       "      <td>74.000000</td>\n",
       "      <td>76.000000</td>\n",
       "    </tr>\n",
       "    <tr>\n",
       "      <th>75%</th>\n",
       "      <td>52.000000</td>\n",
       "      <td>182.25000</td>\n",
       "      <td>86.000000</td>\n",
       "      <td>85.000000</td>\n",
       "      <td>87.000000</td>\n",
       "    </tr>\n",
       "    <tr>\n",
       "      <th>max</th>\n",
       "      <td>989.000000</td>\n",
       "      <td>1000.00000</td>\n",
       "      <td>512.000000</td>\n",
       "      <td>99.000000</td>\n",
       "      <td>210.000000</td>\n",
       "    </tr>\n",
       "  </tbody>\n",
       "</table>\n",
       "</div>"
      ],
      "text/plain": [
       "              Age      Height      Weight  Math Score  Science Score\n",
       "count   99.000000   100.00000  105.000000  101.000000     105.000000\n",
       "mean    46.646465   179.59000   80.828571   74.000000      75.028571\n",
       "std     96.714741    83.71019   63.945959   14.606848      20.916711\n",
       "min      0.000000   150.00000  -90.000000   50.000000     -10.000000\n",
       "25%     26.500000   161.00000   63.000000   60.000000      63.000000\n",
       "50%     37.000000   172.50000   74.000000   74.000000      76.000000\n",
       "75%     52.000000   182.25000   86.000000   85.000000      87.000000\n",
       "max    989.000000  1000.00000  512.000000   99.000000     210.000000"
      ]
     },
     "execution_count": 6,
     "metadata": {},
     "output_type": "execute_result"
    }
   ],
   "source": [
    "data.describe()"
   ]
  },
  {
   "cell_type": "code",
   "execution_count": 7,
   "id": "afd5be21",
   "metadata": {},
   "outputs": [
    {
     "name": "stdout",
     "output_type": "stream",
     "text": [
      "<class 'pandas.core.frame.DataFrame'>\n",
      "RangeIndex: 105 entries, 0 to 104\n",
      "Data columns (total 7 columns):\n",
      " #   Column               Non-Null Count  Dtype  \n",
      "---  ------               --------------  -----  \n",
      " 0   Age                  99 non-null     float64\n",
      " 1   Gender               102 non-null    object \n",
      " 2   Height               100 non-null    float64\n",
      " 3   Weight               105 non-null    int64  \n",
      " 4   Math Score           101 non-null    float64\n",
      " 5   Science Score        105 non-null    int64  \n",
      " 6   Overall Performance  105 non-null    object \n",
      "dtypes: float64(3), int64(2), object(2)\n",
      "memory usage: 5.9+ KB\n"
     ]
    }
   ],
   "source": [
    "data.info()\n"
   ]
  },
  {
   "cell_type": "code",
   "execution_count": 9,
   "id": "be7ed0bc",
   "metadata": {},
   "outputs": [
    {
     "data": {
      "text/plain": [
       "Age                    6\n",
       "Gender                 3\n",
       "Height                 5\n",
       "Weight                 0\n",
       "Math Score             4\n",
       "Science Score          0\n",
       "Overall Performance    0\n",
       "dtype: int64"
      ]
     },
     "execution_count": 9,
     "metadata": {},
     "output_type": "execute_result"
    }
   ],
   "source": [
    "data.isna().sum()"
   ]
  },
  {
   "cell_type": "code",
   "execution_count": 10,
   "id": "5b5271ab",
   "metadata": {},
   "outputs": [
    {
     "data": {
      "text/plain": [
       "5"
      ]
     },
     "execution_count": 10,
     "metadata": {},
     "output_type": "execute_result"
    }
   ],
   "source": [
    "data.duplicated().sum()"
   ]
  },
  {
   "cell_type": "code",
   "execution_count": 12,
   "id": "f2a7f070",
   "metadata": {},
   "outputs": [],
   "source": [
    "data = data.drop_duplicates()"
   ]
  },
  {
   "cell_type": "code",
   "execution_count": 13,
   "id": "34abaa8e",
   "metadata": {},
   "outputs": [
    {
     "data": {
      "text/plain": [
       "(100, 7)"
      ]
     },
     "execution_count": 13,
     "metadata": {},
     "output_type": "execute_result"
    }
   ],
   "source": [
    "data.shape"
   ]
  },
  {
   "cell_type": "code",
   "execution_count": 14,
   "id": "971318ac",
   "metadata": {},
   "outputs": [
    {
     "data": {
      "text/plain": [
       "Age                    5\n",
       "Gender                 3\n",
       "Height                 5\n",
       "Weight                 0\n",
       "Math Score             3\n",
       "Science Score          0\n",
       "Overall Performance    0\n",
       "dtype: int64"
      ]
     },
     "execution_count": 14,
     "metadata": {},
     "output_type": "execute_result"
    }
   ],
   "source": [
    "data.isna().sum()"
   ]
  },
  {
   "cell_type": "code",
   "execution_count": 16,
   "id": "cfb5efc3",
   "metadata": {},
   "outputs": [
    {
     "data": {
      "text/plain": [
       "47.305263157894736"
      ]
     },
     "execution_count": 16,
     "metadata": {},
     "output_type": "execute_result"
    }
   ],
   "source": [
    "data['Age'].mean()"
   ]
  },
  {
   "cell_type": "code",
   "execution_count": 17,
   "id": "5a403365",
   "metadata": {},
   "outputs": [
    {
     "data": {
      "text/plain": [
       "37.0"
      ]
     },
     "execution_count": 17,
     "metadata": {},
     "output_type": "execute_result"
    }
   ],
   "source": [
    "data['Age'].median()"
   ]
  },
  {
   "cell_type": "code",
   "execution_count": 19,
   "id": "e563180b",
   "metadata": {},
   "outputs": [
    {
     "data": {
      "text/plain": [
       "<AxesSubplot:>"
      ]
     },
     "execution_count": 19,
     "metadata": {},
     "output_type": "execute_result"
    },
    {
     "data": {
      "image/png": "[encoded data removed]",
      "text/plain": [
       "<Figure size 640x480 with 1 Axes>"
      ]
     },
     "metadata": {},
     "output_type": "display_data"
    }
   ],
   "source": [
    "data['Age'].plot(kind= 'box')"
   ]
  },
  {
   "cell_type": "code",
   "execution_count": 21,
   "id": "be143002",
   "metadata": {},
   "outputs": [
    {
     "name": "stderr",
     "output_type": "stream",
     "text": [
      "/var/folders/cv/kmsppstx0d9281mtbqrrgl6c0000gn/T/ipykernel_23857/32821270.py:1: SettingWithCopyWarning: \n",
      "A value is trying to be set on a copy of a slice from a DataFrame.\n",
      "Try using .loc[row_indexer,col_indexer] = value instead\n",
      "\n",
      "See the caveats in the documentation: https://pandas.pydata.org/pandas-docs/stable/user_guide/indexing.html#returning-a-view-versus-a-copy\n",
      "  data['Age'] = data['Age'].fillna(data['Age'].median())\n"
     ]
    }
   ],
   "source": [
    "data['Age'] = data['Age'].fillna(data['Age'].median())"
   ]
  },
  {
   "cell_type": "code",
   "execution_count": 22,
   "id": "ede56cb4",
   "metadata": {},
   "outputs": [
    {
     "data": {
      "text/plain": [
       "0"
      ]
     },
     "execution_count": 22,
     "metadata": {},
     "output_type": "execute_result"
    }
   ],
   "source": [
    "data['Age'].isna().sum()"
   ]
  },
  {
   "cell_type": "code",
   "execution_count": 23,
   "id": "875ac548",
   "metadata": {},
   "outputs": [],
   "source": [
    "#Detecting outlier with z-score\n",
    "outliers=[]\n",
    "def detect_outlier(insurance):\n",
    "    \n",
    "    threshold=3\n",
    "    mean_1 = np.mean(insurance)\n",
    "    std_1 = np.std(insurance)\n",
    "    \n",
    "    \n",
    "    for y in insurance:\n",
    "        z_score= (y - mean_1)/std_1 \n",
    "        if np.abs(z_score) > threshold:\n",
    "            outliers.append(y)\n",
    "    return outliers\n",
    "\n",
    "\n"
   ]
  },
  {
   "cell_type": "code",
   "execution_count": 31,
   "id": "d2fd296f",
   "metadata": {},
   "outputs": [
    {
     "name": "stderr",
     "output_type": "stream",
     "text": [
      "/var/folders/cv/kmsppstx0d9281mtbqrrgl6c0000gn/T/ipykernel_23857/3542571116.py:1: SettingWithCopyWarning: \n",
      "A value is trying to be set on a copy of a slice from a DataFrame.\n",
      "Try using .loc[row_indexer,col_indexer] = value instead\n",
      "\n",
      "See the caveats in the documentation: https://pandas.pydata.org/pandas-docs/stable/user_guide/indexing.html#returning-a-view-versus-a-copy\n",
      "  data['Age'] = data['Age'].astype('int')\n"
     ]
    }
   ],
   "source": [
    "data['Age'] = data['Age'].astype('int')"
   ]
  },
  {
   "cell_type": "code",
   "execution_count": 34,
   "id": "940e4290",
   "metadata": {},
   "outputs": [
    {
     "data": {
      "text/html": [
       "<div>\n",
       "<style scoped>\n",
       "    .dataframe tbody tr th:only-of-type {\n",
       "        vertical-align: middle;\n",
       "    }\n",
       "\n",
       "    .dataframe tbody tr th {\n",
       "        vertical-align: top;\n",
       "    }\n",
       "\n",
       "    .dataframe thead th {\n",
       "        text-align: right;\n",
       "    }\n",
       "</style>\n",
       "<table border=\"1\" class=\"dataframe\">\n",
       "  <thead>\n",
       "    <tr style=\"text-align: right;\">\n",
       "      <th></th>\n",
       "      <th>Age</th>\n",
       "      <th>Height</th>\n",
       "      <th>Weight</th>\n",
       "      <th>Math Score</th>\n",
       "      <th>Science Score</th>\n",
       "    </tr>\n",
       "  </thead>\n",
       "  <tbody>\n",
       "    <tr>\n",
       "      <th>0</th>\n",
       "      <td>989.0</td>\n",
       "      <td>989.0</td>\n",
       "      <td>989.0</td>\n",
       "      <td>989.0</td>\n",
       "      <td>989.0</td>\n",
       "    </tr>\n",
       "    <tr>\n",
       "      <th>1</th>\n",
       "      <td>1000.0</td>\n",
       "      <td>1000.0</td>\n",
       "      <td>1000.0</td>\n",
       "      <td>1000.0</td>\n",
       "      <td>1000.0</td>\n",
       "    </tr>\n",
       "    <tr>\n",
       "      <th>2</th>\n",
       "      <td>-90.0</td>\n",
       "      <td>-90.0</td>\n",
       "      <td>-90.0</td>\n",
       "      <td>-90.0</td>\n",
       "      <td>-90.0</td>\n",
       "    </tr>\n",
       "    <tr>\n",
       "      <th>3</th>\n",
       "      <td>512.0</td>\n",
       "      <td>512.0</td>\n",
       "      <td>512.0</td>\n",
       "      <td>512.0</td>\n",
       "      <td>512.0</td>\n",
       "    </tr>\n",
       "    <tr>\n",
       "      <th>4</th>\n",
       "      <td>-10.0</td>\n",
       "      <td>-10.0</td>\n",
       "      <td>-10.0</td>\n",
       "      <td>-10.0</td>\n",
       "      <td>-10.0</td>\n",
       "    </tr>\n",
       "    <tr>\n",
       "      <th>5</th>\n",
       "      <td>210.0</td>\n",
       "      <td>210.0</td>\n",
       "      <td>210.0</td>\n",
       "      <td>210.0</td>\n",
       "      <td>210.0</td>\n",
       "    </tr>\n",
       "    <tr>\n",
       "      <th>6</th>\n",
       "      <td>989.0</td>\n",
       "      <td>989.0</td>\n",
       "      <td>989.0</td>\n",
       "      <td>989.0</td>\n",
       "      <td>989.0</td>\n",
       "    </tr>\n",
       "    <tr>\n",
       "      <th>7</th>\n",
       "      <td>989.0</td>\n",
       "      <td>989.0</td>\n",
       "      <td>989.0</td>\n",
       "      <td>989.0</td>\n",
       "      <td>989.0</td>\n",
       "    </tr>\n",
       "    <tr>\n",
       "      <th>8</th>\n",
       "      <td>1000.0</td>\n",
       "      <td>1000.0</td>\n",
       "      <td>1000.0</td>\n",
       "      <td>1000.0</td>\n",
       "      <td>1000.0</td>\n",
       "    </tr>\n",
       "    <tr>\n",
       "      <th>9</th>\n",
       "      <td>-90.0</td>\n",
       "      <td>-90.0</td>\n",
       "      <td>-90.0</td>\n",
       "      <td>-90.0</td>\n",
       "      <td>-90.0</td>\n",
       "    </tr>\n",
       "    <tr>\n",
       "      <th>10</th>\n",
       "      <td>512.0</td>\n",
       "      <td>512.0</td>\n",
       "      <td>512.0</td>\n",
       "      <td>512.0</td>\n",
       "      <td>512.0</td>\n",
       "    </tr>\n",
       "    <tr>\n",
       "      <th>11</th>\n",
       "      <td>-10.0</td>\n",
       "      <td>-10.0</td>\n",
       "      <td>-10.0</td>\n",
       "      <td>-10.0</td>\n",
       "      <td>-10.0</td>\n",
       "    </tr>\n",
       "    <tr>\n",
       "      <th>12</th>\n",
       "      <td>210.0</td>\n",
       "      <td>210.0</td>\n",
       "      <td>210.0</td>\n",
       "      <td>210.0</td>\n",
       "      <td>210.0</td>\n",
       "    </tr>\n",
       "  </tbody>\n",
       "</table>\n",
       "</div>"
      ],
      "text/plain": [
       "       Age  Height  Weight  Math Score  Science Score\n",
       "0    989.0   989.0   989.0       989.0          989.0\n",
       "1   1000.0  1000.0  1000.0      1000.0         1000.0\n",
       "2    -90.0   -90.0   -90.0       -90.0          -90.0\n",
       "3    512.0   512.0   512.0       512.0          512.0\n",
       "4    -10.0   -10.0   -10.0       -10.0          -10.0\n",
       "5    210.0   210.0   210.0       210.0          210.0\n",
       "6    989.0   989.0   989.0       989.0          989.0\n",
       "7    989.0   989.0   989.0       989.0          989.0\n",
       "8   1000.0  1000.0  1000.0      1000.0         1000.0\n",
       "9    -90.0   -90.0   -90.0       -90.0          -90.0\n",
       "10   512.0   512.0   512.0       512.0          512.0\n",
       "11   -10.0   -10.0   -10.0       -10.0          -10.0\n",
       "12   210.0   210.0   210.0       210.0          210.0"
      ]
     },
     "execution_count": 34,
     "metadata": {},
     "output_type": "execute_result"
    }
   ],
   "source": [
    "data.select_dtypes(include=np.number).apply(detect_outlier)\n"
   ]
  },
  {
   "cell_type": "code",
   "execution_count": 35,
   "id": "db2a36fd",
   "metadata": {},
   "outputs": [
    {
     "name": "stdout",
     "output_type": "stream",
     "text": [
      "Age\n",
      "Outliers =  59    989\n",
      "Name: Age, dtype: int64\n",
      "Height\n",
      "Outliers =  5    1000.0\n",
      "Name: Height, dtype: float64\n",
      "Weight\n",
      "Outliers =  91    -90\n",
      "99    512\n",
      "Name: Weight, dtype: int64\n",
      "Math Score\n",
      "Outliers =  Series([], Name: Math Score, dtype: float64)\n"
     ]
    }
   ],
   "source": [
    "#Script to find the outliers\n",
    "for col_name in data.select_dtypes(include=np.number).columns[:-1]:\n",
    "    print(col_name)\n",
    "    q1 = data[col_name].quantile(0.25)\n",
    "    q3 = data[col_name].quantile(0.75)\n",
    "    iqr = q3 - q1\n",
    "    \n",
    "    low = q1-1.5*iqr\n",
    "    high = q3+1.5*iqr\n",
    "    print(\"Outliers = \",data.loc[(data[col_name] < low) | (data[col_name] > high), col_name])\n",
    "    "
   ]
  },
  {
   "cell_type": "code",
   "execution_count": 43,
   "id": "128efa0f",
   "metadata": {},
   "outputs": [],
   "source": [
    "#Removed the age outlier\n",
    "data = data[~(data['Age']>100)]"
   ]
  },
  {
   "cell_type": "code",
   "execution_count": 44,
   "id": "f8c27ff0",
   "metadata": {},
   "outputs": [
    {
     "data": {
      "text/plain": [
       "37.27272727272727"
      ]
     },
     "execution_count": 44,
     "metadata": {},
     "output_type": "execute_result"
    }
   ],
   "source": [
    "data['Age'].mean()"
   ]
  },
  {
   "cell_type": "code",
   "execution_count": 45,
   "id": "be7e807b",
   "metadata": {},
   "outputs": [
    {
     "data": {
      "text/plain": [
       "37.0"
      ]
     },
     "execution_count": 45,
     "metadata": {},
     "output_type": "execute_result"
    }
   ],
   "source": [
    "data['Age'].median()"
   ]
  },
  {
   "cell_type": "code",
   "execution_count": 47,
   "id": "13fbd09b",
   "metadata": {},
   "outputs": [
    {
     "data": {
      "text/plain": [
       "<AxesSubplot:>"
      ]
     },
     "execution_count": 47,
     "metadata": {},
     "output_type": "execute_result"
    },
    {
     "data": {
      "image/png": "[encoded data removed]",
      "text/plain": [
       "<Figure size 640x480 with 1 Axes>"
      ]
     },
     "metadata": {},
     "output_type": "display_data"
    }
   ],
   "source": [
    "data['Age'].plot(kind = 'box')"
   ]
  },
  {
   "cell_type": "code",
   "execution_count": 48,
   "id": "6eec26f1",
   "metadata": {},
   "outputs": [
    {
     "data": {
      "text/plain": [
       "0     Female\n",
       "1       Male\n",
       "2       Male\n",
       "3     Female\n",
       "4       Male\n",
       "       ...  \n",
       "95    Female\n",
       "96      Male\n",
       "97    female\n",
       "98      Male\n",
       "99      Male\n",
       "Name: Gender, Length: 99, dtype: object"
      ]
     },
     "execution_count": 48,
     "metadata": {},
     "output_type": "execute_result"
    }
   ],
   "source": [
    "data['Gender']"
   ]
  },
  {
   "cell_type": "code",
   "execution_count": 49,
   "id": "9d1aa691",
   "metadata": {},
   "outputs": [
    {
     "data": {
      "text/plain": [
       "3"
      ]
     },
     "execution_count": 49,
     "metadata": {},
     "output_type": "execute_result"
    }
   ],
   "source": [
    "data['Gender'].isna().sum()"
   ]
  },
  {
   "cell_type": "code",
   "execution_count": 50,
   "id": "a0b7ff15",
   "metadata": {},
   "outputs": [
    {
     "data": {
      "text/plain": [
       "array(['Female', 'Male', nan, 'gents', 'femal', 'mal', 'girl', 'boy',\n",
       "       'male', 'ladies', 'women', 'female'], dtype=object)"
      ]
     },
     "execution_count": 50,
     "metadata": {},
     "output_type": "execute_result"
    }
   ],
   "source": [
    "data['Gender'].unique()"
   ]
  },
  {
   "cell_type": "code",
   "execution_count": 54,
   "id": "a250eaf5",
   "metadata": {},
   "outputs": [],
   "source": [
    "data['Gender'].replace({'gents':'Male','mal':'Male','boy':'Male','male':'Male'}, inplace = True)\n",
    "data['Gender'].replace({'femal':'Female','girl':'Female','ladies':'Female','women':'Female', 'female':'Female'}, inplace = True)\n",
    "\n"
   ]
  },
  {
   "cell_type": "code",
   "execution_count": 55,
   "id": "4fc93a8f",
   "metadata": {},
   "outputs": [
    {
     "data": {
      "text/plain": [
       "array(['Female', 'Male', nan], dtype=object)"
      ]
     },
     "execution_count": 55,
     "metadata": {},
     "output_type": "execute_result"
    }
   ],
   "source": [
    "data['Gender'].unique()"
   ]
  },
  {
   "cell_type": "code",
   "execution_count": 56,
   "id": "2e9a2776",
   "metadata": {},
   "outputs": [
    {
     "data": {
      "text/plain": [
       "Male      55\n",
       "Female    41\n",
       "Name: Gender, dtype: int64"
      ]
     },
     "execution_count": 56,
     "metadata": {},
     "output_type": "execute_result"
    }
   ],
   "source": [
    "data['Gender'].value_counts()"
   ]
  },
  {
   "cell_type": "code",
   "execution_count": 58,
   "id": "53513921",
   "metadata": {},
   "outputs": [
    {
     "data": {
      "text/plain": [
       "'Male'"
      ]
     },
     "execution_count": 58,
     "metadata": {},
     "output_type": "execute_result"
    }
   ],
   "source": [
    "data['Gender'].mode()[0]"
   ]
  },
  {
   "cell_type": "code",
   "execution_count": 60,
   "id": "bae05e12",
   "metadata": {},
   "outputs": [],
   "source": [
    "data['Gender'].fillna(data['Gender'].mode()[0], inplace = True)"
   ]
  },
  {
   "cell_type": "code",
   "execution_count": 61,
   "id": "a60f1912",
   "metadata": {},
   "outputs": [
    {
     "data": {
      "text/plain": [
       "0"
      ]
     },
     "execution_count": 61,
     "metadata": {},
     "output_type": "execute_result"
    }
   ],
   "source": [
    "data['Gender'].isna().sum()"
   ]
  },
  {
   "cell_type": "code",
   "execution_count": 63,
   "id": "25479230",
   "metadata": {},
   "outputs": [
    {
     "data": {
      "text/plain": [
       "Height           5\n",
       "Weight           0\n",
       "Math Score       3\n",
       "Science Score    0\n",
       "dtype: int64"
      ]
     },
     "execution_count": 63,
     "metadata": {},
     "output_type": "execute_result"
    }
   ],
   "source": [
    "data[['Height','Weight','Math Score','Science Score']].isna().sum()"
   ]
  },
  {
   "cell_type": "code",
   "execution_count": 65,
   "id": "dd2829e3",
   "metadata": {},
   "outputs": [
    {
     "data": {
      "text/plain": [
       "(99, 7)"
      ]
     },
     "execution_count": 65,
     "metadata": {},
     "output_type": "execute_result"
    }
   ],
   "source": [
    "data.shape"
   ]
  },
  {
   "cell_type": "code",
   "execution_count": 64,
   "id": "aadff376",
   "metadata": {
    "scrolled": true
   },
   "outputs": [
    {
     "data": {
      "text/html": [
       "<div>\n",
       "<style scoped>\n",
       "    .dataframe tbody tr th:only-of-type {\n",
       "        vertical-align: middle;\n",
       "    }\n",
       "\n",
       "    .dataframe tbody tr th {\n",
       "        vertical-align: top;\n",
       "    }\n",
       "\n",
       "    .dataframe thead th {\n",
       "        text-align: right;\n",
       "    }\n",
       "</style>\n",
       "<table border=\"1\" class=\"dataframe\">\n",
       "  <thead>\n",
       "    <tr style=\"text-align: right;\">\n",
       "      <th></th>\n",
       "      <th>Age</th>\n",
       "      <th>Gender</th>\n",
       "      <th>Height</th>\n",
       "      <th>Weight</th>\n",
       "      <th>Math Score</th>\n",
       "      <th>Science Score</th>\n",
       "      <th>Overall Performance</th>\n",
       "    </tr>\n",
       "  </thead>\n",
       "  <tbody>\n",
       "    <tr>\n",
       "      <th>0</th>\n",
       "      <td>18</td>\n",
       "      <td>Female</td>\n",
       "      <td>169.0</td>\n",
       "      <td>56</td>\n",
       "      <td>63.0</td>\n",
       "      <td>70</td>\n",
       "      <td>Excellent</td>\n",
       "    </tr>\n",
       "    <tr>\n",
       "      <th>1</th>\n",
       "      <td>21</td>\n",
       "      <td>Male</td>\n",
       "      <td>183.0</td>\n",
       "      <td>57</td>\n",
       "      <td>57.0</td>\n",
       "      <td>57</td>\n",
       "      <td>Poor</td>\n",
       "    </tr>\n",
       "    <tr>\n",
       "      <th>2</th>\n",
       "      <td>21</td>\n",
       "      <td>Male</td>\n",
       "      <td>182.0</td>\n",
       "      <td>68</td>\n",
       "      <td>66.0</td>\n",
       "      <td>53</td>\n",
       "      <td>Good</td>\n",
       "    </tr>\n",
       "    <tr>\n",
       "      <th>3</th>\n",
       "      <td>57</td>\n",
       "      <td>Female</td>\n",
       "      <td>186.0</td>\n",
       "      <td>78</td>\n",
       "      <td>72.0</td>\n",
       "      <td>71</td>\n",
       "      <td>Poor</td>\n",
       "    </tr>\n",
       "    <tr>\n",
       "      <th>4</th>\n",
       "      <td>27</td>\n",
       "      <td>Male</td>\n",
       "      <td>156.0</td>\n",
       "      <td>93</td>\n",
       "      <td>65.0</td>\n",
       "      <td>-10</td>\n",
       "      <td>Excellent</td>\n",
       "    </tr>\n",
       "    <tr>\n",
       "      <th>...</th>\n",
       "      <td>...</td>\n",
       "      <td>...</td>\n",
       "      <td>...</td>\n",
       "      <td>...</td>\n",
       "      <td>...</td>\n",
       "      <td>...</td>\n",
       "      <td>...</td>\n",
       "    </tr>\n",
       "    <tr>\n",
       "      <th>94</th>\n",
       "      <td>23</td>\n",
       "      <td>Female</td>\n",
       "      <td>189.0</td>\n",
       "      <td>94</td>\n",
       "      <td>59.0</td>\n",
       "      <td>78</td>\n",
       "      <td>Excellent</td>\n",
       "    </tr>\n",
       "    <tr>\n",
       "      <th>95</th>\n",
       "      <td>37</td>\n",
       "      <td>Female</td>\n",
       "      <td>189.0</td>\n",
       "      <td>63</td>\n",
       "      <td>55.0</td>\n",
       "      <td>64</td>\n",
       "      <td>Poor</td>\n",
       "    </tr>\n",
       "    <tr>\n",
       "      <th>96</th>\n",
       "      <td>18</td>\n",
       "      <td>Male</td>\n",
       "      <td>161.0</td>\n",
       "      <td>56</td>\n",
       "      <td>83.0</td>\n",
       "      <td>87</td>\n",
       "      <td>Excellent</td>\n",
       "    </tr>\n",
       "    <tr>\n",
       "      <th>98</th>\n",
       "      <td>52</td>\n",
       "      <td>Male</td>\n",
       "      <td>180.0</td>\n",
       "      <td>89</td>\n",
       "      <td>80.0</td>\n",
       "      <td>86</td>\n",
       "      <td>Poor</td>\n",
       "    </tr>\n",
       "    <tr>\n",
       "      <th>99</th>\n",
       "      <td>0</td>\n",
       "      <td>Male</td>\n",
       "      <td>167.0</td>\n",
       "      <td>512</td>\n",
       "      <td>58.0</td>\n",
       "      <td>81</td>\n",
       "      <td>Good</td>\n",
       "    </tr>\n",
       "  </tbody>\n",
       "</table>\n",
       "<p>91 rows × 7 columns</p>\n",
       "</div>"
      ],
      "text/plain": [
       "    Age  Gender  Height  Weight  Math Score  Science Score Overall Performance\n",
       "0    18  Female   169.0      56        63.0             70           Excellent\n",
       "1    21    Male   183.0      57        57.0             57                Poor\n",
       "2    21    Male   182.0      68        66.0             53                Good\n",
       "3    57  Female   186.0      78        72.0             71                Poor\n",
       "4    27    Male   156.0      93        65.0            -10           Excellent\n",
       "..  ...     ...     ...     ...         ...            ...                 ...\n",
       "94   23  Female   189.0      94        59.0             78           Excellent\n",
       "95   37  Female   189.0      63        55.0             64                Poor\n",
       "96   18    Male   161.0      56        83.0             87           Excellent\n",
       "98   52    Male   180.0      89        80.0             86                Poor\n",
       "99    0    Male   167.0     512        58.0             81                Good\n",
       "\n",
       "[91 rows x 7 columns]"
      ]
     },
     "execution_count": 64,
     "metadata": {},
     "output_type": "execute_result"
    }
   ],
   "source": [
    "data.dropna(subset = ['Height','Weight','Math Score','Science Score'])"
   ]
  },
  {
   "cell_type": "code",
   "execution_count": 66,
   "id": "ab4592fe",
   "metadata": {},
   "outputs": [
    {
     "data": {
      "text/plain": [
       "(99, 7)"
      ]
     },
     "execution_count": 66,
     "metadata": {},
     "output_type": "execute_result"
    }
   ],
   "source": [
    "data.shape"
   ]
  },
  {
   "cell_type": "code",
   "execution_count": 67,
   "id": "9998e933",
   "metadata": {},
   "outputs": [],
   "source": [
    "data.dropna(subset = ['Height','Weight','Math Score','Science Score'], inplace = True)"
   ]
  },
  {
   "cell_type": "code",
   "execution_count": 68,
   "id": "01a4f3fb",
   "metadata": {},
   "outputs": [
    {
     "data": {
      "text/plain": [
       "(91, 7)"
      ]
     },
     "execution_count": 68,
     "metadata": {},
     "output_type": "execute_result"
    }
   ],
   "source": [
    "data.shape"
   ]
  },
  {
   "cell_type": "code",
   "execution_count": 69,
   "id": "7c31af09",
   "metadata": {},
   "outputs": [
    {
     "data": {
      "text/plain": [
       "Age                    0\n",
       "Gender                 0\n",
       "Height                 0\n",
       "Weight                 0\n",
       "Math Score             0\n",
       "Science Score          0\n",
       "Overall Performance    0\n",
       "dtype: int64"
      ]
     },
     "execution_count": 69,
     "metadata": {},
     "output_type": "execute_result"
    }
   ],
   "source": [
    "data.isna().sum()"
   ]
  },
  {
   "cell_type": "code",
   "execution_count": 73,
   "id": "7ac0a3ba",
   "metadata": {},
   "outputs": [],
   "source": [
    "data = data[data['Weight']>0]"
   ]
  },
  {
   "cell_type": "code",
   "execution_count": 74,
   "id": "3d80743a",
   "metadata": {},
   "outputs": [],
   "source": [
    "data = data[data['Math Score']>0]"
   ]
  },
  {
   "cell_type": "code",
   "execution_count": 75,
   "id": "81a3b3c0",
   "metadata": {},
   "outputs": [],
   "source": [
    "data = data[data['Science Score']>0]"
   ]
  },
  {
   "cell_type": "code",
   "execution_count": 76,
   "id": "38b72f7c",
   "metadata": {},
   "outputs": [
    {
     "data": {
      "text/plain": [
       "(89, 7)"
      ]
     },
     "execution_count": 76,
     "metadata": {},
     "output_type": "execute_result"
    }
   ],
   "source": [
    "data.shape"
   ]
  },
  {
   "cell_type": "code",
   "execution_count": 77,
   "id": "27682358",
   "metadata": {},
   "outputs": [
    {
     "data": {
      "text/html": [
       "<div>\n",
       "<style scoped>\n",
       "    .dataframe tbody tr th:only-of-type {\n",
       "        vertical-align: middle;\n",
       "    }\n",
       "\n",
       "    .dataframe tbody tr th {\n",
       "        vertical-align: top;\n",
       "    }\n",
       "\n",
       "    .dataframe thead th {\n",
       "        text-align: right;\n",
       "    }\n",
       "</style>\n",
       "<table border=\"1\" class=\"dataframe\">\n",
       "  <thead>\n",
       "    <tr style=\"text-align: right;\">\n",
       "      <th></th>\n",
       "      <th>Age</th>\n",
       "      <th>Gender</th>\n",
       "      <th>Height</th>\n",
       "      <th>Weight</th>\n",
       "      <th>Math Score</th>\n",
       "      <th>Science Score</th>\n",
       "      <th>Overall Performance</th>\n",
       "    </tr>\n",
       "  </thead>\n",
       "  <tbody>\n",
       "    <tr>\n",
       "      <th>0</th>\n",
       "      <td>18</td>\n",
       "      <td>Female</td>\n",
       "      <td>169.0</td>\n",
       "      <td>56</td>\n",
       "      <td>63.0</td>\n",
       "      <td>70</td>\n",
       "      <td>Excellent</td>\n",
       "    </tr>\n",
       "    <tr>\n",
       "      <th>1</th>\n",
       "      <td>21</td>\n",
       "      <td>Male</td>\n",
       "      <td>183.0</td>\n",
       "      <td>57</td>\n",
       "      <td>57.0</td>\n",
       "      <td>57</td>\n",
       "      <td>Poor</td>\n",
       "    </tr>\n",
       "    <tr>\n",
       "      <th>2</th>\n",
       "      <td>21</td>\n",
       "      <td>Male</td>\n",
       "      <td>182.0</td>\n",
       "      <td>68</td>\n",
       "      <td>66.0</td>\n",
       "      <td>53</td>\n",
       "      <td>Good</td>\n",
       "    </tr>\n",
       "    <tr>\n",
       "      <th>3</th>\n",
       "      <td>57</td>\n",
       "      <td>Female</td>\n",
       "      <td>186.0</td>\n",
       "      <td>78</td>\n",
       "      <td>72.0</td>\n",
       "      <td>71</td>\n",
       "      <td>Poor</td>\n",
       "    </tr>\n",
       "    <tr>\n",
       "      <th>5</th>\n",
       "      <td>37</td>\n",
       "      <td>Female</td>\n",
       "      <td>1000.0</td>\n",
       "      <td>69</td>\n",
       "      <td>75.0</td>\n",
       "      <td>94</td>\n",
       "      <td>Poor</td>\n",
       "    </tr>\n",
       "    <tr>\n",
       "      <th>...</th>\n",
       "      <td>...</td>\n",
       "      <td>...</td>\n",
       "      <td>...</td>\n",
       "      <td>...</td>\n",
       "      <td>...</td>\n",
       "      <td>...</td>\n",
       "      <td>...</td>\n",
       "    </tr>\n",
       "    <tr>\n",
       "      <th>94</th>\n",
       "      <td>23</td>\n",
       "      <td>Female</td>\n",
       "      <td>189.0</td>\n",
       "      <td>94</td>\n",
       "      <td>59.0</td>\n",
       "      <td>78</td>\n",
       "      <td>Excellent</td>\n",
       "    </tr>\n",
       "    <tr>\n",
       "      <th>95</th>\n",
       "      <td>37</td>\n",
       "      <td>Female</td>\n",
       "      <td>189.0</td>\n",
       "      <td>63</td>\n",
       "      <td>55.0</td>\n",
       "      <td>64</td>\n",
       "      <td>Poor</td>\n",
       "    </tr>\n",
       "    <tr>\n",
       "      <th>96</th>\n",
       "      <td>18</td>\n",
       "      <td>Male</td>\n",
       "      <td>161.0</td>\n",
       "      <td>56</td>\n",
       "      <td>83.0</td>\n",
       "      <td>87</td>\n",
       "      <td>Excellent</td>\n",
       "    </tr>\n",
       "    <tr>\n",
       "      <th>98</th>\n",
       "      <td>52</td>\n",
       "      <td>Male</td>\n",
       "      <td>180.0</td>\n",
       "      <td>89</td>\n",
       "      <td>80.0</td>\n",
       "      <td>86</td>\n",
       "      <td>Poor</td>\n",
       "    </tr>\n",
       "    <tr>\n",
       "      <th>99</th>\n",
       "      <td>0</td>\n",
       "      <td>Male</td>\n",
       "      <td>167.0</td>\n",
       "      <td>512</td>\n",
       "      <td>58.0</td>\n",
       "      <td>81</td>\n",
       "      <td>Good</td>\n",
       "    </tr>\n",
       "  </tbody>\n",
       "</table>\n",
       "<p>89 rows × 7 columns</p>\n",
       "</div>"
      ],
      "text/plain": [
       "    Age  Gender  Height  Weight  Math Score  Science Score Overall Performance\n",
       "0    18  Female   169.0      56        63.0             70           Excellent\n",
       "1    21    Male   183.0      57        57.0             57                Poor\n",
       "2    21    Male   182.0      68        66.0             53                Good\n",
       "3    57  Female   186.0      78        72.0             71                Poor\n",
       "5    37  Female  1000.0      69        75.0             94                Poor\n",
       "..  ...     ...     ...     ...         ...            ...                 ...\n",
       "94   23  Female   189.0      94        59.0             78           Excellent\n",
       "95   37  Female   189.0      63        55.0             64                Poor\n",
       "96   18    Male   161.0      56        83.0             87           Excellent\n",
       "98   52    Male   180.0      89        80.0             86                Poor\n",
       "99    0    Male   167.0     512        58.0             81                Good\n",
       "\n",
       "[89 rows x 7 columns]"
      ]
     },
     "execution_count": 77,
     "metadata": {},
     "output_type": "execute_result"
    }
   ],
   "source": [
    "data"
   ]
  },
  {
   "cell_type": "code",
   "execution_count": 78,
   "id": "9fa0fde2",
   "metadata": {},
   "outputs": [
    {
     "name": "stdout",
     "output_type": "stream",
     "text": [
      "Age\n",
      "Outliers =  Series([], Name: Age, dtype: int64)\n",
      "Height\n",
      "Outliers =  5    1000.0\n",
      "Name: Height, dtype: float64\n",
      "Weight\n",
      "Outliers =  99    512\n",
      "Name: Weight, dtype: int64\n",
      "Math Score\n",
      "Outliers =  Series([], Name: Math Score, dtype: float64)\n"
     ]
    }
   ],
   "source": [
    "#Script to find the outliers\n",
    "for col_name in data.select_dtypes(include=np.number).columns[:-1]:\n",
    "    print(col_name)\n",
    "    q1 = data[col_name].quantile(0.25)\n",
    "    q3 = data[col_name].quantile(0.75)\n",
    "    iqr = q3 - q1\n",
    "    \n",
    "    low = q1-1.5*iqr\n",
    "    high = q3+1.5*iqr\n",
    "    print(\"Outliers = \",data.loc[(data[col_name] < low) | (data[col_name] > high), col_name])\n",
    "    "
   ]
  },
  {
   "cell_type": "code",
   "execution_count": 81,
   "id": "28298109",
   "metadata": {},
   "outputs": [],
   "source": [
    "data = data[(data['Height']<200)]"
   ]
  },
  {
   "cell_type": "code",
   "execution_count": 82,
   "id": "7ad8e060",
   "metadata": {},
   "outputs": [],
   "source": [
    "data = data[(data['Height']>100)]"
   ]
  },
  {
   "cell_type": "code",
   "execution_count": 83,
   "id": "b22d884a",
   "metadata": {},
   "outputs": [
    {
     "data": {
      "text/plain": [
       "(88, 7)"
      ]
     },
     "execution_count": 83,
     "metadata": {},
     "output_type": "execute_result"
    }
   ],
   "source": [
    "data.shape"
   ]
  },
  {
   "cell_type": "code",
   "execution_count": 84,
   "id": "6a080fbb",
   "metadata": {},
   "outputs": [],
   "source": [
    "data = data[(data['Weight']<120)]"
   ]
  },
  {
   "cell_type": "code",
   "execution_count": 85,
   "id": "e33f3623",
   "metadata": {},
   "outputs": [
    {
     "data": {
      "text/plain": [
       "(87, 7)"
      ]
     },
     "execution_count": 85,
     "metadata": {},
     "output_type": "execute_result"
    }
   ],
   "source": [
    "data.shape"
   ]
  },
  {
   "cell_type": "code",
   "execution_count": 86,
   "id": "89d8df90",
   "metadata": {},
   "outputs": [
    {
     "name": "stdout",
     "output_type": "stream",
     "text": [
      "Age\n",
      "Outliers =  Series([], Name: Age, dtype: int64)\n",
      "Height\n",
      "Outliers =  Series([], Name: Height, dtype: float64)\n",
      "Weight\n",
      "Outliers =  Series([], Name: Weight, dtype: int64)\n",
      "Math Score\n",
      "Outliers =  Series([], Name: Math Score, dtype: float64)\n"
     ]
    }
   ],
   "source": [
    "#Script to find the outliers\n",
    "for col_name in data.select_dtypes(include=np.number).columns[:-1]:\n",
    "    print(col_name)\n",
    "    q1 = data[col_name].quantile(0.25)\n",
    "    q3 = data[col_name].quantile(0.75)\n",
    "    iqr = q3 - q1\n",
    "    \n",
    "    low = q1-1.5*iqr\n",
    "    high = q3+1.5*iqr\n",
    "    print(\"Outliers = \",data.loc[(data[col_name] < low) | (data[col_name] > high), col_name])\n",
    "    "
   ]
  },
  {
   "cell_type": "code",
   "execution_count": 87,
   "id": "ba5abd8a",
   "metadata": {},
   "outputs": [
    {
     "data": {
      "text/html": [
       "<div>\n",
       "<style scoped>\n",
       "    .dataframe tbody tr th:only-of-type {\n",
       "        vertical-align: middle;\n",
       "    }\n",
       "\n",
       "    .dataframe tbody tr th {\n",
       "        vertical-align: top;\n",
       "    }\n",
       "\n",
       "    .dataframe thead th {\n",
       "        text-align: right;\n",
       "    }\n",
       "</style>\n",
       "<table border=\"1\" class=\"dataframe\">\n",
       "  <thead>\n",
       "    <tr style=\"text-align: right;\">\n",
       "      <th></th>\n",
       "      <th>Age</th>\n",
       "      <th>Gender</th>\n",
       "      <th>Height</th>\n",
       "      <th>Weight</th>\n",
       "      <th>Math Score</th>\n",
       "      <th>Science Score</th>\n",
       "      <th>Overall Performance</th>\n",
       "    </tr>\n",
       "  </thead>\n",
       "  <tbody>\n",
       "    <tr>\n",
       "      <th>0</th>\n",
       "      <td>18</td>\n",
       "      <td>Female</td>\n",
       "      <td>169.0</td>\n",
       "      <td>56</td>\n",
       "      <td>63.0</td>\n",
       "      <td>70</td>\n",
       "      <td>Excellent</td>\n",
       "    </tr>\n",
       "    <tr>\n",
       "      <th>1</th>\n",
       "      <td>21</td>\n",
       "      <td>Male</td>\n",
       "      <td>183.0</td>\n",
       "      <td>57</td>\n",
       "      <td>57.0</td>\n",
       "      <td>57</td>\n",
       "      <td>Poor</td>\n",
       "    </tr>\n",
       "    <tr>\n",
       "      <th>2</th>\n",
       "      <td>21</td>\n",
       "      <td>Male</td>\n",
       "      <td>182.0</td>\n",
       "      <td>68</td>\n",
       "      <td>66.0</td>\n",
       "      <td>53</td>\n",
       "      <td>Good</td>\n",
       "    </tr>\n",
       "    <tr>\n",
       "      <th>3</th>\n",
       "      <td>57</td>\n",
       "      <td>Female</td>\n",
       "      <td>186.0</td>\n",
       "      <td>78</td>\n",
       "      <td>72.0</td>\n",
       "      <td>71</td>\n",
       "      <td>Poor</td>\n",
       "    </tr>\n",
       "    <tr>\n",
       "      <th>6</th>\n",
       "      <td>39</td>\n",
       "      <td>Female</td>\n",
       "      <td>181.0</td>\n",
       "      <td>99</td>\n",
       "      <td>58.0</td>\n",
       "      <td>53</td>\n",
       "      <td>Excellent</td>\n",
       "    </tr>\n",
       "    <tr>\n",
       "      <th>...</th>\n",
       "      <td>...</td>\n",
       "      <td>...</td>\n",
       "      <td>...</td>\n",
       "      <td>...</td>\n",
       "      <td>...</td>\n",
       "      <td>...</td>\n",
       "      <td>...</td>\n",
       "    </tr>\n",
       "    <tr>\n",
       "      <th>93</th>\n",
       "      <td>49</td>\n",
       "      <td>Male</td>\n",
       "      <td>171.0</td>\n",
       "      <td>59</td>\n",
       "      <td>95.0</td>\n",
       "      <td>52</td>\n",
       "      <td>Poor</td>\n",
       "    </tr>\n",
       "    <tr>\n",
       "      <th>94</th>\n",
       "      <td>23</td>\n",
       "      <td>Female</td>\n",
       "      <td>189.0</td>\n",
       "      <td>94</td>\n",
       "      <td>59.0</td>\n",
       "      <td>78</td>\n",
       "      <td>Excellent</td>\n",
       "    </tr>\n",
       "    <tr>\n",
       "      <th>95</th>\n",
       "      <td>37</td>\n",
       "      <td>Female</td>\n",
       "      <td>189.0</td>\n",
       "      <td>63</td>\n",
       "      <td>55.0</td>\n",
       "      <td>64</td>\n",
       "      <td>Poor</td>\n",
       "    </tr>\n",
       "    <tr>\n",
       "      <th>96</th>\n",
       "      <td>18</td>\n",
       "      <td>Male</td>\n",
       "      <td>161.0</td>\n",
       "      <td>56</td>\n",
       "      <td>83.0</td>\n",
       "      <td>87</td>\n",
       "      <td>Excellent</td>\n",
       "    </tr>\n",
       "    <tr>\n",
       "      <th>98</th>\n",
       "      <td>52</td>\n",
       "      <td>Male</td>\n",
       "      <td>180.0</td>\n",
       "      <td>89</td>\n",
       "      <td>80.0</td>\n",
       "      <td>86</td>\n",
       "      <td>Poor</td>\n",
       "    </tr>\n",
       "  </tbody>\n",
       "</table>\n",
       "<p>87 rows × 7 columns</p>\n",
       "</div>"
      ],
      "text/plain": [
       "    Age  Gender  Height  Weight  Math Score  Science Score Overall Performance\n",
       "0    18  Female   169.0      56        63.0             70           Excellent\n",
       "1    21    Male   183.0      57        57.0             57                Poor\n",
       "2    21    Male   182.0      68        66.0             53                Good\n",
       "3    57  Female   186.0      78        72.0             71                Poor\n",
       "6    39  Female   181.0      99        58.0             53           Excellent\n",
       "..  ...     ...     ...     ...         ...            ...                 ...\n",
       "93   49    Male   171.0      59        95.0             52                Poor\n",
       "94   23  Female   189.0      94        59.0             78           Excellent\n",
       "95   37  Female   189.0      63        55.0             64                Poor\n",
       "96   18    Male   161.0      56        83.0             87           Excellent\n",
       "98   52    Male   180.0      89        80.0             86                Poor\n",
       "\n",
       "[87 rows x 7 columns]"
      ]
     },
     "execution_count": 87,
     "metadata": {},
     "output_type": "execute_result"
    }
   ],
   "source": [
    "data"
   ]
  },
  {
   "cell_type": "code",
   "execution_count": 89,
   "id": "5e7c1469",
   "metadata": {},
   "outputs": [],
   "source": [
    "data_num = data.select_dtypes(include = np.number)"
   ]
  },
  {
   "cell_type": "code",
   "execution_count": 90,
   "id": "0fbfdd40",
   "metadata": {},
   "outputs": [
    {
     "data": {
      "text/html": [
       "<div>\n",
       "<style scoped>\n",
       "    .dataframe tbody tr th:only-of-type {\n",
       "        vertical-align: middle;\n",
       "    }\n",
       "\n",
       "    .dataframe tbody tr th {\n",
       "        vertical-align: top;\n",
       "    }\n",
       "\n",
       "    .dataframe thead th {\n",
       "        text-align: right;\n",
       "    }\n",
       "</style>\n",
       "<table border=\"1\" class=\"dataframe\">\n",
       "  <thead>\n",
       "    <tr style=\"text-align: right;\">\n",
       "      <th></th>\n",
       "      <th>Age</th>\n",
       "      <th>Height</th>\n",
       "      <th>Weight</th>\n",
       "      <th>Math Score</th>\n",
       "      <th>Science Score</th>\n",
       "    </tr>\n",
       "  </thead>\n",
       "  <tbody>\n",
       "    <tr>\n",
       "      <th>0</th>\n",
       "      <td>18</td>\n",
       "      <td>169.0</td>\n",
       "      <td>56</td>\n",
       "      <td>63.0</td>\n",
       "      <td>70</td>\n",
       "    </tr>\n",
       "    <tr>\n",
       "      <th>1</th>\n",
       "      <td>21</td>\n",
       "      <td>183.0</td>\n",
       "      <td>57</td>\n",
       "      <td>57.0</td>\n",
       "      <td>57</td>\n",
       "    </tr>\n",
       "    <tr>\n",
       "      <th>2</th>\n",
       "      <td>21</td>\n",
       "      <td>182.0</td>\n",
       "      <td>68</td>\n",
       "      <td>66.0</td>\n",
       "      <td>53</td>\n",
       "    </tr>\n",
       "    <tr>\n",
       "      <th>3</th>\n",
       "      <td>57</td>\n",
       "      <td>186.0</td>\n",
       "      <td>78</td>\n",
       "      <td>72.0</td>\n",
       "      <td>71</td>\n",
       "    </tr>\n",
       "    <tr>\n",
       "      <th>6</th>\n",
       "      <td>39</td>\n",
       "      <td>181.0</td>\n",
       "      <td>99</td>\n",
       "      <td>58.0</td>\n",
       "      <td>53</td>\n",
       "    </tr>\n",
       "    <tr>\n",
       "      <th>...</th>\n",
       "      <td>...</td>\n",
       "      <td>...</td>\n",
       "      <td>...</td>\n",
       "      <td>...</td>\n",
       "      <td>...</td>\n",
       "    </tr>\n",
       "    <tr>\n",
       "      <th>93</th>\n",
       "      <td>49</td>\n",
       "      <td>171.0</td>\n",
       "      <td>59</td>\n",
       "      <td>95.0</td>\n",
       "      <td>52</td>\n",
       "    </tr>\n",
       "    <tr>\n",
       "      <th>94</th>\n",
       "      <td>23</td>\n",
       "      <td>189.0</td>\n",
       "      <td>94</td>\n",
       "      <td>59.0</td>\n",
       "      <td>78</td>\n",
       "    </tr>\n",
       "    <tr>\n",
       "      <th>95</th>\n",
       "      <td>37</td>\n",
       "      <td>189.0</td>\n",
       "      <td>63</td>\n",
       "      <td>55.0</td>\n",
       "      <td>64</td>\n",
       "    </tr>\n",
       "    <tr>\n",
       "      <th>96</th>\n",
       "      <td>18</td>\n",
       "      <td>161.0</td>\n",
       "      <td>56</td>\n",
       "      <td>83.0</td>\n",
       "      <td>87</td>\n",
       "    </tr>\n",
       "    <tr>\n",
       "      <th>98</th>\n",
       "      <td>52</td>\n",
       "      <td>180.0</td>\n",
       "      <td>89</td>\n",
       "      <td>80.0</td>\n",
       "      <td>86</td>\n",
       "    </tr>\n",
       "  </tbody>\n",
       "</table>\n",
       "<p>87 rows × 5 columns</p>\n",
       "</div>"
      ],
      "text/plain": [
       "    Age  Height  Weight  Math Score  Science Score\n",
       "0    18   169.0      56        63.0             70\n",
       "1    21   183.0      57        57.0             57\n",
       "2    21   182.0      68        66.0             53\n",
       "3    57   186.0      78        72.0             71\n",
       "6    39   181.0      99        58.0             53\n",
       "..  ...     ...     ...         ...            ...\n",
       "93   49   171.0      59        95.0             52\n",
       "94   23   189.0      94        59.0             78\n",
       "95   37   189.0      63        55.0             64\n",
       "96   18   161.0      56        83.0             87\n",
       "98   52   180.0      89        80.0             86\n",
       "\n",
       "[87 rows x 5 columns]"
      ]
     },
     "execution_count": 90,
     "metadata": {},
     "output_type": "execute_result"
    }
   ],
   "source": [
    "data_num"
   ]
  },
  {
   "cell_type": "code",
   "execution_count": 101,
   "id": "3123b32c",
   "metadata": {},
   "outputs": [],
   "source": [
    "scaling = MinMaxScaler()"
   ]
  },
  {
   "cell_type": "code",
   "execution_count": 106,
   "id": "69b68d5f",
   "metadata": {},
   "outputs": [
    {
     "data": {
      "text/html": [
       "<div>\n",
       "<style scoped>\n",
       "    .dataframe tbody tr th:only-of-type {\n",
       "        vertical-align: middle;\n",
       "    }\n",
       "\n",
       "    .dataframe tbody tr th {\n",
       "        vertical-align: top;\n",
       "    }\n",
       "\n",
       "    .dataframe thead th {\n",
       "        text-align: right;\n",
       "    }\n",
       "</style>\n",
       "<table border=\"1\" class=\"dataframe\">\n",
       "  <thead>\n",
       "    <tr style=\"text-align: right;\">\n",
       "      <th></th>\n",
       "      <th>Age</th>\n",
       "      <th>Height</th>\n",
       "      <th>Weight</th>\n",
       "      <th>Math Score</th>\n",
       "      <th>Science Score</th>\n",
       "    </tr>\n",
       "  </thead>\n",
       "  <tbody>\n",
       "    <tr>\n",
       "      <th>0</th>\n",
       "      <td>0.000000</td>\n",
       "      <td>0.487179</td>\n",
       "      <td>0.122449</td>\n",
       "      <td>0.265306</td>\n",
       "      <td>0.12500</td>\n",
       "    </tr>\n",
       "    <tr>\n",
       "      <th>1</th>\n",
       "      <td>0.073171</td>\n",
       "      <td>0.846154</td>\n",
       "      <td>0.142857</td>\n",
       "      <td>0.142857</td>\n",
       "      <td>0.04375</td>\n",
       "    </tr>\n",
       "    <tr>\n",
       "      <th>2</th>\n",
       "      <td>0.073171</td>\n",
       "      <td>0.820513</td>\n",
       "      <td>0.367347</td>\n",
       "      <td>0.326531</td>\n",
       "      <td>0.01875</td>\n",
       "    </tr>\n",
       "    <tr>\n",
       "      <th>3</th>\n",
       "      <td>0.951220</td>\n",
       "      <td>0.923077</td>\n",
       "      <td>0.571429</td>\n",
       "      <td>0.448980</td>\n",
       "      <td>0.13125</td>\n",
       "    </tr>\n",
       "    <tr>\n",
       "      <th>4</th>\n",
       "      <td>0.512195</td>\n",
       "      <td>0.794872</td>\n",
       "      <td>1.000000</td>\n",
       "      <td>0.163265</td>\n",
       "      <td>0.01875</td>\n",
       "    </tr>\n",
       "    <tr>\n",
       "      <th>...</th>\n",
       "      <td>...</td>\n",
       "      <td>...</td>\n",
       "      <td>...</td>\n",
       "      <td>...</td>\n",
       "      <td>...</td>\n",
       "    </tr>\n",
       "    <tr>\n",
       "      <th>82</th>\n",
       "      <td>0.756098</td>\n",
       "      <td>0.538462</td>\n",
       "      <td>0.183673</td>\n",
       "      <td>0.918367</td>\n",
       "      <td>0.01250</td>\n",
       "    </tr>\n",
       "    <tr>\n",
       "      <th>83</th>\n",
       "      <td>0.121951</td>\n",
       "      <td>1.000000</td>\n",
       "      <td>0.897959</td>\n",
       "      <td>0.183673</td>\n",
       "      <td>0.17500</td>\n",
       "    </tr>\n",
       "    <tr>\n",
       "      <th>84</th>\n",
       "      <td>0.463415</td>\n",
       "      <td>1.000000</td>\n",
       "      <td>0.265306</td>\n",
       "      <td>0.102041</td>\n",
       "      <td>0.08750</td>\n",
       "    </tr>\n",
       "    <tr>\n",
       "      <th>85</th>\n",
       "      <td>0.000000</td>\n",
       "      <td>0.282051</td>\n",
       "      <td>0.122449</td>\n",
       "      <td>0.673469</td>\n",
       "      <td>0.23125</td>\n",
       "    </tr>\n",
       "    <tr>\n",
       "      <th>86</th>\n",
       "      <td>0.829268</td>\n",
       "      <td>0.769231</td>\n",
       "      <td>0.795918</td>\n",
       "      <td>0.612245</td>\n",
       "      <td>0.22500</td>\n",
       "    </tr>\n",
       "  </tbody>\n",
       "</table>\n",
       "<p>87 rows × 5 columns</p>\n",
       "</div>"
      ],
      "text/plain": [
       "         Age    Height    Weight  Math Score  Science Score\n",
       "0   0.000000  0.487179  0.122449    0.265306        0.12500\n",
       "1   0.073171  0.846154  0.142857    0.142857        0.04375\n",
       "2   0.073171  0.820513  0.367347    0.326531        0.01875\n",
       "3   0.951220  0.923077  0.571429    0.448980        0.13125\n",
       "4   0.512195  0.794872  1.000000    0.163265        0.01875\n",
       "..       ...       ...       ...         ...            ...\n",
       "82  0.756098  0.538462  0.183673    0.918367        0.01250\n",
       "83  0.121951  1.000000  0.897959    0.183673        0.17500\n",
       "84  0.463415  1.000000  0.265306    0.102041        0.08750\n",
       "85  0.000000  0.282051  0.122449    0.673469        0.23125\n",
       "86  0.829268  0.769231  0.795918    0.612245        0.22500\n",
       "\n",
       "[87 rows x 5 columns]"
      ]
     },
     "execution_count": 106,
     "metadata": {},
     "output_type": "execute_result"
    }
   ],
   "source": [
    "# sklearn onehot\n",
    "pd.DataFrame(scaling.fit_transform(data_num), columns = data_num.columns )"
   ]
  },
  {
   "cell_type": "code",
   "execution_count": 108,
   "id": "34367c64",
   "metadata": {},
   "outputs": [],
   "source": [
    "scaling = StandardScaler()\n",
    "data_scale = pd.DataFrame(scaling.fit_transform(data_num), columns = data_num.columns )"
   ]
  },
  {
   "cell_type": "code",
   "execution_count": 109,
   "id": "8a9edf7c",
   "metadata": {},
   "outputs": [
    {
     "data": {
      "text/html": [
       "<div>\n",
       "<style scoped>\n",
       "    .dataframe tbody tr th:only-of-type {\n",
       "        vertical-align: middle;\n",
       "    }\n",
       "\n",
       "    .dataframe tbody tr th {\n",
       "        vertical-align: top;\n",
       "    }\n",
       "\n",
       "    .dataframe thead th {\n",
       "        text-align: right;\n",
       "    }\n",
       "</style>\n",
       "<table border=\"1\" class=\"dataframe\">\n",
       "  <thead>\n",
       "    <tr style=\"text-align: right;\">\n",
       "      <th></th>\n",
       "      <th>Age</th>\n",
       "      <th>Height</th>\n",
       "      <th>Weight</th>\n",
       "      <th>Math Score</th>\n",
       "      <th>Science Score</th>\n",
       "    </tr>\n",
       "  </thead>\n",
       "  <tbody>\n",
       "    <tr>\n",
       "      <th>0</th>\n",
       "      <td>-1.491741</td>\n",
       "      <td>-0.228699</td>\n",
       "      <td>-1.316705</td>\n",
       "      <td>-0.757874</td>\n",
       "      <td>-0.277033</td>\n",
       "    </tr>\n",
       "    <tr>\n",
       "      <th>1</th>\n",
       "      <td>-1.258181</td>\n",
       "      <td>0.951622</td>\n",
       "      <td>-1.243834</td>\n",
       "      <td>-1.166985</td>\n",
       "      <td>-0.917779</td>\n",
       "    </tr>\n",
       "    <tr>\n",
       "      <th>2</th>\n",
       "      <td>-1.258181</td>\n",
       "      <td>0.867313</td>\n",
       "      <td>-0.442252</td>\n",
       "      <td>-0.553318</td>\n",
       "      <td>-1.114932</td>\n",
       "    </tr>\n",
       "    <tr>\n",
       "      <th>3</th>\n",
       "      <td>1.544538</td>\n",
       "      <td>1.204548</td>\n",
       "      <td>0.286459</td>\n",
       "      <td>-0.144208</td>\n",
       "      <td>-0.227745</td>\n",
       "    </tr>\n",
       "    <tr>\n",
       "      <th>4</th>\n",
       "      <td>0.143178</td>\n",
       "      <td>0.783005</td>\n",
       "      <td>1.816751</td>\n",
       "      <td>-1.098799</td>\n",
       "      <td>-1.114932</td>\n",
       "    </tr>\n",
       "    <tr>\n",
       "      <th>...</th>\n",
       "      <td>...</td>\n",
       "      <td>...</td>\n",
       "      <td>...</td>\n",
       "      <td>...</td>\n",
       "      <td>...</td>\n",
       "    </tr>\n",
       "    <tr>\n",
       "      <th>82</th>\n",
       "      <td>0.921711</td>\n",
       "      <td>-0.060082</td>\n",
       "      <td>-1.098092</td>\n",
       "      <td>1.424050</td>\n",
       "      <td>-1.164220</td>\n",
       "    </tr>\n",
       "    <tr>\n",
       "      <th>83</th>\n",
       "      <td>-1.102474</td>\n",
       "      <td>1.457474</td>\n",
       "      <td>1.452396</td>\n",
       "      <td>-1.030614</td>\n",
       "      <td>0.117272</td>\n",
       "    </tr>\n",
       "    <tr>\n",
       "      <th>84</th>\n",
       "      <td>-0.012528</td>\n",
       "      <td>1.457474</td>\n",
       "      <td>-0.806607</td>\n",
       "      <td>-1.303355</td>\n",
       "      <td>-0.572762</td>\n",
       "    </tr>\n",
       "    <tr>\n",
       "      <th>85</th>\n",
       "      <td>-1.491741</td>\n",
       "      <td>-0.903169</td>\n",
       "      <td>-1.316705</td>\n",
       "      <td>0.605829</td>\n",
       "      <td>0.560865</td>\n",
       "    </tr>\n",
       "    <tr>\n",
       "      <th>86</th>\n",
       "      <td>1.155271</td>\n",
       "      <td>0.698696</td>\n",
       "      <td>1.088040</td>\n",
       "      <td>0.401273</td>\n",
       "      <td>0.511577</td>\n",
       "    </tr>\n",
       "  </tbody>\n",
       "</table>\n",
       "<p>87 rows × 5 columns</p>\n",
       "</div>"
      ],
      "text/plain": [
       "         Age    Height    Weight  Math Score  Science Score\n",
       "0  -1.491741 -0.228699 -1.316705   -0.757874      -0.277033\n",
       "1  -1.258181  0.951622 -1.243834   -1.166985      -0.917779\n",
       "2  -1.258181  0.867313 -0.442252   -0.553318      -1.114932\n",
       "3   1.544538  1.204548  0.286459   -0.144208      -0.227745\n",
       "4   0.143178  0.783005  1.816751   -1.098799      -1.114932\n",
       "..       ...       ...       ...         ...            ...\n",
       "82  0.921711 -0.060082 -1.098092    1.424050      -1.164220\n",
       "83 -1.102474  1.457474  1.452396   -1.030614       0.117272\n",
       "84 -0.012528  1.457474 -0.806607   -1.303355      -0.572762\n",
       "85 -1.491741 -0.903169 -1.316705    0.605829       0.560865\n",
       "86  1.155271  0.698696  1.088040    0.401273       0.511577\n",
       "\n",
       "[87 rows x 5 columns]"
      ]
     },
     "execution_count": 109,
     "metadata": {},
     "output_type": "execute_result"
    }
   ],
   "source": [
    "data_scale"
   ]
  },
  {
   "cell_type": "code",
   "execution_count": 110,
   "id": "9bf2f0ec",
   "metadata": {},
   "outputs": [],
   "source": [
    "data_cat = data.select_dtypes(exclude = np.number)"
   ]
  },
  {
   "cell_type": "code",
   "execution_count": 111,
   "id": "f5e130a0",
   "metadata": {},
   "outputs": [
    {
     "data": {
      "text/html": [
       "<div>\n",
       "<style scoped>\n",
       "    .dataframe tbody tr th:only-of-type {\n",
       "        vertical-align: middle;\n",
       "    }\n",
       "\n",
       "    .dataframe tbody tr th {\n",
       "        vertical-align: top;\n",
       "    }\n",
       "\n",
       "    .dataframe thead th {\n",
       "        text-align: right;\n",
       "    }\n",
       "</style>\n",
       "<table border=\"1\" class=\"dataframe\">\n",
       "  <thead>\n",
       "    <tr style=\"text-align: right;\">\n",
       "      <th></th>\n",
       "      <th>Gender</th>\n",
       "      <th>Overall Performance</th>\n",
       "    </tr>\n",
       "  </thead>\n",
       "  <tbody>\n",
       "    <tr>\n",
       "      <th>0</th>\n",
       "      <td>Female</td>\n",
       "      <td>Excellent</td>\n",
       "    </tr>\n",
       "    <tr>\n",
       "      <th>1</th>\n",
       "      <td>Male</td>\n",
       "      <td>Poor</td>\n",
       "    </tr>\n",
       "    <tr>\n",
       "      <th>2</th>\n",
       "      <td>Male</td>\n",
       "      <td>Good</td>\n",
       "    </tr>\n",
       "    <tr>\n",
       "      <th>3</th>\n",
       "      <td>Female</td>\n",
       "      <td>Poor</td>\n",
       "    </tr>\n",
       "    <tr>\n",
       "      <th>6</th>\n",
       "      <td>Female</td>\n",
       "      <td>Excellent</td>\n",
       "    </tr>\n",
       "    <tr>\n",
       "      <th>...</th>\n",
       "      <td>...</td>\n",
       "      <td>...</td>\n",
       "    </tr>\n",
       "    <tr>\n",
       "      <th>93</th>\n",
       "      <td>Male</td>\n",
       "      <td>Poor</td>\n",
       "    </tr>\n",
       "    <tr>\n",
       "      <th>94</th>\n",
       "      <td>Female</td>\n",
       "      <td>Excellent</td>\n",
       "    </tr>\n",
       "    <tr>\n",
       "      <th>95</th>\n",
       "      <td>Female</td>\n",
       "      <td>Poor</td>\n",
       "    </tr>\n",
       "    <tr>\n",
       "      <th>96</th>\n",
       "      <td>Male</td>\n",
       "      <td>Excellent</td>\n",
       "    </tr>\n",
       "    <tr>\n",
       "      <th>98</th>\n",
       "      <td>Male</td>\n",
       "      <td>Poor</td>\n",
       "    </tr>\n",
       "  </tbody>\n",
       "</table>\n",
       "<p>87 rows × 2 columns</p>\n",
       "</div>"
      ],
      "text/plain": [
       "    Gender Overall Performance\n",
       "0   Female           Excellent\n",
       "1     Male                Poor\n",
       "2     Male                Good\n",
       "3   Female                Poor\n",
       "6   Female           Excellent\n",
       "..     ...                 ...\n",
       "93    Male                Poor\n",
       "94  Female           Excellent\n",
       "95  Female                Poor\n",
       "96    Male           Excellent\n",
       "98    Male                Poor\n",
       "\n",
       "[87 rows x 2 columns]"
      ]
     },
     "execution_count": 111,
     "metadata": {},
     "output_type": "execute_result"
    }
   ],
   "source": [
    "data_cat"
   ]
  },
  {
   "cell_type": "code",
   "execution_count": 112,
   "id": "8f4d8ecb",
   "metadata": {},
   "outputs": [
    {
     "data": {
      "text/plain": [
       "0     Female\n",
       "1       Male\n",
       "2       Male\n",
       "3     Female\n",
       "6     Female\n",
       "       ...  \n",
       "93      Male\n",
       "94    Female\n",
       "95    Female\n",
       "96      Male\n",
       "98      Male\n",
       "Name: Gender, Length: 87, dtype: object"
      ]
     },
     "execution_count": 112,
     "metadata": {},
     "output_type": "execute_result"
    }
   ],
   "source": [
    "data_cat['Gender']"
   ]
  },
  {
   "cell_type": "code",
   "execution_count": 114,
   "id": "5fbb90e4",
   "metadata": {},
   "outputs": [],
   "source": [
    "data_gender_cat = pd.get_dummies(data_cat['Gender'])"
   ]
  },
  {
   "cell_type": "code",
   "execution_count": 115,
   "id": "74fe984e",
   "metadata": {},
   "outputs": [
    {
     "data": {
      "text/plain": [
       "0     Excellent\n",
       "1          Poor\n",
       "2          Good\n",
       "3          Poor\n",
       "6     Excellent\n",
       "        ...    \n",
       "93         Poor\n",
       "94    Excellent\n",
       "95         Poor\n",
       "96    Excellent\n",
       "98         Poor\n",
       "Name: Overall Performance, Length: 87, dtype: object"
      ]
     },
     "execution_count": 115,
     "metadata": {},
     "output_type": "execute_result"
    }
   ],
   "source": [
    "data['Overall Performance']"
   ]
  },
  {
   "cell_type": "code",
   "execution_count": 117,
   "id": "13be80a2",
   "metadata": {},
   "outputs": [],
   "source": [
    "data['Overall Performance'].replace({'Poor':0, 'Good':1, 'Excellent':2}, inplace = True)"
   ]
  },
  {
   "cell_type": "code",
   "execution_count": 118,
   "id": "a9d7e398",
   "metadata": {},
   "outputs": [
    {
     "data": {
      "text/plain": [
       "0     2\n",
       "1     0\n",
       "2     1\n",
       "3     0\n",
       "6     2\n",
       "     ..\n",
       "93    0\n",
       "94    2\n",
       "95    0\n",
       "96    2\n",
       "98    0\n",
       "Name: Overall Performance, Length: 87, dtype: int64"
      ]
     },
     "execution_count": 118,
     "metadata": {},
     "output_type": "execute_result"
    }
   ],
   "source": [
    "data['Overall Performance']"
   ]
  },
  {
   "cell_type": "code",
   "execution_count": 132,
   "id": "3b278215",
   "metadata": {},
   "outputs": [
    {
     "data": {
      "text/plain": [
       "0     2\n",
       "1     0\n",
       "2     1\n",
       "3     0\n",
       "6     2\n",
       "     ..\n",
       "93    0\n",
       "94    2\n",
       "95    0\n",
       "96    2\n",
       "98    0\n",
       "Name: Overall Performance, Length: 87, dtype: int64"
      ]
     },
     "execution_count": 132,
     "metadata": {},
     "output_type": "execute_result"
    }
   ],
   "source": [
    "data['Overall Performance']"
   ]
  },
  {
   "cell_type": "code",
   "execution_count": 133,
   "id": "52a86a71",
   "metadata": {},
   "outputs": [
    {
     "data": {
      "text/html": [
       "<div>\n",
       "<style scoped>\n",
       "    .dataframe tbody tr th:only-of-type {\n",
       "        vertical-align: middle;\n",
       "    }\n",
       "\n",
       "    .dataframe tbody tr th {\n",
       "        vertical-align: top;\n",
       "    }\n",
       "\n",
       "    .dataframe thead th {\n",
       "        text-align: right;\n",
       "    }\n",
       "</style>\n",
       "<table border=\"1\" class=\"dataframe\">\n",
       "  <thead>\n",
       "    <tr style=\"text-align: right;\">\n",
       "      <th></th>\n",
       "      <th>index</th>\n",
       "      <th>Overall Performance</th>\n",
       "    </tr>\n",
       "  </thead>\n",
       "  <tbody>\n",
       "    <tr>\n",
       "      <th>0</th>\n",
       "      <td>0</td>\n",
       "      <td>2</td>\n",
       "    </tr>\n",
       "    <tr>\n",
       "      <th>1</th>\n",
       "      <td>1</td>\n",
       "      <td>0</td>\n",
       "    </tr>\n",
       "    <tr>\n",
       "      <th>2</th>\n",
       "      <td>2</td>\n",
       "      <td>1</td>\n",
       "    </tr>\n",
       "    <tr>\n",
       "      <th>3</th>\n",
       "      <td>3</td>\n",
       "      <td>0</td>\n",
       "    </tr>\n",
       "    <tr>\n",
       "      <th>4</th>\n",
       "      <td>6</td>\n",
       "      <td>2</td>\n",
       "    </tr>\n",
       "    <tr>\n",
       "      <th>...</th>\n",
       "      <td>...</td>\n",
       "      <td>...</td>\n",
       "    </tr>\n",
       "    <tr>\n",
       "      <th>82</th>\n",
       "      <td>93</td>\n",
       "      <td>0</td>\n",
       "    </tr>\n",
       "    <tr>\n",
       "      <th>83</th>\n",
       "      <td>94</td>\n",
       "      <td>2</td>\n",
       "    </tr>\n",
       "    <tr>\n",
       "      <th>84</th>\n",
       "      <td>95</td>\n",
       "      <td>0</td>\n",
       "    </tr>\n",
       "    <tr>\n",
       "      <th>85</th>\n",
       "      <td>96</td>\n",
       "      <td>2</td>\n",
       "    </tr>\n",
       "    <tr>\n",
       "      <th>86</th>\n",
       "      <td>98</td>\n",
       "      <td>0</td>\n",
       "    </tr>\n",
       "  </tbody>\n",
       "</table>\n",
       "<p>87 rows × 2 columns</p>\n",
       "</div>"
      ],
      "text/plain": [
       "    index  Overall Performance\n",
       "0       0                    2\n",
       "1       1                    0\n",
       "2       2                    1\n",
       "3       3                    0\n",
       "4       6                    2\n",
       "..    ...                  ...\n",
       "82     93                    0\n",
       "83     94                    2\n",
       "84     95                    0\n",
       "85     96                    2\n",
       "86     98                    0\n",
       "\n",
       "[87 rows x 2 columns]"
      ]
     },
     "execution_count": 133,
     "metadata": {},
     "output_type": "execute_result"
    }
   ],
   "source": [
    "data['Overall Performance'].reset_index()"
   ]
  },
  {
   "cell_type": "code",
   "execution_count": 134,
   "id": "41a811d1",
   "metadata": {},
   "outputs": [
    {
     "data": {
      "text/html": [
       "<div>\n",
       "<style scoped>\n",
       "    .dataframe tbody tr th:only-of-type {\n",
       "        vertical-align: middle;\n",
       "    }\n",
       "\n",
       "    .dataframe tbody tr th {\n",
       "        vertical-align: top;\n",
       "    }\n",
       "\n",
       "    .dataframe thead th {\n",
       "        text-align: right;\n",
       "    }\n",
       "</style>\n",
       "<table border=\"1\" class=\"dataframe\">\n",
       "  <thead>\n",
       "    <tr style=\"text-align: right;\">\n",
       "      <th></th>\n",
       "      <th>Overall Performance</th>\n",
       "    </tr>\n",
       "  </thead>\n",
       "  <tbody>\n",
       "    <tr>\n",
       "      <th>0</th>\n",
       "      <td>2</td>\n",
       "    </tr>\n",
       "    <tr>\n",
       "      <th>1</th>\n",
       "      <td>0</td>\n",
       "    </tr>\n",
       "    <tr>\n",
       "      <th>2</th>\n",
       "      <td>1</td>\n",
       "    </tr>\n",
       "    <tr>\n",
       "      <th>3</th>\n",
       "      <td>0</td>\n",
       "    </tr>\n",
       "    <tr>\n",
       "      <th>4</th>\n",
       "      <td>2</td>\n",
       "    </tr>\n",
       "    <tr>\n",
       "      <th>...</th>\n",
       "      <td>...</td>\n",
       "    </tr>\n",
       "    <tr>\n",
       "      <th>82</th>\n",
       "      <td>0</td>\n",
       "    </tr>\n",
       "    <tr>\n",
       "      <th>83</th>\n",
       "      <td>2</td>\n",
       "    </tr>\n",
       "    <tr>\n",
       "      <th>84</th>\n",
       "      <td>0</td>\n",
       "    </tr>\n",
       "    <tr>\n",
       "      <th>85</th>\n",
       "      <td>2</td>\n",
       "    </tr>\n",
       "    <tr>\n",
       "      <th>86</th>\n",
       "      <td>0</td>\n",
       "    </tr>\n",
       "  </tbody>\n",
       "</table>\n",
       "<p>87 rows × 1 columns</p>\n",
       "</div>"
      ],
      "text/plain": [
       "    Overall Performance\n",
       "0                     2\n",
       "1                     0\n",
       "2                     1\n",
       "3                     0\n",
       "4                     2\n",
       "..                  ...\n",
       "82                    0\n",
       "83                    2\n",
       "84                    0\n",
       "85                    2\n",
       "86                    0\n",
       "\n",
       "[87 rows x 1 columns]"
      ]
     },
     "execution_count": 134,
     "metadata": {},
     "output_type": "execute_result"
    }
   ],
   "source": [
    "data['Overall Performance'].reset_index().drop(columns = 'index')"
   ]
  },
  {
   "cell_type": "code",
   "execution_count": 127,
   "id": "dc841db9",
   "metadata": {},
   "outputs": [],
   "source": [
    "data_scale = data_scale.reset_index().drop(columns = 'index')\n",
    "data_gender_cat = data_gender_cat.reset_index().drop(columns = 'index')\n",
    "data_per_cat = data['Overall Performance'].reset_index().drop(columns = 'index')\n"
   ]
  },
  {
   "cell_type": "code",
   "execution_count": 131,
   "id": "9153571a",
   "metadata": {},
   "outputs": [
    {
     "data": {
      "text/html": [
       "<div>\n",
       "<style scoped>\n",
       "    .dataframe tbody tr th:only-of-type {\n",
       "        vertical-align: middle;\n",
       "    }\n",
       "\n",
       "    .dataframe tbody tr th {\n",
       "        vertical-align: top;\n",
       "    }\n",
       "\n",
       "    .dataframe thead th {\n",
       "        text-align: right;\n",
       "    }\n",
       "</style>\n",
       "<table border=\"1\" class=\"dataframe\">\n",
       "  <thead>\n",
       "    <tr style=\"text-align: right;\">\n",
       "      <th></th>\n",
       "      <th>Age</th>\n",
       "      <th>Height</th>\n",
       "      <th>Weight</th>\n",
       "      <th>Math Score</th>\n",
       "      <th>Science Score</th>\n",
       "      <th>Female</th>\n",
       "      <th>Male</th>\n",
       "      <th>Overall Performance</th>\n",
       "    </tr>\n",
       "  </thead>\n",
       "  <tbody>\n",
       "    <tr>\n",
       "      <th>0</th>\n",
       "      <td>-1.491741</td>\n",
       "      <td>-0.228699</td>\n",
       "      <td>-1.316705</td>\n",
       "      <td>-0.757874</td>\n",
       "      <td>-0.277033</td>\n",
       "      <td>1</td>\n",
       "      <td>0</td>\n",
       "      <td>2</td>\n",
       "    </tr>\n",
       "    <tr>\n",
       "      <th>1</th>\n",
       "      <td>-1.258181</td>\n",
       "      <td>0.951622</td>\n",
       "      <td>-1.243834</td>\n",
       "      <td>-1.166985</td>\n",
       "      <td>-0.917779</td>\n",
       "      <td>0</td>\n",
       "      <td>1</td>\n",
       "      <td>0</td>\n",
       "    </tr>\n",
       "    <tr>\n",
       "      <th>2</th>\n",
       "      <td>-1.258181</td>\n",
       "      <td>0.867313</td>\n",
       "      <td>-0.442252</td>\n",
       "      <td>-0.553318</td>\n",
       "      <td>-1.114932</td>\n",
       "      <td>0</td>\n",
       "      <td>1</td>\n",
       "      <td>1</td>\n",
       "    </tr>\n",
       "    <tr>\n",
       "      <th>3</th>\n",
       "      <td>1.544538</td>\n",
       "      <td>1.204548</td>\n",
       "      <td>0.286459</td>\n",
       "      <td>-0.144208</td>\n",
       "      <td>-0.227745</td>\n",
       "      <td>1</td>\n",
       "      <td>0</td>\n",
       "      <td>0</td>\n",
       "    </tr>\n",
       "    <tr>\n",
       "      <th>4</th>\n",
       "      <td>0.143178</td>\n",
       "      <td>0.783005</td>\n",
       "      <td>1.816751</td>\n",
       "      <td>-1.098799</td>\n",
       "      <td>-1.114932</td>\n",
       "      <td>1</td>\n",
       "      <td>0</td>\n",
       "      <td>2</td>\n",
       "    </tr>\n",
       "    <tr>\n",
       "      <th>...</th>\n",
       "      <td>...</td>\n",
       "      <td>...</td>\n",
       "      <td>...</td>\n",
       "      <td>...</td>\n",
       "      <td>...</td>\n",
       "      <td>...</td>\n",
       "      <td>...</td>\n",
       "      <td>...</td>\n",
       "    </tr>\n",
       "    <tr>\n",
       "      <th>82</th>\n",
       "      <td>0.921711</td>\n",
       "      <td>-0.060082</td>\n",
       "      <td>-1.098092</td>\n",
       "      <td>1.424050</td>\n",
       "      <td>-1.164220</td>\n",
       "      <td>0</td>\n",
       "      <td>1</td>\n",
       "      <td>0</td>\n",
       "    </tr>\n",
       "    <tr>\n",
       "      <th>83</th>\n",
       "      <td>-1.102474</td>\n",
       "      <td>1.457474</td>\n",
       "      <td>1.452396</td>\n",
       "      <td>-1.030614</td>\n",
       "      <td>0.117272</td>\n",
       "      <td>1</td>\n",
       "      <td>0</td>\n",
       "      <td>2</td>\n",
       "    </tr>\n",
       "    <tr>\n",
       "      <th>84</th>\n",
       "      <td>-0.012528</td>\n",
       "      <td>1.457474</td>\n",
       "      <td>-0.806607</td>\n",
       "      <td>-1.303355</td>\n",
       "      <td>-0.572762</td>\n",
       "      <td>1</td>\n",
       "      <td>0</td>\n",
       "      <td>0</td>\n",
       "    </tr>\n",
       "    <tr>\n",
       "      <th>85</th>\n",
       "      <td>-1.491741</td>\n",
       "      <td>-0.903169</td>\n",
       "      <td>-1.316705</td>\n",
       "      <td>0.605829</td>\n",
       "      <td>0.560865</td>\n",
       "      <td>0</td>\n",
       "      <td>1</td>\n",
       "      <td>2</td>\n",
       "    </tr>\n",
       "    <tr>\n",
       "      <th>86</th>\n",
       "      <td>1.155271</td>\n",
       "      <td>0.698696</td>\n",
       "      <td>1.088040</td>\n",
       "      <td>0.401273</td>\n",
       "      <td>0.511577</td>\n",
       "      <td>0</td>\n",
       "      <td>1</td>\n",
       "      <td>0</td>\n",
       "    </tr>\n",
       "  </tbody>\n",
       "</table>\n",
       "<p>87 rows × 8 columns</p>\n",
       "</div>"
      ],
      "text/plain": [
       "         Age    Height    Weight  Math Score  Science Score  Female  Male  \\\n",
       "0  -1.491741 -0.228699 -1.316705   -0.757874      -0.277033       1     0   \n",
       "1  -1.258181  0.951622 -1.243834   -1.166985      -0.917779       0     1   \n",
       "2  -1.258181  0.867313 -0.442252   -0.553318      -1.114932       0     1   \n",
       "3   1.544538  1.204548  0.286459   -0.144208      -0.227745       1     0   \n",
       "4   0.143178  0.783005  1.816751   -1.098799      -1.114932       1     0   \n",
       "..       ...       ...       ...         ...            ...     ...   ...   \n",
       "82  0.921711 -0.060082 -1.098092    1.424050      -1.164220       0     1   \n",
       "83 -1.102474  1.457474  1.452396   -1.030614       0.117272       1     0   \n",
       "84 -0.012528  1.457474 -0.806607   -1.303355      -0.572762       1     0   \n",
       "85 -1.491741 -0.903169 -1.316705    0.605829       0.560865       0     1   \n",
       "86  1.155271  0.698696  1.088040    0.401273       0.511577       0     1   \n",
       "\n",
       "    Overall Performance  \n",
       "0                     2  \n",
       "1                     0  \n",
       "2                     1  \n",
       "3                     0  \n",
       "4                     2  \n",
       "..                  ...  \n",
       "82                    0  \n",
       "83                    2  \n",
       "84                    0  \n",
       "85                    2  \n",
       "86                    0  \n",
       "\n",
       "[87 rows x 8 columns]"
      ]
     },
     "execution_count": 131,
     "metadata": {},
     "output_type": "execute_result"
    }
   ],
   "source": [
    "pd.concat([data_scale, data_gender_cat, data_per_cat], axis = 1)"
   ]
  },
  {
   "cell_type": "code",
   "execution_count": 141,
   "id": "cece8e72",
   "metadata": {},
   "outputs": [
    {
     "data": {
      "text/plain": [
       "RangeIndex(start=0, stop=87, step=1)"
      ]
     },
     "execution_count": 141,
     "metadata": {},
     "output_type": "execute_result"
    }
   ],
   "source": [
    "data_scale.index"
   ]
  },
  {
   "cell_type": "code",
   "execution_count": 142,
   "id": "31e577b8",
   "metadata": {},
   "outputs": [
    {
     "data": {
      "text/plain": [
       "RangeIndex(start=0, stop=87, step=1)"
      ]
     },
     "execution_count": 142,
     "metadata": {},
     "output_type": "execute_result"
    }
   ],
   "source": [
    "data_gender_cat.index"
   ]
  },
  {
   "cell_type": "code",
   "execution_count": null,
   "id": "bed7e2df",
   "metadata": {},
   "outputs": [],
   "source": []
  }
 ],
 "metadata": {
  "kernelspec": {
   "display_name": "Python 3 (ipykernel)",
   "language": "python",
   "name": "python3"
  },
  "language_info": {
   "codemirror_mode": {
    "name": "ipython",
    "version": 3
   },
   "file_extension": ".py",
   "mimetype": "text/x-python",
   "name": "python",
   "nbconvert_exporter": "python",
   "pygments_lexer": "ipython3",
   "version": "3.9.13"
  }
 },
 "nbformat": 4,
 "nbformat_minor": 5
}
