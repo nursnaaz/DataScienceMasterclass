{
 "cells": [
  {
   "cell_type": "code",
   "execution_count": 2,
   "id": "5a60ecf4",
   "metadata": {},
   "outputs": [],
   "source": [
    "# model = Equation (coeff, intercept)"
   ]
  },
  {
   "cell_type": "code",
   "execution_count": null,
   "id": "59337e39",
   "metadata": {},
   "outputs": [],
   "source": [
    "# save model\n",
    "# portable ship\n",
    "# load model\n",
    "# predict"
   ]
  },
  {
   "cell_type": "code",
   "execution_count": null,
   "id": "fedeb521",
   "metadata": {},
   "outputs": [],
   "source": [
    "train \n",
    "test\n",
    "\n",
    "Hackathon\n",
    "train+test -> Preprocessing (Hackathon)\n",
    "\n",
    "train - flight price - carrier - indigo, airindia, jet\n",
    "\n",
    "testflight price - carrier - indigo, airindia, jet, vistara\n",
    "\n",
    "\n",
    "combined and onehot -> no problem in forseen\n",
    "\n",
    "missing value -> imputation -> mean -> train+test\n",
    "\n",
    "\n",
    "Realworld\n",
    "Train - Preprocessing\n",
    "\n",
    "\n",
    "\n",
    "Test - We don't have - Preprocess -> predict\n",
    "\n",
    "\n",
    "Extra Burden on the devepoler to repeat the step of preprocessing \n",
    "\n",
    "Ship the processing code with the model\n",
    "\n",
    "\n",
    "\n",
    "train - flight price - carrier - indigo, airindia, jet\n",
    "\n",
    "test - flight price - carrier - indigo, airindia, jet, vistara\n",
    "\n",
    "\n",
    "separatly did the onehot -> problem \n",
    "\n",
    "\n",
    "missing value -> imputation -> mean -> train\n",
    "\n"
   ]
  },
  {
   "cell_type": "raw",
   "id": "eec9086b",
   "metadata": {},
   "source": [
    "preprocessing separately\n",
    "model separately\n",
    "\n",
    "\n",
    "Package preprocessing step + model -> one oject => Pipeline\n"
   ]
  },
  {
   "cell_type": "code",
   "execution_count": 144,
   "id": "7e658d1f",
   "metadata": {},
   "outputs": [],
   "source": [
    "import pandas as pd\n",
    "import numpy as np\n",
    "\n",
    "from sklearn.impute import SimpleImputer\n",
    "from sklearn.preprocessing import OneHotEncoder\n",
    "from sklearn.preprocessing import MinMaxScaler\n",
    "\n",
    "\n",
    "from sklearn.linear_model import LinearRegression"
   ]
  },
  {
   "cell_type": "code",
   "execution_count": 158,
   "id": "9902cc88",
   "metadata": {},
   "outputs": [],
   "source": [
    "data = pd.DataFrame(\n",
    "{\n",
    "    'name':['maruti','honda','maruti','toyota','honda','toyota'],\n",
    "    'fuel_type':['petrol','diesel','petrol','diesel','petrol','diesel'],\n",
    "    'km_driven' :[2000,4000,100,6344,1234,np.NaN],\n",
    "    'price' :[200000,400000,424232,800000,500000,900000]\n",
    "    \n",
    "}\n",
    ")\n",
    " "
   ]
  },
  {
   "cell_type": "code",
   "execution_count": 159,
   "id": "3ce660ce",
   "metadata": {},
   "outputs": [
    {
     "data": {
      "text/html": [
       "<div>\n",
       "<style scoped>\n",
       "    .dataframe tbody tr th:only-of-type {\n",
       "        vertical-align: middle;\n",
       "    }\n",
       "\n",
       "    .dataframe tbody tr th {\n",
       "        vertical-align: top;\n",
       "    }\n",
       "\n",
       "    .dataframe thead th {\n",
       "        text-align: right;\n",
       "    }\n",
       "</style>\n",
       "<table border=\"1\" class=\"dataframe\">\n",
       "  <thead>\n",
       "    <tr style=\"text-align: right;\">\n",
       "      <th></th>\n",
       "      <th>name</th>\n",
       "      <th>fuel_type</th>\n",
       "      <th>km_driven</th>\n",
       "      <th>price</th>\n",
       "    </tr>\n",
       "  </thead>\n",
       "  <tbody>\n",
       "    <tr>\n",
       "      <th>0</th>\n",
       "      <td>maruti</td>\n",
       "      <td>petrol</td>\n",
       "      <td>2000.0</td>\n",
       "      <td>200000</td>\n",
       "    </tr>\n",
       "    <tr>\n",
       "      <th>1</th>\n",
       "      <td>honda</td>\n",
       "      <td>diesel</td>\n",
       "      <td>4000.0</td>\n",
       "      <td>400000</td>\n",
       "    </tr>\n",
       "    <tr>\n",
       "      <th>2</th>\n",
       "      <td>maruti</td>\n",
       "      <td>petrol</td>\n",
       "      <td>100.0</td>\n",
       "      <td>424232</td>\n",
       "    </tr>\n",
       "    <tr>\n",
       "      <th>3</th>\n",
       "      <td>toyota</td>\n",
       "      <td>diesel</td>\n",
       "      <td>6344.0</td>\n",
       "      <td>800000</td>\n",
       "    </tr>\n",
       "    <tr>\n",
       "      <th>4</th>\n",
       "      <td>honda</td>\n",
       "      <td>petrol</td>\n",
       "      <td>1234.0</td>\n",
       "      <td>500000</td>\n",
       "    </tr>\n",
       "    <tr>\n",
       "      <th>5</th>\n",
       "      <td>toyota</td>\n",
       "      <td>diesel</td>\n",
       "      <td>NaN</td>\n",
       "      <td>900000</td>\n",
       "    </tr>\n",
       "  </tbody>\n",
       "</table>\n",
       "</div>"
      ],
      "text/plain": [
       "     name fuel_type  km_driven   price\n",
       "0  maruti    petrol     2000.0  200000\n",
       "1   honda    diesel     4000.0  400000\n",
       "2  maruti    petrol      100.0  424232\n",
       "3  toyota    diesel     6344.0  800000\n",
       "4   honda    petrol     1234.0  500000\n",
       "5  toyota    diesel        NaN  900000"
      ]
     },
     "execution_count": 159,
     "metadata": {},
     "output_type": "execute_result"
    }
   ],
   "source": [
    "data"
   ]
  },
  {
   "cell_type": "code",
   "execution_count": 160,
   "id": "ebbf437b",
   "metadata": {},
   "outputs": [],
   "source": [
    "impute = SimpleImputer()\n",
    "imputed_data = impute.fit_transform(data[['km_driven']])"
   ]
  },
  {
   "cell_type": "code",
   "execution_count": 161,
   "id": "325f77d6",
   "metadata": {},
   "outputs": [],
   "source": [
    "data['km_driven'] = imputed_data"
   ]
  },
  {
   "cell_type": "code",
   "execution_count": 163,
   "id": "0719c119",
   "metadata": {},
   "outputs": [
    {
     "data": {
      "text/html": [
       "<div>\n",
       "<style scoped>\n",
       "    .dataframe tbody tr th:only-of-type {\n",
       "        vertical-align: middle;\n",
       "    }\n",
       "\n",
       "    .dataframe tbody tr th {\n",
       "        vertical-align: top;\n",
       "    }\n",
       "\n",
       "    .dataframe thead th {\n",
       "        text-align: right;\n",
       "    }\n",
       "</style>\n",
       "<table border=\"1\" class=\"dataframe\">\n",
       "  <thead>\n",
       "    <tr style=\"text-align: right;\">\n",
       "      <th></th>\n",
       "      <th>name</th>\n",
       "      <th>fuel_type</th>\n",
       "      <th>km_driven</th>\n",
       "      <th>price</th>\n",
       "    </tr>\n",
       "  </thead>\n",
       "  <tbody>\n",
       "    <tr>\n",
       "      <th>0</th>\n",
       "      <td>maruti</td>\n",
       "      <td>petrol</td>\n",
       "      <td>2000.0</td>\n",
       "      <td>200000</td>\n",
       "    </tr>\n",
       "    <tr>\n",
       "      <th>1</th>\n",
       "      <td>honda</td>\n",
       "      <td>diesel</td>\n",
       "      <td>4000.0</td>\n",
       "      <td>400000</td>\n",
       "    </tr>\n",
       "    <tr>\n",
       "      <th>2</th>\n",
       "      <td>maruti</td>\n",
       "      <td>petrol</td>\n",
       "      <td>100.0</td>\n",
       "      <td>424232</td>\n",
       "    </tr>\n",
       "    <tr>\n",
       "      <th>3</th>\n",
       "      <td>toyota</td>\n",
       "      <td>diesel</td>\n",
       "      <td>6344.0</td>\n",
       "      <td>800000</td>\n",
       "    </tr>\n",
       "    <tr>\n",
       "      <th>4</th>\n",
       "      <td>honda</td>\n",
       "      <td>petrol</td>\n",
       "      <td>1234.0</td>\n",
       "      <td>500000</td>\n",
       "    </tr>\n",
       "    <tr>\n",
       "      <th>5</th>\n",
       "      <td>toyota</td>\n",
       "      <td>diesel</td>\n",
       "      <td>2735.6</td>\n",
       "      <td>900000</td>\n",
       "    </tr>\n",
       "  </tbody>\n",
       "</table>\n",
       "</div>"
      ],
      "text/plain": [
       "     name fuel_type  km_driven   price\n",
       "0  maruti    petrol     2000.0  200000\n",
       "1   honda    diesel     4000.0  400000\n",
       "2  maruti    petrol      100.0  424232\n",
       "3  toyota    diesel     6344.0  800000\n",
       "4   honda    petrol     1234.0  500000\n",
       "5  toyota    diesel     2735.6  900000"
      ]
     },
     "execution_count": 163,
     "metadata": {},
     "output_type": "execute_result"
    }
   ],
   "source": [
    "data"
   ]
  },
  {
   "cell_type": "code",
   "execution_count": 164,
   "id": "67326c38",
   "metadata": {},
   "outputs": [
    {
     "data": {
      "text/html": [
       "<div>\n",
       "<style scoped>\n",
       "    .dataframe tbody tr th:only-of-type {\n",
       "        vertical-align: middle;\n",
       "    }\n",
       "\n",
       "    .dataframe tbody tr th {\n",
       "        vertical-align: top;\n",
       "    }\n",
       "\n",
       "    .dataframe thead th {\n",
       "        text-align: right;\n",
       "    }\n",
       "</style>\n",
       "<table border=\"1\" class=\"dataframe\">\n",
       "  <thead>\n",
       "    <tr style=\"text-align: right;\">\n",
       "      <th></th>\n",
       "      <th>name</th>\n",
       "      <th>fuel_type</th>\n",
       "      <th>km_driven</th>\n",
       "      <th>price</th>\n",
       "    </tr>\n",
       "  </thead>\n",
       "  <tbody>\n",
       "    <tr>\n",
       "      <th>0</th>\n",
       "      <td>maruti</td>\n",
       "      <td>petrol</td>\n",
       "      <td>2000.0</td>\n",
       "      <td>200000</td>\n",
       "    </tr>\n",
       "    <tr>\n",
       "      <th>1</th>\n",
       "      <td>honda</td>\n",
       "      <td>diesel</td>\n",
       "      <td>4000.0</td>\n",
       "      <td>400000</td>\n",
       "    </tr>\n",
       "    <tr>\n",
       "      <th>2</th>\n",
       "      <td>maruti</td>\n",
       "      <td>petrol</td>\n",
       "      <td>100.0</td>\n",
       "      <td>424232</td>\n",
       "    </tr>\n",
       "    <tr>\n",
       "      <th>3</th>\n",
       "      <td>toyota</td>\n",
       "      <td>diesel</td>\n",
       "      <td>6344.0</td>\n",
       "      <td>800000</td>\n",
       "    </tr>\n",
       "    <tr>\n",
       "      <th>4</th>\n",
       "      <td>honda</td>\n",
       "      <td>petrol</td>\n",
       "      <td>1234.0</td>\n",
       "      <td>500000</td>\n",
       "    </tr>\n",
       "    <tr>\n",
       "      <th>5</th>\n",
       "      <td>toyota</td>\n",
       "      <td>diesel</td>\n",
       "      <td>2735.6</td>\n",
       "      <td>900000</td>\n",
       "    </tr>\n",
       "  </tbody>\n",
       "</table>\n",
       "</div>"
      ],
      "text/plain": [
       "     name fuel_type  km_driven   price\n",
       "0  maruti    petrol     2000.0  200000\n",
       "1   honda    diesel     4000.0  400000\n",
       "2  maruti    petrol      100.0  424232\n",
       "3  toyota    diesel     6344.0  800000\n",
       "4   honda    petrol     1234.0  500000\n",
       "5  toyota    diesel     2735.6  900000"
      ]
     },
     "execution_count": 164,
     "metadata": {},
     "output_type": "execute_result"
    }
   ],
   "source": [
    "data"
   ]
  },
  {
   "cell_type": "code",
   "execution_count": 165,
   "id": "4f369be9",
   "metadata": {},
   "outputs": [],
   "source": [
    "encode = OneHotEncoder(sparse = False,handle_unknown='ignore')"
   ]
  },
  {
   "cell_type": "code",
   "execution_count": 166,
   "id": "40eccdbd",
   "metadata": {},
   "outputs": [],
   "source": [
    "encoded_data = encode.fit_transform(data[['name','fuel_type']])"
   ]
  },
  {
   "cell_type": "code",
   "execution_count": 167,
   "id": "c21344de",
   "metadata": {},
   "outputs": [
    {
     "data": {
      "text/plain": [
       "array([[0., 1., 0., 0., 1.],\n",
       "       [1., 0., 0., 1., 0.],\n",
       "       [0., 1., 0., 0., 1.],\n",
       "       [0., 0., 1., 1., 0.],\n",
       "       [1., 0., 0., 0., 1.],\n",
       "       [0., 0., 1., 1., 0.]])"
      ]
     },
     "execution_count": 167,
     "metadata": {},
     "output_type": "execute_result"
    }
   ],
   "source": [
    "encoded_data"
   ]
  },
  {
   "cell_type": "code",
   "execution_count": 168,
   "id": "13e8fe39",
   "metadata": {},
   "outputs": [
    {
     "data": {
      "text/plain": [
       "numpy.ndarray"
      ]
     },
     "execution_count": 168,
     "metadata": {},
     "output_type": "execute_result"
    }
   ],
   "source": [
    "type(encoded_data)"
   ]
  },
  {
   "cell_type": "code",
   "execution_count": 199,
   "id": "8a42bdd3",
   "metadata": {},
   "outputs": [
    {
     "data": {
      "text/plain": [
       "array(['name_honda', 'name_maruti', 'name_toyota', 'fuel_type_diesel',\n",
       "       'fuel_type_petrol'], dtype=object)"
      ]
     },
     "execution_count": 199,
     "metadata": {},
     "output_type": "execute_result"
    }
   ],
   "source": [
    "encode.get_feature_names_out()\n"
   ]
  },
  {
   "cell_type": "code",
   "execution_count": 170,
   "id": "a3fdaf64",
   "metadata": {},
   "outputs": [],
   "source": [
    "scale = MinMaxScaler()"
   ]
  },
  {
   "cell_type": "code",
   "execution_count": 171,
   "id": "d2f3b77f",
   "metadata": {},
   "outputs": [],
   "source": [
    "scaled_data = scale.fit_transform(data[['km_driven']])"
   ]
  },
  {
   "cell_type": "code",
   "execution_count": 172,
   "id": "9f3166e0",
   "metadata": {},
   "outputs": [
    {
     "data": {
      "text/plain": [
       "numpy.ndarray"
      ]
     },
     "execution_count": 172,
     "metadata": {},
     "output_type": "execute_result"
    }
   ],
   "source": [
    "type(scaled_data)"
   ]
  },
  {
   "cell_type": "code",
   "execution_count": 173,
   "id": "441140d7",
   "metadata": {},
   "outputs": [],
   "source": [
    "data_sclaled = np.concatenate([encoded_data,scaled_data], axis = 1)"
   ]
  },
  {
   "cell_type": "code",
   "execution_count": 174,
   "id": "06b62cf5",
   "metadata": {},
   "outputs": [],
   "source": [
    "column_name = encode.get_feature_names_out()"
   ]
  },
  {
   "cell_type": "code",
   "execution_count": 175,
   "id": "a2756030",
   "metadata": {
    "scrolled": true
   },
   "outputs": [
    {
     "data": {
      "text/plain": [
       "[['name_honda',\n",
       "  'name_maruti',\n",
       "  'name_toyota',\n",
       "  'fuel_type_diesel',\n",
       "  'fuel_type_petrol'],\n",
       " 'km_driven']"
      ]
     },
     "execution_count": 175,
     "metadata": {},
     "output_type": "execute_result"
    }
   ],
   "source": [
    "[list(column_name),'km_driven']"
   ]
  },
  {
   "cell_type": "code",
   "execution_count": 176,
   "id": "aa499e7d",
   "metadata": {},
   "outputs": [],
   "source": [
    "column_name = list(column_name)"
   ]
  },
  {
   "cell_type": "code",
   "execution_count": 177,
   "id": "d0096fda",
   "metadata": {},
   "outputs": [],
   "source": [
    "column_name.append('km_driven')"
   ]
  },
  {
   "cell_type": "code",
   "execution_count": 178,
   "id": "58f62d0d",
   "metadata": {},
   "outputs": [
    {
     "data": {
      "text/plain": [
       "['name_honda',\n",
       " 'name_maruti',\n",
       " 'name_toyota',\n",
       " 'fuel_type_diesel',\n",
       " 'fuel_type_petrol',\n",
       " 'km_driven']"
      ]
     },
     "execution_count": 178,
     "metadata": {},
     "output_type": "execute_result"
    }
   ],
   "source": [
    "column_name"
   ]
  },
  {
   "cell_type": "code",
   "execution_count": null,
   "id": "8e941b78",
   "metadata": {},
   "outputs": [],
   "source": []
  },
  {
   "cell_type": "code",
   "execution_count": null,
   "id": "72d54f01",
   "metadata": {},
   "outputs": [],
   "source": []
  },
  {
   "cell_type": "code",
   "execution_count": 179,
   "id": "6add7380",
   "metadata": {},
   "outputs": [],
   "source": [
    "X = pd.DataFrame(data_sclaled, columns=column_name)"
   ]
  },
  {
   "cell_type": "code",
   "execution_count": 180,
   "id": "54a1daa2",
   "metadata": {},
   "outputs": [],
   "source": [
    "y = data['price']"
   ]
  },
  {
   "cell_type": "code",
   "execution_count": 181,
   "id": "ac08b9f1",
   "metadata": {},
   "outputs": [
    {
     "data": {
      "text/plain": [
       "LinearRegression()"
      ]
     },
     "execution_count": 181,
     "metadata": {},
     "output_type": "execute_result"
    }
   ],
   "source": [
    "model = LinearRegression()\n",
    "model.fit(X,y)"
   ]
  },
  {
   "cell_type": "code",
   "execution_count": 189,
   "id": "31f93df1",
   "metadata": {},
   "outputs": [],
   "source": [
    "new_test = ['toyota','petrol',np.NaN]"
   ]
  },
  {
   "cell_type": "code",
   "execution_count": 190,
   "id": "2e83f3f1",
   "metadata": {},
   "outputs": [],
   "source": [
    "new_ = pd.DataFrame(new_test).T"
   ]
  },
  {
   "cell_type": "code",
   "execution_count": 191,
   "id": "013d85a5",
   "metadata": {},
   "outputs": [],
   "source": [
    "new_.columns = ['name','fuel_type', 'km_driven']"
   ]
  },
  {
   "cell_type": "code",
   "execution_count": 192,
   "id": "4171e949",
   "metadata": {},
   "outputs": [
    {
     "data": {
      "text/html": [
       "<div>\n",
       "<style scoped>\n",
       "    .dataframe tbody tr th:only-of-type {\n",
       "        vertical-align: middle;\n",
       "    }\n",
       "\n",
       "    .dataframe tbody tr th {\n",
       "        vertical-align: top;\n",
       "    }\n",
       "\n",
       "    .dataframe thead th {\n",
       "        text-align: right;\n",
       "    }\n",
       "</style>\n",
       "<table border=\"1\" class=\"dataframe\">\n",
       "  <thead>\n",
       "    <tr style=\"text-align: right;\">\n",
       "      <th></th>\n",
       "      <th>name</th>\n",
       "      <th>fuel_type</th>\n",
       "      <th>km_driven</th>\n",
       "    </tr>\n",
       "  </thead>\n",
       "  <tbody>\n",
       "    <tr>\n",
       "      <th>0</th>\n",
       "      <td>toyota</td>\n",
       "      <td>petrol</td>\n",
       "      <td>NaN</td>\n",
       "    </tr>\n",
       "  </tbody>\n",
       "</table>\n",
       "</div>"
      ],
      "text/plain": [
       "     name fuel_type km_driven\n",
       "0  toyota    petrol       NaN"
      ]
     },
     "execution_count": 192,
     "metadata": {},
     "output_type": "execute_result"
    }
   ],
   "source": [
    "new_"
   ]
  },
  {
   "cell_type": "code",
   "execution_count": null,
   "id": "71605051",
   "metadata": {},
   "outputs": [],
   "source": []
  },
  {
   "cell_type": "raw",
   "id": "4717823f",
   "metadata": {},
   "source": [
    "Preprocessing Step\n",
    "\n",
    "1. impute\n",
    "2. one hot\n",
    "3. scaling\n"
   ]
  },
  {
   "cell_type": "code",
   "execution_count": 194,
   "id": "04f4e7e5",
   "metadata": {
    "scrolled": true
   },
   "outputs": [],
   "source": [
    "new_['km_driven'] = impute.transform(new_[['km_driven']])"
   ]
  },
  {
   "cell_type": "code",
   "execution_count": 195,
   "id": "a80c63b9",
   "metadata": {},
   "outputs": [
    {
     "data": {
      "text/html": [
       "<div>\n",
       "<style scoped>\n",
       "    .dataframe tbody tr th:only-of-type {\n",
       "        vertical-align: middle;\n",
       "    }\n",
       "\n",
       "    .dataframe tbody tr th {\n",
       "        vertical-align: top;\n",
       "    }\n",
       "\n",
       "    .dataframe thead th {\n",
       "        text-align: right;\n",
       "    }\n",
       "</style>\n",
       "<table border=\"1\" class=\"dataframe\">\n",
       "  <thead>\n",
       "    <tr style=\"text-align: right;\">\n",
       "      <th></th>\n",
       "      <th>name</th>\n",
       "      <th>fuel_type</th>\n",
       "      <th>km_driven</th>\n",
       "    </tr>\n",
       "  </thead>\n",
       "  <tbody>\n",
       "    <tr>\n",
       "      <th>0</th>\n",
       "      <td>toyota</td>\n",
       "      <td>petrol</td>\n",
       "      <td>2735.6</td>\n",
       "    </tr>\n",
       "  </tbody>\n",
       "</table>\n",
       "</div>"
      ],
      "text/plain": [
       "     name fuel_type  km_driven\n",
       "0  toyota    petrol     2735.6"
      ]
     },
     "execution_count": 195,
     "metadata": {},
     "output_type": "execute_result"
    }
   ],
   "source": [
    "new_"
   ]
  },
  {
   "cell_type": "code",
   "execution_count": 205,
   "id": "4d711a97",
   "metadata": {},
   "outputs": [],
   "source": [
    "res_encode_cat = encode.transform(new_[['name','fuel_type']])"
   ]
  },
  {
   "cell_type": "code",
   "execution_count": 202,
   "id": "8c0e458a",
   "metadata": {},
   "outputs": [],
   "source": [
    "new_['km_driven'] = scale.transform(new_[['km_driven']])"
   ]
  },
  {
   "cell_type": "code",
   "execution_count": 204,
   "id": "ae152e99",
   "metadata": {},
   "outputs": [
    {
     "data": {
      "text/html": [
       "<div>\n",
       "<style scoped>\n",
       "    .dataframe tbody tr th:only-of-type {\n",
       "        vertical-align: middle;\n",
       "    }\n",
       "\n",
       "    .dataframe tbody tr th {\n",
       "        vertical-align: top;\n",
       "    }\n",
       "\n",
       "    .dataframe thead th {\n",
       "        text-align: right;\n",
       "    }\n",
       "</style>\n",
       "<table border=\"1\" class=\"dataframe\">\n",
       "  <thead>\n",
       "    <tr style=\"text-align: right;\">\n",
       "      <th></th>\n",
       "      <th>name</th>\n",
       "      <th>fuel_type</th>\n",
       "      <th>km_driven</th>\n",
       "    </tr>\n",
       "  </thead>\n",
       "  <tbody>\n",
       "    <tr>\n",
       "      <th>0</th>\n",
       "      <td>toyota</td>\n",
       "      <td>petrol</td>\n",
       "      <td>0.422101</td>\n",
       "    </tr>\n",
       "  </tbody>\n",
       "</table>\n",
       "</div>"
      ],
      "text/plain": [
       "     name fuel_type  km_driven\n",
       "0  toyota    petrol   0.422101"
      ]
     },
     "execution_count": 204,
     "metadata": {},
     "output_type": "execute_result"
    }
   ],
   "source": [
    "new_"
   ]
  },
  {
   "cell_type": "code",
   "execution_count": 208,
   "id": "be7b3c70",
   "metadata": {},
   "outputs": [],
   "source": [
    "cat_out = pd.DataFrame(res_encode_cat, columns=encode.get_feature_names_out())"
   ]
  },
  {
   "cell_type": "code",
   "execution_count": 211,
   "id": "d6ff25e0",
   "metadata": {},
   "outputs": [],
   "source": [
    "final_preprocessed = pd.concat([cat_out,new_['km_driven']],axis =1)"
   ]
  },
  {
   "cell_type": "code",
   "execution_count": 212,
   "id": "44da67c9",
   "metadata": {},
   "outputs": [
    {
     "data": {
      "text/plain": [
       "array([904492.0686354])"
      ]
     },
     "execution_count": 212,
     "metadata": {},
     "output_type": "execute_result"
    }
   ],
   "source": [
    "model.predict(final_preprocessed)"
   ]
  },
  {
   "cell_type": "code",
   "execution_count": 213,
   "id": "1cbf6bf4",
   "metadata": {},
   "outputs": [],
   "source": [
    "def preprocess(data):\n",
    "    new_ = pd.DataFrame(data).T\n",
    "    new_.columns = ['name','fuel_type', 'km_driven']\n",
    "    new_['km_driven'] = impute.transform(new_[['km_driven']])\n",
    "    res_encode_cat = encode.transform(new_[['name','fuel_type']])\n",
    "    new_['km_driven'] = scale.transform(new_[['km_driven']])\n",
    "    cat_out = pd.DataFrame(res_encode_cat, columns=encode.get_feature_names_out())\n",
    "    final_preprocessed = pd.concat([cat_out,new_['km_driven']],axis =1)\n",
    "    return final_preprocessed"
   ]
  },
  {
   "cell_type": "code",
   "execution_count": 216,
   "id": "f3b75237",
   "metadata": {},
   "outputs": [
    {
     "data": {
      "text/html": [
       "<div>\n",
       "<style scoped>\n",
       "    .dataframe tbody tr th:only-of-type {\n",
       "        vertical-align: middle;\n",
       "    }\n",
       "\n",
       "    .dataframe tbody tr th {\n",
       "        vertical-align: top;\n",
       "    }\n",
       "\n",
       "    .dataframe thead th {\n",
       "        text-align: right;\n",
       "    }\n",
       "</style>\n",
       "<table border=\"1\" class=\"dataframe\">\n",
       "  <thead>\n",
       "    <tr style=\"text-align: right;\">\n",
       "      <th></th>\n",
       "      <th>name_honda</th>\n",
       "      <th>name_maruti</th>\n",
       "      <th>name_toyota</th>\n",
       "      <th>fuel_type_diesel</th>\n",
       "      <th>fuel_type_petrol</th>\n",
       "      <th>km_driven</th>\n",
       "    </tr>\n",
       "  </thead>\n",
       "  <tbody>\n",
       "    <tr>\n",
       "      <th>0</th>\n",
       "      <td>1.0</td>\n",
       "      <td>0.0</td>\n",
       "      <td>0.0</td>\n",
       "      <td>1.0</td>\n",
       "      <td>0.0</td>\n",
       "      <td>0.422101</td>\n",
       "    </tr>\n",
       "  </tbody>\n",
       "</table>\n",
       "</div>"
      ],
      "text/plain": [
       "   name_honda  name_maruti  name_toyota  fuel_type_diesel  fuel_type_petrol  \\\n",
       "0         1.0          0.0          0.0               1.0               0.0   \n",
       "\n",
       "   km_driven  \n",
       "0   0.422101  "
      ]
     },
     "execution_count": 216,
     "metadata": {},
     "output_type": "execute_result"
    }
   ],
   "source": [
    "new_test = ['honda','diesel',np.NaN]\n",
    "preprocess(new_test)"
   ]
  },
  {
   "cell_type": "code",
   "execution_count": 218,
   "id": "8b353f07",
   "metadata": {},
   "outputs": [
    {
     "data": {
      "text/plain": [
       "array([279014.57631599])"
      ]
     },
     "execution_count": 218,
     "metadata": {},
     "output_type": "execute_result"
    }
   ],
   "source": [
    "new_test = ['honda','diesel',6557]\n",
    "model.predict(preprocess(new_test))"
   ]
  },
  {
   "cell_type": "code",
   "execution_count": 219,
   "id": "4e813d60",
   "metadata": {},
   "outputs": [],
   "source": [
    "# Save our Model"
   ]
  },
  {
   "cell_type": "code",
   "execution_count": null,
   "id": "49bfc730",
   "metadata": {},
   "outputs": [],
   "source": [
    "# Pickle"
   ]
  },
  {
   "cell_type": "code",
   "execution_count": 220,
   "id": "be1cfbc4",
   "metadata": {},
   "outputs": [],
   "source": [
    "import joblib"
   ]
  },
  {
   "cell_type": "code",
   "execution_count": 221,
   "id": "e3cd9501",
   "metadata": {},
   "outputs": [
    {
     "data": {
      "text/plain": [
       "['model.pkl']"
      ]
     },
     "execution_count": 221,
     "metadata": {},
     "output_type": "execute_result"
    }
   ],
   "source": [
    "joblib.dump(model, 'model.pkl')"
   ]
  },
  {
   "cell_type": "code",
   "execution_count": 222,
   "id": "3fd08113",
   "metadata": {},
   "outputs": [
    {
     "data": {
      "text/plain": [
       "['impute.pkl']"
      ]
     },
     "execution_count": 222,
     "metadata": {},
     "output_type": "execute_result"
    }
   ],
   "source": [
    "joblib.dump(impute, 'impute.pkl')\n"
   ]
  },
  {
   "cell_type": "code",
   "execution_count": 223,
   "id": "8be86033",
   "metadata": {},
   "outputs": [
    {
     "data": {
      "text/plain": [
       "['encode.pkl']"
      ]
     },
     "execution_count": 223,
     "metadata": {},
     "output_type": "execute_result"
    }
   ],
   "source": [
    "joblib.dump(encode, 'encode.pkl')\n"
   ]
  },
  {
   "cell_type": "code",
   "execution_count": 224,
   "id": "ee61fceb",
   "metadata": {},
   "outputs": [
    {
     "data": {
      "text/plain": [
       "['scale.pkl']"
      ]
     },
     "execution_count": 224,
     "metadata": {},
     "output_type": "execute_result"
    }
   ],
   "source": [
    "joblib.dump(scale, 'scale.pkl')\n"
   ]
  },
  {
   "cell_type": "code",
   "execution_count": 227,
   "id": "cb65a861",
   "metadata": {},
   "outputs": [],
   "source": [
    "import sklearn"
   ]
  },
  {
   "cell_type": "code",
   "execution_count": 229,
   "id": "bfcf155e",
   "metadata": {},
   "outputs": [
    {
     "data": {
      "text/plain": [
       "'1.0.2'"
      ]
     },
     "execution_count": 229,
     "metadata": {},
     "output_type": "execute_result"
    }
   ],
   "source": [
    "sklearn.__version__"
   ]
  },
  {
   "cell_type": "code",
   "execution_count": null,
   "id": "2a4d8f3b",
   "metadata": {},
   "outputs": [],
   "source": []
  }
 ],
 "metadata": {
  "kernelspec": {
   "display_name": "Python 3 (ipykernel)",
   "language": "python",
   "name": "python3"
  },
  "language_info": {
   "codemirror_mode": {
    "name": "ipython",
    "version": 3
   },
   "file_extension": ".py",
   "mimetype": "text/x-python",
   "name": "python",
   "nbconvert_exporter": "python",
   "pygments_lexer": "ipython3",
   "version": "3.9.13"
  }
 },
 "nbformat": 4,
 "nbformat_minor": 5
}
