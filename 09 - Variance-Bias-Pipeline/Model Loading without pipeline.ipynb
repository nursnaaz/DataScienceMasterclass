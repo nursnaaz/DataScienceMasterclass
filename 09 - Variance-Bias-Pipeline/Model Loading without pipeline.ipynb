{
 "cells": [
  {
   "cell_type": "code",
   "execution_count": 1,
   "id": "3e8f4369",
   "metadata": {},
   "outputs": [],
   "source": [
    "from preprocessing import preprocess, load_objects\n",
    "import joblib\n",
    "import numpy as np"
   ]
  },
  {
   "cell_type": "code",
   "execution_count": 2,
   "id": "2bd8f188",
   "metadata": {},
   "outputs": [],
   "source": [
    "model = joblib.load('model.pkl')"
   ]
  },
  {
   "cell_type": "code",
   "execution_count": 3,
   "id": "75581857",
   "metadata": {},
   "outputs": [
    {
     "data": {
      "text/plain": [
       "LinearRegression()"
      ]
     },
     "execution_count": 3,
     "metadata": {},
     "output_type": "execute_result"
    }
   ],
   "source": [
    "model"
   ]
  },
  {
   "cell_type": "code",
   "execution_count": 4,
   "id": "d690767c",
   "metadata": {},
   "outputs": [
    {
     "data": {
      "text/plain": [
       "662076.4124605337"
      ]
     },
     "execution_count": 4,
     "metadata": {},
     "output_type": "execute_result"
    }
   ],
   "source": [
    "model.intercept_"
   ]
  },
  {
   "cell_type": "code",
   "execution_count": 5,
   "id": "a6b6811b",
   "metadata": {},
   "outputs": [
    {
     "data": {
      "text/plain": [
       "array([ -92983.60392997, -289573.63363582,  382557.23756578,\n",
       "         15437.16893038,  -15437.16893038, -295437.22545287])"
      ]
     },
     "execution_count": 5,
     "metadata": {},
     "output_type": "execute_result"
    }
   ],
   "source": [
    "model.coef_"
   ]
  },
  {
   "cell_type": "code",
   "execution_count": 6,
   "id": "083aaa6e",
   "metadata": {},
   "outputs": [],
   "source": [
    "imputer = joblib.load('impute.pkl')"
   ]
  },
  {
   "cell_type": "code",
   "execution_count": 7,
   "id": "c06923dd",
   "metadata": {},
   "outputs": [],
   "source": [
    "encode = joblib.load('encode.pkl')"
   ]
  },
  {
   "cell_type": "code",
   "execution_count": 8,
   "id": "2efbd115",
   "metadata": {},
   "outputs": [],
   "source": [
    "scale = joblib.load('scale.pkl')"
   ]
  },
  {
   "cell_type": "code",
   "execution_count": 9,
   "id": "5ccc0b36",
   "metadata": {},
   "outputs": [],
   "source": [
    "new_test = ['maruti','petrol',np.NaN]"
   ]
  },
  {
   "cell_type": "code",
   "execution_count": 12,
   "id": "babb28b8",
   "metadata": {},
   "outputs": [
    {
     "data": {
      "text/plain": [
       "array([232361.1974338])"
      ]
     },
     "execution_count": 12,
     "metadata": {},
     "output_type": "execute_result"
    }
   ],
   "source": [
    "model.predict(preprocess(new_test, imputer, encode, scale))"
   ]
  },
  {
   "cell_type": "code",
   "execution_count": 13,
   "id": "a438ecbb",
   "metadata": {},
   "outputs": [
    {
     "data": {
      "text/plain": [
       "array([263235.53529457])"
      ]
     },
     "execution_count": 13,
     "metadata": {},
     "output_type": "execute_result"
    }
   ],
   "source": [
    "new_test = ['maruti','diesel',np.NaN]\n",
    "model.predict(preprocess(new_test, imputer, encode, scale))"
   ]
  },
  {
   "cell_type": "code",
   "execution_count": 3,
   "id": "3ee5459f",
   "metadata": {},
   "outputs": [],
   "source": [
    "model, imputer, encode, scale = load_objects()"
   ]
  },
  {
   "cell_type": "code",
   "execution_count": 4,
   "id": "27fa9437",
   "metadata": {},
   "outputs": [
    {
     "data": {
      "text/plain": [
       "array([263235.53529457])"
      ]
     },
     "execution_count": 4,
     "metadata": {},
     "output_type": "execute_result"
    }
   ],
   "source": [
    "new_test = ['maruti','diesel',np.NaN]\n",
    "model.predict(preprocess(new_test, imputer, encode, scale))"
   ]
  },
  {
   "cell_type": "code",
   "execution_count": null,
   "id": "c4e1be72",
   "metadata": {},
   "outputs": [],
   "source": []
  },
  {
   "cell_type": "code",
   "execution_count": null,
   "id": "89d953da",
   "metadata": {},
   "outputs": [],
   "source": []
  },
  {
   "cell_type": "code",
   "execution_count": null,
   "id": "70003ac0",
   "metadata": {},
   "outputs": [],
   "source": []
  },
  {
   "cell_type": "code",
   "execution_count": null,
   "id": "6368b8e9",
   "metadata": {},
   "outputs": [],
   "source": []
  }
 ],
 "metadata": {
  "kernelspec": {
   "display_name": "Python 3 (ipykernel)",
   "language": "python",
   "name": "python3"
  },
  "language_info": {
   "codemirror_mode": {
    "name": "ipython",
    "version": 3
   },
   "file_extension": ".py",
   "mimetype": "text/x-python",
   "name": "python",
   "nbconvert_exporter": "python",
   "pygments_lexer": "ipython3",
   "version": "3.9.13"
  }
 },
 "nbformat": 4,
 "nbformat_minor": 5
}
