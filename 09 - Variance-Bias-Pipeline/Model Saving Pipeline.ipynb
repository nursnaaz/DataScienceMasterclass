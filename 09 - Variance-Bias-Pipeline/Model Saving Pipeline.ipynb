{
 "cells": [
  {
   "cell_type": "code",
   "execution_count": 2,
   "id": "5a60ecf4",
   "metadata": {},
   "outputs": [],
   "source": [
    "# model = Equation (coeff, intercept)"
   ]
  },
  {
   "cell_type": "code",
   "execution_count": null,
   "id": "59337e39",
   "metadata": {},
   "outputs": [],
   "source": [
    "# save model\n",
    "# portable ship\n",
    "# load model\n",
    "# predict"
   ]
  },
  {
   "cell_type": "code",
   "execution_count": null,
   "id": "fedeb521",
   "metadata": {},
   "outputs": [],
   "source": [
    "train \n",
    "test\n",
    "\n",
    "Hackathon\n",
    "train+test -> Preprocessing (Hackathon)\n",
    "\n",
    "train - flight price - carrier - indigo, airindia, jet\n",
    "\n",
    "testflight price - carrier - indigo, airindia, jet, vistara\n",
    "\n",
    "\n",
    "combined and onehot -> no problem in forseen\n",
    "\n",
    "missing value -> imputation -> mean -> train+test\n",
    "\n",
    "\n",
    "Realworld\n",
    "Train - Preprocessing\n",
    "\n",
    "\n",
    "\n",
    "Test - We don't have - Preprocess -> predict\n",
    "\n",
    "\n",
    "Extra Burden on the devepoler to repeat the step of preprocessing \n",
    "\n",
    "Ship the processing code with the model\n",
    "\n",
    "\n",
    "\n",
    "train - flight price - carrier - indigo, airindia, jet\n",
    "\n",
    "test - flight price - carrier - indigo, airindia, jet, vistara\n",
    "\n",
    "\n",
    "separatly did the onehot -> problem \n",
    "\n",
    "\n",
    "missing value -> imputation -> mean -> train\n",
    "\n"
   ]
  },
  {
   "cell_type": "raw",
   "id": "eec9086b",
   "metadata": {},
   "source": [
    "preprocessing separately\n",
    "model separately\n",
    "\n",
    "\n",
    "Package preprocessing step + model -> one oject => Pipeline\n"
   ]
  },
  {
   "cell_type": "code",
   "execution_count": 360,
   "id": "7e658d1f",
   "metadata": {},
   "outputs": [],
   "source": [
    "import pandas as pd\n",
    "import numpy as np\n",
    "\n",
    "from sklearn.impute import SimpleImputer\n",
    "from sklearn.preprocessing import OneHotEncoder\n",
    "from sklearn.preprocessing import MinMaxScaler\n",
    "\n",
    "from sklearn.pipeline import Pipeline\n",
    "from sklearn.compose import ColumnTransformer\n",
    "from sklearn.base import BaseEstimator, TransformerMixin\n",
    "from sklearn.linear_model import LinearRegression\n",
    "\n",
    "import joblib"
   ]
  },
  {
   "cell_type": "code",
   "execution_count": 361,
   "id": "9902cc88",
   "metadata": {},
   "outputs": [],
   "source": [
    "data = pd.DataFrame(\n",
    "{\n",
    "    'name':['Maruti','honda','maruti','toyOta','hondA','toyota'],\n",
    "    'fuel_type':['petrol','diesel','petrol','diesel','petrol','diesel'],\n",
    "    'km_driven' :[2000,4000,100,6344,1234,np.NaN],\n",
    "    'price' :[200000,400000,424232,800000,500000,900000]\n",
    "    \n",
    "}\n",
    ")\n",
    " "
   ]
  },
  {
   "cell_type": "code",
   "execution_count": 362,
   "id": "3ce660ce",
   "metadata": {},
   "outputs": [
    {
     "data": {
      "text/html": [
       "<div>\n",
       "<style scoped>\n",
       "    .dataframe tbody tr th:only-of-type {\n",
       "        vertical-align: middle;\n",
       "    }\n",
       "\n",
       "    .dataframe tbody tr th {\n",
       "        vertical-align: top;\n",
       "    }\n",
       "\n",
       "    .dataframe thead th {\n",
       "        text-align: right;\n",
       "    }\n",
       "</style>\n",
       "<table border=\"1\" class=\"dataframe\">\n",
       "  <thead>\n",
       "    <tr style=\"text-align: right;\">\n",
       "      <th></th>\n",
       "      <th>name</th>\n",
       "      <th>fuel_type</th>\n",
       "      <th>km_driven</th>\n",
       "      <th>price</th>\n",
       "    </tr>\n",
       "  </thead>\n",
       "  <tbody>\n",
       "    <tr>\n",
       "      <th>0</th>\n",
       "      <td>Maruti</td>\n",
       "      <td>petrol</td>\n",
       "      <td>2000.0</td>\n",
       "      <td>200000</td>\n",
       "    </tr>\n",
       "    <tr>\n",
       "      <th>1</th>\n",
       "      <td>honda</td>\n",
       "      <td>diesel</td>\n",
       "      <td>4000.0</td>\n",
       "      <td>400000</td>\n",
       "    </tr>\n",
       "    <tr>\n",
       "      <th>2</th>\n",
       "      <td>maruti</td>\n",
       "      <td>petrol</td>\n",
       "      <td>100.0</td>\n",
       "      <td>424232</td>\n",
       "    </tr>\n",
       "    <tr>\n",
       "      <th>3</th>\n",
       "      <td>toyOta</td>\n",
       "      <td>diesel</td>\n",
       "      <td>6344.0</td>\n",
       "      <td>800000</td>\n",
       "    </tr>\n",
       "    <tr>\n",
       "      <th>4</th>\n",
       "      <td>hondA</td>\n",
       "      <td>petrol</td>\n",
       "      <td>1234.0</td>\n",
       "      <td>500000</td>\n",
       "    </tr>\n",
       "    <tr>\n",
       "      <th>5</th>\n",
       "      <td>toyota</td>\n",
       "      <td>diesel</td>\n",
       "      <td>NaN</td>\n",
       "      <td>900000</td>\n",
       "    </tr>\n",
       "  </tbody>\n",
       "</table>\n",
       "</div>"
      ],
      "text/plain": [
       "     name fuel_type  km_driven   price\n",
       "0  Maruti    petrol     2000.0  200000\n",
       "1   honda    diesel     4000.0  400000\n",
       "2  maruti    petrol      100.0  424232\n",
       "3  toyOta    diesel     6344.0  800000\n",
       "4   hondA    petrol     1234.0  500000\n",
       "5  toyota    diesel        NaN  900000"
      ]
     },
     "execution_count": 362,
     "metadata": {},
     "output_type": "execute_result"
    }
   ],
   "source": [
    "data"
   ]
  },
  {
   "cell_type": "code",
   "execution_count": 363,
   "id": "aab40b9a",
   "metadata": {},
   "outputs": [
    {
     "data": {
      "text/plain": [
       "array(['Maruti', 'honda', 'maruti', 'toyOta', 'hondA', 'toyota'],\n",
       "      dtype=object)"
      ]
     },
     "execution_count": 363,
     "metadata": {},
     "output_type": "execute_result"
    }
   ],
   "source": [
    "data['name'].unique()"
   ]
  },
  {
   "cell_type": "code",
   "execution_count": null,
   "id": "8e941b78",
   "metadata": {},
   "outputs": [],
   "source": []
  },
  {
   "cell_type": "code",
   "execution_count": null,
   "id": "de5854f0",
   "metadata": {},
   "outputs": [],
   "source": []
  },
  {
   "cell_type": "code",
   "execution_count": 364,
   "id": "abdf1a4d",
   "metadata": {},
   "outputs": [],
   "source": [
    "class CustomTransformer(BaseEstimator, TransformerMixin):\n",
    "    def __init__(self):\n",
    "        print('\\n>>>>>>>init() called.\\n')\n",
    "    def fit(self, X, y = None):\n",
    "        print('\\n>>>>>>>fit() called.\\n')\n",
    "        return self\n",
    "    def transform(self, X, y = None):\n",
    "        print('\\n>>>>>>>transform() called.\\n')\n",
    "        print(\"\\n>>>> Input : \",X)\n",
    "        X_ = X.applymap(lambda x: x.lower())\n",
    "        print(\"\\n>>>> Output : \",X_)\n",
    "        print(\"\\n>>>>>>> Custom Transformer Called\")\n",
    "        return X_\n"
   ]
  },
  {
   "cell_type": "code",
   "execution_count": null,
   "id": "40ee7ec9",
   "metadata": {},
   "outputs": [],
   "source": []
  },
  {
   "cell_type": "code",
   "execution_count": 365,
   "id": "a20d1680",
   "metadata": {},
   "outputs": [
    {
     "name": "stdout",
     "output_type": "stream",
     "text": [
      "\n",
      ">>>>>>>init() called.\n",
      "\n"
     ]
    }
   ],
   "source": [
    "\n",
    "preprocess_categorical_encoding = Pipeline([('pre_preprocess', CustomTransformer()),\n",
    "          ('onehot', OneHotEncoder(sparse=False, handle_unknown='ignore'))\n",
    "         ])\n",
    "\n",
    "numerical_encoding_scaling = Pipeline([\n",
    "                                       ('imputation', SimpleImputer(strategy='mean')),\n",
    "                                       ('scale', MinMaxScaler())])\n"
   ]
  },
  {
   "cell_type": "code",
   "execution_count": null,
   "id": "d50c499b",
   "metadata": {},
   "outputs": [],
   "source": []
  },
  {
   "cell_type": "code",
   "execution_count": 366,
   "id": "a2e163a5",
   "metadata": {},
   "outputs": [],
   "source": [
    "preprocess_full = ColumnTransformer(\n",
    "    transformers=\n",
    "    [\n",
    "    ('numerical_prprocessing',numerical_encoding_scaling,['km_driven'],),\n",
    "    ('categoral_preprocessing',preprocess_categorical_encoding,['name','fuel_type'])\n",
    "    \n",
    "    ]\n",
    ")"
   ]
  },
  {
   "cell_type": "code",
   "execution_count": 367,
   "id": "72d54f01",
   "metadata": {},
   "outputs": [],
   "source": [
    "pipe = Pipeline([\n",
    "         ('preprocess',preprocess_full),\n",
    "         ('model',LinearRegression())])"
   ]
  },
  {
   "cell_type": "code",
   "execution_count": 368,
   "id": "54208eb6",
   "metadata": {},
   "outputs": [
    {
     "data": {
      "text/html": [
       "<div>\n",
       "<style scoped>\n",
       "    .dataframe tbody tr th:only-of-type {\n",
       "        vertical-align: middle;\n",
       "    }\n",
       "\n",
       "    .dataframe tbody tr th {\n",
       "        vertical-align: top;\n",
       "    }\n",
       "\n",
       "    .dataframe thead th {\n",
       "        text-align: right;\n",
       "    }\n",
       "</style>\n",
       "<table border=\"1\" class=\"dataframe\">\n",
       "  <thead>\n",
       "    <tr style=\"text-align: right;\">\n",
       "      <th></th>\n",
       "      <th>name</th>\n",
       "      <th>fuel_type</th>\n",
       "      <th>km_driven</th>\n",
       "    </tr>\n",
       "  </thead>\n",
       "  <tbody>\n",
       "    <tr>\n",
       "      <th>0</th>\n",
       "      <td>Maruti</td>\n",
       "      <td>petrol</td>\n",
       "      <td>2000.0</td>\n",
       "    </tr>\n",
       "    <tr>\n",
       "      <th>1</th>\n",
       "      <td>honda</td>\n",
       "      <td>diesel</td>\n",
       "      <td>4000.0</td>\n",
       "    </tr>\n",
       "    <tr>\n",
       "      <th>2</th>\n",
       "      <td>maruti</td>\n",
       "      <td>petrol</td>\n",
       "      <td>100.0</td>\n",
       "    </tr>\n",
       "    <tr>\n",
       "      <th>3</th>\n",
       "      <td>toyOta</td>\n",
       "      <td>diesel</td>\n",
       "      <td>6344.0</td>\n",
       "    </tr>\n",
       "    <tr>\n",
       "      <th>4</th>\n",
       "      <td>hondA</td>\n",
       "      <td>petrol</td>\n",
       "      <td>1234.0</td>\n",
       "    </tr>\n",
       "    <tr>\n",
       "      <th>5</th>\n",
       "      <td>toyota</td>\n",
       "      <td>diesel</td>\n",
       "      <td>NaN</td>\n",
       "    </tr>\n",
       "  </tbody>\n",
       "</table>\n",
       "</div>"
      ],
      "text/plain": [
       "     name fuel_type  km_driven\n",
       "0  Maruti    petrol     2000.0\n",
       "1   honda    diesel     4000.0\n",
       "2  maruti    petrol      100.0\n",
       "3  toyOta    diesel     6344.0\n",
       "4   hondA    petrol     1234.0\n",
       "5  toyota    diesel        NaN"
      ]
     },
     "execution_count": 368,
     "metadata": {},
     "output_type": "execute_result"
    }
   ],
   "source": [
    "data.drop(columns = 'price')"
   ]
  },
  {
   "cell_type": "code",
   "execution_count": 369,
   "id": "660c7d8e",
   "metadata": {},
   "outputs": [
    {
     "name": "stdout",
     "output_type": "stream",
     "text": [
      "\n",
      ">>>>>>>init() called.\n",
      "\n",
      "\n",
      ">>>>>>>fit() called.\n",
      "\n",
      "\n",
      ">>>>>>>transform() called.\n",
      "\n",
      "\n",
      ">>>> Input :       name fuel_type\n",
      "0  Maruti    petrol\n",
      "1   honda    diesel\n",
      "2  maruti    petrol\n",
      "3  toyOta    diesel\n",
      "4   hondA    petrol\n",
      "5  toyota    diesel\n",
      "\n",
      ">>>> Output :       name fuel_type\n",
      "0  maruti    petrol\n",
      "1   honda    diesel\n",
      "2  maruti    petrol\n",
      "3  toyota    diesel\n",
      "4   honda    petrol\n",
      "5  toyota    diesel\n",
      "\n",
      ">>>>>>> Custom Transformer Called\n"
     ]
    },
    {
     "data": {
      "text/html": [
       "<style>#sk-7dc0fd40-4501-4be2-85df-51b6a33866c7 {color: black;background-color: white;}#sk-7dc0fd40-4501-4be2-85df-51b6a33866c7 pre{padding: 0;}#sk-7dc0fd40-4501-4be2-85df-51b6a33866c7 div.sk-toggleable {background-color: white;}#sk-7dc0fd40-4501-4be2-85df-51b6a33866c7 label.sk-toggleable__label {cursor: pointer;display: block;width: 100%;margin-bottom: 0;padding: 0.3em;box-sizing: border-box;text-align: center;}#sk-7dc0fd40-4501-4be2-85df-51b6a33866c7 label.sk-toggleable__label-arrow:before {content: \"▸\";float: left;margin-right: 0.25em;color: #696969;}#sk-7dc0fd40-4501-4be2-85df-51b6a33866c7 label.sk-toggleable__label-arrow:hover:before {color: black;}#sk-7dc0fd40-4501-4be2-85df-51b6a33866c7 div.sk-estimator:hover label.sk-toggleable__label-arrow:before {color: black;}#sk-7dc0fd40-4501-4be2-85df-51b6a33866c7 div.sk-toggleable__content {max-height: 0;max-width: 0;overflow: hidden;text-align: left;background-color: #f0f8ff;}#sk-7dc0fd40-4501-4be2-85df-51b6a33866c7 div.sk-toggleable__content pre {margin: 0.2em;color: black;border-radius: 0.25em;background-color: #f0f8ff;}#sk-7dc0fd40-4501-4be2-85df-51b6a33866c7 input.sk-toggleable__control:checked~div.sk-toggleable__content {max-height: 200px;max-width: 100%;overflow: auto;}#sk-7dc0fd40-4501-4be2-85df-51b6a33866c7 input.sk-toggleable__control:checked~label.sk-toggleable__label-arrow:before {content: \"▾\";}#sk-7dc0fd40-4501-4be2-85df-51b6a33866c7 div.sk-estimator input.sk-toggleable__control:checked~label.sk-toggleable__label {background-color: #d4ebff;}#sk-7dc0fd40-4501-4be2-85df-51b6a33866c7 div.sk-label input.sk-toggleable__control:checked~label.sk-toggleable__label {background-color: #d4ebff;}#sk-7dc0fd40-4501-4be2-85df-51b6a33866c7 input.sk-hidden--visually {border: 0;clip: rect(1px 1px 1px 1px);clip: rect(1px, 1px, 1px, 1px);height: 1px;margin: -1px;overflow: hidden;padding: 0;position: absolute;width: 1px;}#sk-7dc0fd40-4501-4be2-85df-51b6a33866c7 div.sk-estimator {font-family: monospace;background-color: #f0f8ff;border: 1px dotted black;border-radius: 0.25em;box-sizing: border-box;margin-bottom: 0.5em;}#sk-7dc0fd40-4501-4be2-85df-51b6a33866c7 div.sk-estimator:hover {background-color: #d4ebff;}#sk-7dc0fd40-4501-4be2-85df-51b6a33866c7 div.sk-parallel-item::after {content: \"\";width: 100%;border-bottom: 1px solid gray;flex-grow: 1;}#sk-7dc0fd40-4501-4be2-85df-51b6a33866c7 div.sk-label:hover label.sk-toggleable__label {background-color: #d4ebff;}#sk-7dc0fd40-4501-4be2-85df-51b6a33866c7 div.sk-serial::before {content: \"\";position: absolute;border-left: 1px solid gray;box-sizing: border-box;top: 2em;bottom: 0;left: 50%;}#sk-7dc0fd40-4501-4be2-85df-51b6a33866c7 div.sk-serial {display: flex;flex-direction: column;align-items: center;background-color: white;padding-right: 0.2em;padding-left: 0.2em;}#sk-7dc0fd40-4501-4be2-85df-51b6a33866c7 div.sk-item {z-index: 1;}#sk-7dc0fd40-4501-4be2-85df-51b6a33866c7 div.sk-parallel {display: flex;align-items: stretch;justify-content: center;background-color: white;}#sk-7dc0fd40-4501-4be2-85df-51b6a33866c7 div.sk-parallel::before {content: \"\";position: absolute;border-left: 1px solid gray;box-sizing: border-box;top: 2em;bottom: 0;left: 50%;}#sk-7dc0fd40-4501-4be2-85df-51b6a33866c7 div.sk-parallel-item {display: flex;flex-direction: column;position: relative;background-color: white;}#sk-7dc0fd40-4501-4be2-85df-51b6a33866c7 div.sk-parallel-item:first-child::after {align-self: flex-end;width: 50%;}#sk-7dc0fd40-4501-4be2-85df-51b6a33866c7 div.sk-parallel-item:last-child::after {align-self: flex-start;width: 50%;}#sk-7dc0fd40-4501-4be2-85df-51b6a33866c7 div.sk-parallel-item:only-child::after {width: 0;}#sk-7dc0fd40-4501-4be2-85df-51b6a33866c7 div.sk-dashed-wrapped {border: 1px dashed gray;margin: 0 0.4em 0.5em 0.4em;box-sizing: border-box;padding-bottom: 0.4em;background-color: white;position: relative;}#sk-7dc0fd40-4501-4be2-85df-51b6a33866c7 div.sk-label label {font-family: monospace;font-weight: bold;background-color: white;display: inline-block;line-height: 1.2em;}#sk-7dc0fd40-4501-4be2-85df-51b6a33866c7 div.sk-label-container {position: relative;z-index: 2;text-align: center;}#sk-7dc0fd40-4501-4be2-85df-51b6a33866c7 div.sk-container {/* jupyter's `normalize.less` sets `[hidden] { display: none; }` but bootstrap.min.css set `[hidden] { display: none !important; }` so we also need the `!important` here to be able to override the default hidden behavior on the sphinx rendered scikit-learn.org. See: https://github.com/scikit-learn/scikit-learn/issues/21755 */display: inline-block !important;position: relative;}#sk-7dc0fd40-4501-4be2-85df-51b6a33866c7 div.sk-text-repr-fallback {display: none;}</style><div id=\"sk-7dc0fd40-4501-4be2-85df-51b6a33866c7\" class=\"sk-top-container\"><div class=\"sk-text-repr-fallback\"><pre>Pipeline(steps=[(&#x27;preprocess&#x27;,\n",
       "                 ColumnTransformer(transformers=[(&#x27;numerical_prprocessing&#x27;,\n",
       "                                                  Pipeline(steps=[(&#x27;imputation&#x27;,\n",
       "                                                                   SimpleImputer()),\n",
       "                                                                  (&#x27;scale&#x27;,\n",
       "                                                                   MinMaxScaler())]),\n",
       "                                                  [&#x27;km_driven&#x27;]),\n",
       "                                                 (&#x27;categoral_preprocessing&#x27;,\n",
       "                                                  Pipeline(steps=[(&#x27;pre_preprocess&#x27;,\n",
       "                                                                   CustomTransformer()),\n",
       "                                                                  (&#x27;onehot&#x27;,\n",
       "                                                                   OneHotEncoder(handle_unknown=&#x27;ignore&#x27;,\n",
       "                                                                                 sparse=False))]),\n",
       "                                                  [&#x27;name&#x27;, &#x27;fuel_type&#x27;])])),\n",
       "                (&#x27;model&#x27;, LinearRegression())])</pre><b>Please rerun this cell to show the HTML repr or trust the notebook.</b></div><div class=\"sk-container\" hidden><div class=\"sk-item sk-dashed-wrapped\"><div class=\"sk-label-container\"><div class=\"sk-label sk-toggleable\"><input class=\"sk-toggleable__control sk-hidden--visually\" id=\"e97d4411-8dbb-451c-9481-f52532648930\" type=\"checkbox\" ><label for=\"e97d4411-8dbb-451c-9481-f52532648930\" class=\"sk-toggleable__label sk-toggleable__label-arrow\">Pipeline</label><div class=\"sk-toggleable__content\"><pre>Pipeline(steps=[(&#x27;preprocess&#x27;,\n",
       "                 ColumnTransformer(transformers=[(&#x27;numerical_prprocessing&#x27;,\n",
       "                                                  Pipeline(steps=[(&#x27;imputation&#x27;,\n",
       "                                                                   SimpleImputer()),\n",
       "                                                                  (&#x27;scale&#x27;,\n",
       "                                                                   MinMaxScaler())]),\n",
       "                                                  [&#x27;km_driven&#x27;]),\n",
       "                                                 (&#x27;categoral_preprocessing&#x27;,\n",
       "                                                  Pipeline(steps=[(&#x27;pre_preprocess&#x27;,\n",
       "                                                                   CustomTransformer()),\n",
       "                                                                  (&#x27;onehot&#x27;,\n",
       "                                                                   OneHotEncoder(handle_unknown=&#x27;ignore&#x27;,\n",
       "                                                                                 sparse=False))]),\n",
       "                                                  [&#x27;name&#x27;, &#x27;fuel_type&#x27;])])),\n",
       "                (&#x27;model&#x27;, LinearRegression())])</pre></div></div></div><div class=\"sk-serial\"><div class=\"sk-item sk-dashed-wrapped\"><div class=\"sk-label-container\"><div class=\"sk-label sk-toggleable\"><input class=\"sk-toggleable__control sk-hidden--visually\" id=\"8586d5b8-ece0-43a9-a19d-7962ab4c4b3d\" type=\"checkbox\" ><label for=\"8586d5b8-ece0-43a9-a19d-7962ab4c4b3d\" class=\"sk-toggleable__label sk-toggleable__label-arrow\">preprocess: ColumnTransformer</label><div class=\"sk-toggleable__content\"><pre>ColumnTransformer(transformers=[(&#x27;numerical_prprocessing&#x27;,\n",
       "                                 Pipeline(steps=[(&#x27;imputation&#x27;,\n",
       "                                                  SimpleImputer()),\n",
       "                                                 (&#x27;scale&#x27;, MinMaxScaler())]),\n",
       "                                 [&#x27;km_driven&#x27;]),\n",
       "                                (&#x27;categoral_preprocessing&#x27;,\n",
       "                                 Pipeline(steps=[(&#x27;pre_preprocess&#x27;,\n",
       "                                                  CustomTransformer()),\n",
       "                                                 (&#x27;onehot&#x27;,\n",
       "                                                  OneHotEncoder(handle_unknown=&#x27;ignore&#x27;,\n",
       "                                                                sparse=False))]),\n",
       "                                 [&#x27;name&#x27;, &#x27;fuel_type&#x27;])])</pre></div></div></div><div class=\"sk-parallel\"><div class=\"sk-parallel-item\"><div class=\"sk-item\"><div class=\"sk-label-container\"><div class=\"sk-label sk-toggleable\"><input class=\"sk-toggleable__control sk-hidden--visually\" id=\"e073e09d-38e5-4e8b-b306-01cdd3037917\" type=\"checkbox\" ><label for=\"e073e09d-38e5-4e8b-b306-01cdd3037917\" class=\"sk-toggleable__label sk-toggleable__label-arrow\">numerical_prprocessing</label><div class=\"sk-toggleable__content\"><pre>[&#x27;km_driven&#x27;]</pre></div></div></div><div class=\"sk-serial\"><div class=\"sk-item\"><div class=\"sk-serial\"><div class=\"sk-item\"><div class=\"sk-estimator sk-toggleable\"><input class=\"sk-toggleable__control sk-hidden--visually\" id=\"b767e34b-3ea5-45d2-994d-fb9a9fbea2e9\" type=\"checkbox\" ><label for=\"b767e34b-3ea5-45d2-994d-fb9a9fbea2e9\" class=\"sk-toggleable__label sk-toggleable__label-arrow\">SimpleImputer</label><div class=\"sk-toggleable__content\"><pre>SimpleImputer()</pre></div></div></div><div class=\"sk-item\"><div class=\"sk-estimator sk-toggleable\"><input class=\"sk-toggleable__control sk-hidden--visually\" id=\"31c6d783-5d30-4b63-8acf-5edce7174f23\" type=\"checkbox\" ><label for=\"31c6d783-5d30-4b63-8acf-5edce7174f23\" class=\"sk-toggleable__label sk-toggleable__label-arrow\">MinMaxScaler</label><div class=\"sk-toggleable__content\"><pre>MinMaxScaler()</pre></div></div></div></div></div></div></div></div><div class=\"sk-parallel-item\"><div class=\"sk-item\"><div class=\"sk-label-container\"><div class=\"sk-label sk-toggleable\"><input class=\"sk-toggleable__control sk-hidden--visually\" id=\"dcb0a79e-d279-4104-8b42-fb4ae353c2d9\" type=\"checkbox\" ><label for=\"dcb0a79e-d279-4104-8b42-fb4ae353c2d9\" class=\"sk-toggleable__label sk-toggleable__label-arrow\">categoral_preprocessing</label><div class=\"sk-toggleable__content\"><pre>[&#x27;name&#x27;, &#x27;fuel_type&#x27;]</pre></div></div></div><div class=\"sk-serial\"><div class=\"sk-item\"><div class=\"sk-serial\"><div class=\"sk-item\"><div class=\"sk-estimator sk-toggleable\"><input class=\"sk-toggleable__control sk-hidden--visually\" id=\"a9590e07-1dbf-4eb7-b02e-6ba74f78b05c\" type=\"checkbox\" ><label for=\"a9590e07-1dbf-4eb7-b02e-6ba74f78b05c\" class=\"sk-toggleable__label sk-toggleable__label-arrow\">CustomTransformer</label><div class=\"sk-toggleable__content\"><pre>CustomTransformer()</pre></div></div></div><div class=\"sk-item\"><div class=\"sk-estimator sk-toggleable\"><input class=\"sk-toggleable__control sk-hidden--visually\" id=\"aefe8a52-a63f-4e90-8603-cd15d8f0d060\" type=\"checkbox\" ><label for=\"aefe8a52-a63f-4e90-8603-cd15d8f0d060\" class=\"sk-toggleable__label sk-toggleable__label-arrow\">OneHotEncoder</label><div class=\"sk-toggleable__content\"><pre>OneHotEncoder(handle_unknown=&#x27;ignore&#x27;, sparse=False)</pre></div></div></div></div></div></div></div></div></div></div><div class=\"sk-item\"><div class=\"sk-estimator sk-toggleable\"><input class=\"sk-toggleable__control sk-hidden--visually\" id=\"a18962de-5075-40e8-b980-1396826b1cc4\" type=\"checkbox\" ><label for=\"a18962de-5075-40e8-b980-1396826b1cc4\" class=\"sk-toggleable__label sk-toggleable__label-arrow\">LinearRegression</label><div class=\"sk-toggleable__content\"><pre>LinearRegression()</pre></div></div></div></div></div></div></div>"
      ],
      "text/plain": [
       "Pipeline(steps=[('preprocess',\n",
       "                 ColumnTransformer(transformers=[('numerical_prprocessing',\n",
       "                                                  Pipeline(steps=[('imputation',\n",
       "                                                                   SimpleImputer()),\n",
       "                                                                  ('scale',\n",
       "                                                                   MinMaxScaler())]),\n",
       "                                                  ['km_driven']),\n",
       "                                                 ('categoral_preprocessing',\n",
       "                                                  Pipeline(steps=[('pre_preprocess',\n",
       "                                                                   CustomTransformer()),\n",
       "                                                                  ('onehot',\n",
       "                                                                   OneHotEncoder(handle_unknown='ignore',\n",
       "                                                                                 sparse=False))]),\n",
       "                                                  ['name', 'fuel_type'])])),\n",
       "                ('model', LinearRegression())])"
      ]
     },
     "execution_count": 369,
     "metadata": {},
     "output_type": "execute_result"
    }
   ],
   "source": [
    "pipe.fit(data.drop(columns = 'price'),y)"
   ]
  },
  {
   "cell_type": "code",
   "execution_count": null,
   "id": "c8e79986",
   "metadata": {},
   "outputs": [],
   "source": []
  },
  {
   "cell_type": "code",
   "execution_count": 370,
   "id": "a26a9f26",
   "metadata": {
    "scrolled": true
   },
   "outputs": [
    {
     "data": {
      "text/html": [
       "<style>#sk-41f4cc32-2af5-4e54-a746-f57786f0271f {color: black;background-color: white;}#sk-41f4cc32-2af5-4e54-a746-f57786f0271f pre{padding: 0;}#sk-41f4cc32-2af5-4e54-a746-f57786f0271f div.sk-toggleable {background-color: white;}#sk-41f4cc32-2af5-4e54-a746-f57786f0271f label.sk-toggleable__label {cursor: pointer;display: block;width: 100%;margin-bottom: 0;padding: 0.3em;box-sizing: border-box;text-align: center;}#sk-41f4cc32-2af5-4e54-a746-f57786f0271f label.sk-toggleable__label-arrow:before {content: \"▸\";float: left;margin-right: 0.25em;color: #696969;}#sk-41f4cc32-2af5-4e54-a746-f57786f0271f label.sk-toggleable__label-arrow:hover:before {color: black;}#sk-41f4cc32-2af5-4e54-a746-f57786f0271f div.sk-estimator:hover label.sk-toggleable__label-arrow:before {color: black;}#sk-41f4cc32-2af5-4e54-a746-f57786f0271f div.sk-toggleable__content {max-height: 0;max-width: 0;overflow: hidden;text-align: left;background-color: #f0f8ff;}#sk-41f4cc32-2af5-4e54-a746-f57786f0271f div.sk-toggleable__content pre {margin: 0.2em;color: black;border-radius: 0.25em;background-color: #f0f8ff;}#sk-41f4cc32-2af5-4e54-a746-f57786f0271f input.sk-toggleable__control:checked~div.sk-toggleable__content {max-height: 200px;max-width: 100%;overflow: auto;}#sk-41f4cc32-2af5-4e54-a746-f57786f0271f input.sk-toggleable__control:checked~label.sk-toggleable__label-arrow:before {content: \"▾\";}#sk-41f4cc32-2af5-4e54-a746-f57786f0271f div.sk-estimator input.sk-toggleable__control:checked~label.sk-toggleable__label {background-color: #d4ebff;}#sk-41f4cc32-2af5-4e54-a746-f57786f0271f div.sk-label input.sk-toggleable__control:checked~label.sk-toggleable__label {background-color: #d4ebff;}#sk-41f4cc32-2af5-4e54-a746-f57786f0271f input.sk-hidden--visually {border: 0;clip: rect(1px 1px 1px 1px);clip: rect(1px, 1px, 1px, 1px);height: 1px;margin: -1px;overflow: hidden;padding: 0;position: absolute;width: 1px;}#sk-41f4cc32-2af5-4e54-a746-f57786f0271f div.sk-estimator {font-family: monospace;background-color: #f0f8ff;border: 1px dotted black;border-radius: 0.25em;box-sizing: border-box;margin-bottom: 0.5em;}#sk-41f4cc32-2af5-4e54-a746-f57786f0271f div.sk-estimator:hover {background-color: #d4ebff;}#sk-41f4cc32-2af5-4e54-a746-f57786f0271f div.sk-parallel-item::after {content: \"\";width: 100%;border-bottom: 1px solid gray;flex-grow: 1;}#sk-41f4cc32-2af5-4e54-a746-f57786f0271f div.sk-label:hover label.sk-toggleable__label {background-color: #d4ebff;}#sk-41f4cc32-2af5-4e54-a746-f57786f0271f div.sk-serial::before {content: \"\";position: absolute;border-left: 1px solid gray;box-sizing: border-box;top: 2em;bottom: 0;left: 50%;}#sk-41f4cc32-2af5-4e54-a746-f57786f0271f div.sk-serial {display: flex;flex-direction: column;align-items: center;background-color: white;padding-right: 0.2em;padding-left: 0.2em;}#sk-41f4cc32-2af5-4e54-a746-f57786f0271f div.sk-item {z-index: 1;}#sk-41f4cc32-2af5-4e54-a746-f57786f0271f div.sk-parallel {display: flex;align-items: stretch;justify-content: center;background-color: white;}#sk-41f4cc32-2af5-4e54-a746-f57786f0271f div.sk-parallel::before {content: \"\";position: absolute;border-left: 1px solid gray;box-sizing: border-box;top: 2em;bottom: 0;left: 50%;}#sk-41f4cc32-2af5-4e54-a746-f57786f0271f div.sk-parallel-item {display: flex;flex-direction: column;position: relative;background-color: white;}#sk-41f4cc32-2af5-4e54-a746-f57786f0271f div.sk-parallel-item:first-child::after {align-self: flex-end;width: 50%;}#sk-41f4cc32-2af5-4e54-a746-f57786f0271f div.sk-parallel-item:last-child::after {align-self: flex-start;width: 50%;}#sk-41f4cc32-2af5-4e54-a746-f57786f0271f div.sk-parallel-item:only-child::after {width: 0;}#sk-41f4cc32-2af5-4e54-a746-f57786f0271f div.sk-dashed-wrapped {border: 1px dashed gray;margin: 0 0.4em 0.5em 0.4em;box-sizing: border-box;padding-bottom: 0.4em;background-color: white;position: relative;}#sk-41f4cc32-2af5-4e54-a746-f57786f0271f div.sk-label label {font-family: monospace;font-weight: bold;background-color: white;display: inline-block;line-height: 1.2em;}#sk-41f4cc32-2af5-4e54-a746-f57786f0271f div.sk-label-container {position: relative;z-index: 2;text-align: center;}#sk-41f4cc32-2af5-4e54-a746-f57786f0271f div.sk-container {/* jupyter's `normalize.less` sets `[hidden] { display: none; }` but bootstrap.min.css set `[hidden] { display: none !important; }` so we also need the `!important` here to be able to override the default hidden behavior on the sphinx rendered scikit-learn.org. See: https://github.com/scikit-learn/scikit-learn/issues/21755 */display: inline-block !important;position: relative;}#sk-41f4cc32-2af5-4e54-a746-f57786f0271f div.sk-text-repr-fallback {display: none;}</style><div id=\"sk-41f4cc32-2af5-4e54-a746-f57786f0271f\" class=\"sk-top-container\"><div class=\"sk-text-repr-fallback\"><pre>Pipeline(steps=[(&#x27;preprocess&#x27;,\n",
       "                 ColumnTransformer(transformers=[(&#x27;numerical_prprocessing&#x27;,\n",
       "                                                  Pipeline(steps=[(&#x27;imputation&#x27;,\n",
       "                                                                   SimpleImputer()),\n",
       "                                                                  (&#x27;scale&#x27;,\n",
       "                                                                   MinMaxScaler())]),\n",
       "                                                  [&#x27;km_driven&#x27;]),\n",
       "                                                 (&#x27;categoral_preprocessing&#x27;,\n",
       "                                                  Pipeline(steps=[(&#x27;pre_preprocess&#x27;,\n",
       "                                                                   CustomTransformer()),\n",
       "                                                                  (&#x27;onehot&#x27;,\n",
       "                                                                   OneHotEncoder(handle_unknown=&#x27;ignore&#x27;,\n",
       "                                                                                 sparse=False))]),\n",
       "                                                  [&#x27;name&#x27;, &#x27;fuel_type&#x27;])])),\n",
       "                (&#x27;model&#x27;, LinearRegression())])</pre><b>Please rerun this cell to show the HTML repr or trust the notebook.</b></div><div class=\"sk-container\" hidden><div class=\"sk-item sk-dashed-wrapped\"><div class=\"sk-label-container\"><div class=\"sk-label sk-toggleable\"><input class=\"sk-toggleable__control sk-hidden--visually\" id=\"c2694497-2afd-4b59-9b29-4d9e47c46998\" type=\"checkbox\" ><label for=\"c2694497-2afd-4b59-9b29-4d9e47c46998\" class=\"sk-toggleable__label sk-toggleable__label-arrow\">Pipeline</label><div class=\"sk-toggleable__content\"><pre>Pipeline(steps=[(&#x27;preprocess&#x27;,\n",
       "                 ColumnTransformer(transformers=[(&#x27;numerical_prprocessing&#x27;,\n",
       "                                                  Pipeline(steps=[(&#x27;imputation&#x27;,\n",
       "                                                                   SimpleImputer()),\n",
       "                                                                  (&#x27;scale&#x27;,\n",
       "                                                                   MinMaxScaler())]),\n",
       "                                                  [&#x27;km_driven&#x27;]),\n",
       "                                                 (&#x27;categoral_preprocessing&#x27;,\n",
       "                                                  Pipeline(steps=[(&#x27;pre_preprocess&#x27;,\n",
       "                                                                   CustomTransformer()),\n",
       "                                                                  (&#x27;onehot&#x27;,\n",
       "                                                                   OneHotEncoder(handle_unknown=&#x27;ignore&#x27;,\n",
       "                                                                                 sparse=False))]),\n",
       "                                                  [&#x27;name&#x27;, &#x27;fuel_type&#x27;])])),\n",
       "                (&#x27;model&#x27;, LinearRegression())])</pre></div></div></div><div class=\"sk-serial\"><div class=\"sk-item sk-dashed-wrapped\"><div class=\"sk-label-container\"><div class=\"sk-label sk-toggleable\"><input class=\"sk-toggleable__control sk-hidden--visually\" id=\"9787e038-372d-45fa-93fc-3ae86e7db966\" type=\"checkbox\" ><label for=\"9787e038-372d-45fa-93fc-3ae86e7db966\" class=\"sk-toggleable__label sk-toggleable__label-arrow\">preprocess: ColumnTransformer</label><div class=\"sk-toggleable__content\"><pre>ColumnTransformer(transformers=[(&#x27;numerical_prprocessing&#x27;,\n",
       "                                 Pipeline(steps=[(&#x27;imputation&#x27;,\n",
       "                                                  SimpleImputer()),\n",
       "                                                 (&#x27;scale&#x27;, MinMaxScaler())]),\n",
       "                                 [&#x27;km_driven&#x27;]),\n",
       "                                (&#x27;categoral_preprocessing&#x27;,\n",
       "                                 Pipeline(steps=[(&#x27;pre_preprocess&#x27;,\n",
       "                                                  CustomTransformer()),\n",
       "                                                 (&#x27;onehot&#x27;,\n",
       "                                                  OneHotEncoder(handle_unknown=&#x27;ignore&#x27;,\n",
       "                                                                sparse=False))]),\n",
       "                                 [&#x27;name&#x27;, &#x27;fuel_type&#x27;])])</pre></div></div></div><div class=\"sk-parallel\"><div class=\"sk-parallel-item\"><div class=\"sk-item\"><div class=\"sk-label-container\"><div class=\"sk-label sk-toggleable\"><input class=\"sk-toggleable__control sk-hidden--visually\" id=\"2b140329-7f0e-47e4-91bb-fe3bfe40a8a8\" type=\"checkbox\" ><label for=\"2b140329-7f0e-47e4-91bb-fe3bfe40a8a8\" class=\"sk-toggleable__label sk-toggleable__label-arrow\">numerical_prprocessing</label><div class=\"sk-toggleable__content\"><pre>[&#x27;km_driven&#x27;]</pre></div></div></div><div class=\"sk-serial\"><div class=\"sk-item\"><div class=\"sk-serial\"><div class=\"sk-item\"><div class=\"sk-estimator sk-toggleable\"><input class=\"sk-toggleable__control sk-hidden--visually\" id=\"7d2fe802-2efc-4527-880b-312061fdbc40\" type=\"checkbox\" ><label for=\"7d2fe802-2efc-4527-880b-312061fdbc40\" class=\"sk-toggleable__label sk-toggleable__label-arrow\">SimpleImputer</label><div class=\"sk-toggleable__content\"><pre>SimpleImputer()</pre></div></div></div><div class=\"sk-item\"><div class=\"sk-estimator sk-toggleable\"><input class=\"sk-toggleable__control sk-hidden--visually\" id=\"f4aed931-3ccb-4348-b7e3-b80ba2f30b7c\" type=\"checkbox\" ><label for=\"f4aed931-3ccb-4348-b7e3-b80ba2f30b7c\" class=\"sk-toggleable__label sk-toggleable__label-arrow\">MinMaxScaler</label><div class=\"sk-toggleable__content\"><pre>MinMaxScaler()</pre></div></div></div></div></div></div></div></div><div class=\"sk-parallel-item\"><div class=\"sk-item\"><div class=\"sk-label-container\"><div class=\"sk-label sk-toggleable\"><input class=\"sk-toggleable__control sk-hidden--visually\" id=\"bc150d3e-1e52-4f76-8942-1053bf4ef87e\" type=\"checkbox\" ><label for=\"bc150d3e-1e52-4f76-8942-1053bf4ef87e\" class=\"sk-toggleable__label sk-toggleable__label-arrow\">categoral_preprocessing</label><div class=\"sk-toggleable__content\"><pre>[&#x27;name&#x27;, &#x27;fuel_type&#x27;]</pre></div></div></div><div class=\"sk-serial\"><div class=\"sk-item\"><div class=\"sk-serial\"><div class=\"sk-item\"><div class=\"sk-estimator sk-toggleable\"><input class=\"sk-toggleable__control sk-hidden--visually\" id=\"f8c88b58-3964-48a5-bd66-367f817c6181\" type=\"checkbox\" ><label for=\"f8c88b58-3964-48a5-bd66-367f817c6181\" class=\"sk-toggleable__label sk-toggleable__label-arrow\">CustomTransformer</label><div class=\"sk-toggleable__content\"><pre>CustomTransformer()</pre></div></div></div><div class=\"sk-item\"><div class=\"sk-estimator sk-toggleable\"><input class=\"sk-toggleable__control sk-hidden--visually\" id=\"0873b29d-da51-437e-acaa-c221c5629a32\" type=\"checkbox\" ><label for=\"0873b29d-da51-437e-acaa-c221c5629a32\" class=\"sk-toggleable__label sk-toggleable__label-arrow\">OneHotEncoder</label><div class=\"sk-toggleable__content\"><pre>OneHotEncoder(handle_unknown=&#x27;ignore&#x27;, sparse=False)</pre></div></div></div></div></div></div></div></div></div></div><div class=\"sk-item\"><div class=\"sk-estimator sk-toggleable\"><input class=\"sk-toggleable__control sk-hidden--visually\" id=\"5eca425e-0828-44e9-8217-325e4a43acfd\" type=\"checkbox\" ><label for=\"5eca425e-0828-44e9-8217-325e4a43acfd\" class=\"sk-toggleable__label sk-toggleable__label-arrow\">LinearRegression</label><div class=\"sk-toggleable__content\"><pre>LinearRegression()</pre></div></div></div></div></div></div></div>"
      ],
      "text/plain": [
       "Pipeline(steps=[('preprocess',\n",
       "                 ColumnTransformer(transformers=[('numerical_prprocessing',\n",
       "                                                  Pipeline(steps=[('imputation',\n",
       "                                                                   SimpleImputer()),\n",
       "                                                                  ('scale',\n",
       "                                                                   MinMaxScaler())]),\n",
       "                                                  ['km_driven']),\n",
       "                                                 ('categoral_preprocessing',\n",
       "                                                  Pipeline(steps=[('pre_preprocess',\n",
       "                                                                   CustomTransformer()),\n",
       "                                                                  ('onehot',\n",
       "                                                                   OneHotEncoder(handle_unknown='ignore',\n",
       "                                                                                 sparse=False))]),\n",
       "                                                  ['name', 'fuel_type'])])),\n",
       "                ('model', LinearRegression())])"
      ]
     },
     "metadata": {},
     "output_type": "display_data"
    }
   ],
   "source": [
    "from sklearn import set_config\n",
    "set_config(display='diagram')  \n",
    "display(pipe)"
   ]
  },
  {
   "cell_type": "code",
   "execution_count": 371,
   "id": "1049e5a1",
   "metadata": {},
   "outputs": [],
   "source": [
    "new_test = ['Toyota','Petrol',np.NaN]"
   ]
  },
  {
   "cell_type": "code",
   "execution_count": 372,
   "id": "bf299072",
   "metadata": {},
   "outputs": [],
   "source": [
    "new_ = pd.DataFrame(new_test).T"
   ]
  },
  {
   "cell_type": "code",
   "execution_count": 373,
   "id": "03ef22eb",
   "metadata": {},
   "outputs": [],
   "source": [
    "new_.columns = ['name','fuel_type', 'km_driven']"
   ]
  },
  {
   "cell_type": "code",
   "execution_count": 374,
   "id": "443813f9",
   "metadata": {},
   "outputs": [
    {
     "data": {
      "text/html": [
       "<div>\n",
       "<style scoped>\n",
       "    .dataframe tbody tr th:only-of-type {\n",
       "        vertical-align: middle;\n",
       "    }\n",
       "\n",
       "    .dataframe tbody tr th {\n",
       "        vertical-align: top;\n",
       "    }\n",
       "\n",
       "    .dataframe thead th {\n",
       "        text-align: right;\n",
       "    }\n",
       "</style>\n",
       "<table border=\"1\" class=\"dataframe\">\n",
       "  <thead>\n",
       "    <tr style=\"text-align: right;\">\n",
       "      <th></th>\n",
       "      <th>name</th>\n",
       "      <th>fuel_type</th>\n",
       "      <th>km_driven</th>\n",
       "    </tr>\n",
       "  </thead>\n",
       "  <tbody>\n",
       "    <tr>\n",
       "      <th>0</th>\n",
       "      <td>Toyota</td>\n",
       "      <td>Petrol</td>\n",
       "      <td>NaN</td>\n",
       "    </tr>\n",
       "  </tbody>\n",
       "</table>\n",
       "</div>"
      ],
      "text/plain": [
       "     name fuel_type km_driven\n",
       "0  Toyota    Petrol       NaN"
      ]
     },
     "execution_count": 374,
     "metadata": {},
     "output_type": "execute_result"
    }
   ],
   "source": [
    "new_"
   ]
  },
  {
   "cell_type": "code",
   "execution_count": null,
   "id": "8c923795",
   "metadata": {},
   "outputs": [],
   "source": []
  },
  {
   "cell_type": "code",
   "execution_count": 375,
   "id": "82494439",
   "metadata": {},
   "outputs": [
    {
     "name": "stdout",
     "output_type": "stream",
     "text": [
      "\n",
      ">>>>>>>transform() called.\n",
      "\n",
      "\n",
      ">>>> Input :       name fuel_type\n",
      "0  Toyota    Petrol\n",
      "\n",
      ">>>> Output :       name fuel_type\n",
      "0  toyota    petrol\n",
      "\n",
      ">>>>>>> Custom Transformer Called\n"
     ]
    },
    {
     "data": {
      "text/plain": [
       "array([904492.0686354])"
      ]
     },
     "execution_count": 375,
     "metadata": {},
     "output_type": "execute_result"
    }
   ],
   "source": [
    "pipe.predict(new_)"
   ]
  },
  {
   "cell_type": "code",
   "execution_count": 376,
   "id": "034d4cf9",
   "metadata": {},
   "outputs": [
    {
     "data": {
      "text/plain": [
       "['preprocess_model.pkl']"
      ]
     },
     "execution_count": 376,
     "metadata": {},
     "output_type": "execute_result"
    }
   ],
   "source": [
    "joblib.dump(pipe,'preprocess_model.pkl')"
   ]
  },
  {
   "cell_type": "code",
   "execution_count": null,
   "id": "4daf2b3b",
   "metadata": {},
   "outputs": [],
   "source": []
  },
  {
   "cell_type": "code",
   "execution_count": null,
   "id": "447e5896",
   "metadata": {},
   "outputs": [],
   "source": []
  },
  {
   "cell_type": "code",
   "execution_count": null,
   "id": "ff69e60f",
   "metadata": {},
   "outputs": [],
   "source": []
  }
 ],
 "metadata": {
  "kernelspec": {
   "display_name": "Python 3 (ipykernel)",
   "language": "python",
   "name": "python3"
  },
  "language_info": {
   "codemirror_mode": {
    "name": "ipython",
    "version": 3
   },
   "file_extension": ".py",
   "mimetype": "text/x-python",
   "name": "python",
   "nbconvert_exporter": "python",
   "pygments_lexer": "ipython3",
   "version": "3.9.13"
  }
 },
 "nbformat": 4,
 "nbformat_minor": 5
}
