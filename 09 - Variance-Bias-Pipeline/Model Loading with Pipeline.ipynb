{
 "cells": [
  {
   "cell_type": "code",
   "execution_count": 58,
   "id": "6efc2024",
   "metadata": {},
   "outputs": [],
   "source": [
    "import joblib\n",
    "import numpy as np\n",
    "import pandas as pd\n",
    "from preprocessing import CustomTransformer"
   ]
  },
  {
   "cell_type": "code",
   "execution_count": 59,
   "id": "dcbfa7f0",
   "metadata": {},
   "outputs": [],
   "source": [
    "model = joblib.load('preprocess_model.pkl')"
   ]
  },
  {
   "cell_type": "code",
   "execution_count": 68,
   "id": "986c7243",
   "metadata": {},
   "outputs": [],
   "source": [
    "new_test = ['Maruti','Petrol',np.NaN]"
   ]
  },
  {
   "cell_type": "code",
   "execution_count": 69,
   "id": "6a0967b6",
   "metadata": {},
   "outputs": [],
   "source": [
    "new_ = pd.DataFrame(new_test).T"
   ]
  },
  {
   "cell_type": "code",
   "execution_count": 70,
   "id": "14161617",
   "metadata": {},
   "outputs": [],
   "source": [
    "new_.columns = ['name','fuel_type', 'km_driven']"
   ]
  },
  {
   "cell_type": "code",
   "execution_count": 71,
   "id": "8bb0c429",
   "metadata": {},
   "outputs": [
    {
     "name": "stdout",
     "output_type": "stream",
     "text": [
      "\n",
      ">>>>>>>transform() called.\n",
      "\n",
      "\n",
      ">>>> Input :       name fuel_type\n",
      "0  Maruti    Petrol\n",
      "\n",
      ">>>> Output :       name fuel_type\n",
      "0  maruti    petrol\n",
      "\n",
      ">>>>>>> Custom Transformer Called\n"
     ]
    },
    {
     "data": {
      "text/plain": [
       "array([232361.1974338])"
      ]
     },
     "execution_count": 71,
     "metadata": {},
     "output_type": "execute_result"
    }
   ],
   "source": [
    "model.predict(new_)"
   ]
  },
  {
   "cell_type": "code",
   "execution_count": null,
   "id": "8cacff21",
   "metadata": {},
   "outputs": [],
   "source": []
  },
  {
   "cell_type": "code",
   "execution_count": null,
   "id": "90c42ca1",
   "metadata": {},
   "outputs": [],
   "source": []
  }
 ],
 "metadata": {
  "kernelspec": {
   "display_name": "Python 3 (ipykernel)",
   "language": "python",
   "name": "python3"
  },
  "language_info": {
   "codemirror_mode": {
    "name": "ipython",
    "version": 3
   },
   "file_extension": ".py",
   "mimetype": "text/x-python",
   "name": "python",
   "nbconvert_exporter": "python",
   "pygments_lexer": "ipython3",
   "version": "3.9.13"
  }
 },
 "nbformat": 4,
 "nbformat_minor": 5
}
