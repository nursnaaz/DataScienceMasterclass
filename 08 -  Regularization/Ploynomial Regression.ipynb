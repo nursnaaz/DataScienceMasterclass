{
 "cells": [
  {
   "cell_type": "code",
   "execution_count": 1,
   "id": "0a2f622c",
   "metadata": {},
   "outputs": [],
   "source": [
    "import pandas as pd\n",
    "import seaborn as sns\n",
    "import matplotlib.pyplot as plt\n",
    "\n",
    "from sklearn.model_selection import train_test_split\n",
    "\n",
    "from sklearn.preprocessing import PolynomialFeatures\n",
    "from sklearn.linear_model import LinearRegression\n",
    "\n",
    "from sklearn.metrics import mean_absolute_percentage_error, r2_score"
   ]
  },
  {
   "cell_type": "code",
   "execution_count": 2,
   "id": "2f1d7f25",
   "metadata": {},
   "outputs": [],
   "source": [
    "data = pd.read_csv('data_poly.csv')"
   ]
  },
  {
   "cell_type": "code",
   "execution_count": 3,
   "id": "cf92d768",
   "metadata": {},
   "outputs": [
    {
     "data": {
      "text/html": [
       "<div>\n",
       "<style scoped>\n",
       "    .dataframe tbody tr th:only-of-type {\n",
       "        vertical-align: middle;\n",
       "    }\n",
       "\n",
       "    .dataframe tbody tr th {\n",
       "        vertical-align: top;\n",
       "    }\n",
       "\n",
       "    .dataframe thead th {\n",
       "        text-align: right;\n",
       "    }\n",
       "</style>\n",
       "<table border=\"1\" class=\"dataframe\">\n",
       "  <thead>\n",
       "    <tr style=\"text-align: right;\">\n",
       "      <th></th>\n",
       "      <th>x</th>\n",
       "      <th>y</th>\n",
       "    </tr>\n",
       "  </thead>\n",
       "  <tbody>\n",
       "    <tr>\n",
       "      <th>0</th>\n",
       "      <td>0</td>\n",
       "      <td>3</td>\n",
       "    </tr>\n",
       "    <tr>\n",
       "      <th>1</th>\n",
       "      <td>1</td>\n",
       "      <td>4</td>\n",
       "    </tr>\n",
       "    <tr>\n",
       "      <th>2</th>\n",
       "      <td>2</td>\n",
       "      <td>5</td>\n",
       "    </tr>\n",
       "    <tr>\n",
       "      <th>3</th>\n",
       "      <td>3</td>\n",
       "      <td>7</td>\n",
       "    </tr>\n",
       "    <tr>\n",
       "      <th>4</th>\n",
       "      <td>4</td>\n",
       "      <td>10</td>\n",
       "    </tr>\n",
       "    <tr>\n",
       "      <th>5</th>\n",
       "      <td>5</td>\n",
       "      <td>8</td>\n",
       "    </tr>\n",
       "    <tr>\n",
       "      <th>6</th>\n",
       "      <td>6</td>\n",
       "      <td>9</td>\n",
       "    </tr>\n",
       "    <tr>\n",
       "      <th>7</th>\n",
       "      <td>7</td>\n",
       "      <td>10</td>\n",
       "    </tr>\n",
       "    <tr>\n",
       "      <th>8</th>\n",
       "      <td>8</td>\n",
       "      <td>10</td>\n",
       "    </tr>\n",
       "    <tr>\n",
       "      <th>9</th>\n",
       "      <td>9</td>\n",
       "      <td>23</td>\n",
       "    </tr>\n",
       "    <tr>\n",
       "      <th>10</th>\n",
       "      <td>10</td>\n",
       "      <td>27</td>\n",
       "    </tr>\n",
       "    <tr>\n",
       "      <th>11</th>\n",
       "      <td>11</td>\n",
       "      <td>44</td>\n",
       "    </tr>\n",
       "    <tr>\n",
       "      <th>12</th>\n",
       "      <td>12</td>\n",
       "      <td>50</td>\n",
       "    </tr>\n",
       "    <tr>\n",
       "      <th>13</th>\n",
       "      <td>13</td>\n",
       "      <td>63</td>\n",
       "    </tr>\n",
       "    <tr>\n",
       "      <th>14</th>\n",
       "      <td>14</td>\n",
       "      <td>67</td>\n",
       "    </tr>\n",
       "    <tr>\n",
       "      <th>15</th>\n",
       "      <td>15</td>\n",
       "      <td>60</td>\n",
       "    </tr>\n",
       "    <tr>\n",
       "      <th>16</th>\n",
       "      <td>16</td>\n",
       "      <td>62</td>\n",
       "    </tr>\n",
       "    <tr>\n",
       "      <th>17</th>\n",
       "      <td>17</td>\n",
       "      <td>70</td>\n",
       "    </tr>\n",
       "    <tr>\n",
       "      <th>18</th>\n",
       "      <td>18</td>\n",
       "      <td>75</td>\n",
       "    </tr>\n",
       "    <tr>\n",
       "      <th>19</th>\n",
       "      <td>19</td>\n",
       "      <td>88</td>\n",
       "    </tr>\n",
       "    <tr>\n",
       "      <th>20</th>\n",
       "      <td>20</td>\n",
       "      <td>81</td>\n",
       "    </tr>\n",
       "    <tr>\n",
       "      <th>21</th>\n",
       "      <td>21</td>\n",
       "      <td>87</td>\n",
       "    </tr>\n",
       "    <tr>\n",
       "      <th>22</th>\n",
       "      <td>22</td>\n",
       "      <td>95</td>\n",
       "    </tr>\n",
       "    <tr>\n",
       "      <th>23</th>\n",
       "      <td>23</td>\n",
       "      <td>100</td>\n",
       "    </tr>\n",
       "    <tr>\n",
       "      <th>24</th>\n",
       "      <td>24</td>\n",
       "      <td>108</td>\n",
       "    </tr>\n",
       "    <tr>\n",
       "      <th>25</th>\n",
       "      <td>25</td>\n",
       "      <td>135</td>\n",
       "    </tr>\n",
       "    <tr>\n",
       "      <th>26</th>\n",
       "      <td>26</td>\n",
       "      <td>151</td>\n",
       "    </tr>\n",
       "    <tr>\n",
       "      <th>27</th>\n",
       "      <td>27</td>\n",
       "      <td>160</td>\n",
       "    </tr>\n",
       "    <tr>\n",
       "      <th>28</th>\n",
       "      <td>28</td>\n",
       "      <td>169</td>\n",
       "    </tr>\n",
       "    <tr>\n",
       "      <th>29</th>\n",
       "      <td>29</td>\n",
       "      <td>179</td>\n",
       "    </tr>\n",
       "  </tbody>\n",
       "</table>\n",
       "</div>"
      ],
      "text/plain": [
       "     x    y\n",
       "0    0    3\n",
       "1    1    4\n",
       "2    2    5\n",
       "3    3    7\n",
       "4    4   10\n",
       "5    5    8\n",
       "6    6    9\n",
       "7    7   10\n",
       "8    8   10\n",
       "9    9   23\n",
       "10  10   27\n",
       "11  11   44\n",
       "12  12   50\n",
       "13  13   63\n",
       "14  14   67\n",
       "15  15   60\n",
       "16  16   62\n",
       "17  17   70\n",
       "18  18   75\n",
       "19  19   88\n",
       "20  20   81\n",
       "21  21   87\n",
       "22  22   95\n",
       "23  23  100\n",
       "24  24  108\n",
       "25  25  135\n",
       "26  26  151\n",
       "27  27  160\n",
       "28  28  169\n",
       "29  29  179"
      ]
     },
     "execution_count": 3,
     "metadata": {},
     "output_type": "execute_result"
    }
   ],
   "source": [
    "data"
   ]
  },
  {
   "cell_type": "code",
   "execution_count": 4,
   "id": "320d029e",
   "metadata": {},
   "outputs": [
    {
     "data": {
      "text/plain": [
       "<AxesSubplot:xlabel='x', ylabel='y'>"
      ]
     },
     "execution_count": 4,
     "metadata": {},
     "output_type": "execute_result"
    },
    {
     "data": {
      "image/png": "[encoded data removed]",
      "text/plain": [
       "<Figure size 640x480 with 1 Axes>"
      ]
     },
     "metadata": {},
     "output_type": "display_data"
    }
   ],
   "source": [
    "sns.scatterplot(x = 'x', y = 'y', data=data )"
   ]
  },
  {
   "cell_type": "code",
   "execution_count": 5,
   "id": "fbfd3ec7",
   "metadata": {},
   "outputs": [
    {
     "data": {
      "text/plain": [
       "LinearRegression()"
      ]
     },
     "execution_count": 5,
     "metadata": {},
     "output_type": "execute_result"
    }
   ],
   "source": [
    "model = LinearRegression()\n",
    "model.fit(data[['x']], data['y'])"
   ]
  },
  {
   "cell_type": "code",
   "execution_count": 6,
   "id": "63941aa4",
   "metadata": {},
   "outputs": [],
   "source": [
    "data_pred = model.predict(data[['x']])"
   ]
  },
  {
   "cell_type": "code",
   "execution_count": 7,
   "id": "4ce10e91",
   "metadata": {},
   "outputs": [
    {
     "data": {
      "text/plain": [
       "[<matplotlib.lines.Line2D at 0x7fdfc11a5160>]"
      ]
     },
     "execution_count": 7,
     "metadata": {},
     "output_type": "execute_result"
    },
    {
     "data": {
      "image/png": "[encoded data removed]",
      "text/plain": [
       "<Figure size 640x480 with 1 Axes>"
      ]
     },
     "metadata": {},
     "output_type": "display_data"
    }
   ],
   "source": [
    "sns.scatterplot(x = 'x', y = 'y', data=data )\n",
    "plt.plot(data_pred)"
   ]
  },
  {
   "cell_type": "raw",
   "id": "1c29a09a",
   "metadata": {},
   "source": [
    "x, z\n",
    "\n",
    "1,x,z,x^2,z^2,xz"
   ]
  },
  {
   "cell_type": "raw",
   "id": "35d75348",
   "metadata": {},
   "source": [
    "x\n",
    "\n",
    "1, x^2, x"
   ]
  },
  {
   "cell_type": "code",
   "execution_count": 9,
   "id": "071f5fe7",
   "metadata": {},
   "outputs": [],
   "source": [
    "poly = PolynomialFeatures(degree=2, include_bias=False)\n",
    "poly_3 = PolynomialFeatures(degree=3, include_bias=False)\n",
    "poly_5 = PolynomialFeatures(degree=5, include_bias=False)\n",
    "poly_15 = PolynomialFeatures(degree=15, include_bias=False)"
   ]
  },
  {
   "cell_type": "code",
   "execution_count": 10,
   "id": "e2ce93f3",
   "metadata": {},
   "outputs": [],
   "source": [
    "poly_x = poly.fit_transform(data[['x']])\n",
    "poly_x3 = poly_3.fit_transform(data[['x']])\n",
    "poly_x5 = poly_5.fit_transform(data[['x']])\n",
    "poly_x15 = poly_15.fit_transform(data[['x']])"
   ]
  },
  {
   "cell_type": "code",
   "execution_count": 11,
   "id": "dcce94aa",
   "metadata": {},
   "outputs": [
    {
     "data": {
      "text/plain": [
       "LinearRegression()"
      ]
     },
     "execution_count": 11,
     "metadata": {},
     "output_type": "execute_result"
    }
   ],
   "source": [
    "model = LinearRegression()\n",
    "model_3 = LinearRegression()\n",
    "model_5 = LinearRegression()\n",
    "model_15 = LinearRegression()\n",
    "\n",
    "\n",
    "\n",
    "model_3.fit(poly_x3, data['y'])\n",
    "model_5.fit(poly_x5, data['y'])\n",
    "model_15.fit(poly_x15, data['y'])"
   ]
  },
  {
   "cell_type": "code",
   "execution_count": 12,
   "id": "d1a06f5d",
   "metadata": {},
   "outputs": [],
   "source": [
    "data_pred_poly = model.predict(poly_x)\n",
    "\n",
    "data_pred_poly_3 = model_3.predict(poly_x3)\n",
    "data_pred_poly_5 = model_5.predict(poly_x5)\n",
    "data_pred_poly_15 = model_15.predict(poly_x15)"
   ]
  },
  {
   "cell_type": "code",
   "execution_count": 13,
   "id": "e9d0190f",
   "metadata": {},
   "outputs": [
    {
     "data": {
      "text/plain": [
       "[<matplotlib.lines.Line2D at 0x7fdfe1325730>]"
      ]
     },
     "execution_count": 13,
     "metadata": {},
     "output_type": "execute_result"
    },
    {
     "data": {
      "image/png": "[encoded data removed]",
      "text/plain": [
       "<Figure size 640x480 with 1 Axes>"
      ]
     },
     "metadata": {},
     "output_type": "display_data"
    }
   ],
   "source": [
    "sns.scatterplot(x = 'x', y = 'y', data=data )\n",
    "plt.plot(data_pred,color = 'red')\n",
    "plt.plot(data_pred_poly, color = 'green')\n",
    "plt.plot(data_pred_poly_3, color = 'black')\n",
    "plt.plot(data_pred_poly_5, color = 'pink')\n",
    "plt.plot(data_pred_poly_15, color = 'yellow')"
   ]
  },
  {
   "cell_type": "code",
   "execution_count": 14,
   "id": "e77e033e",
   "metadata": {},
   "outputs": [
    {
     "name": "stdout",
     "output_type": "stream",
     "text": [
      "MAPE of Straight Line =  0.7996999195631865\n",
      "MAPE of Polynomial degree 2 Line =  0.2031995437736923\n",
      "MAPE of Polynomial degree 3 Line =  0.32043050951182656\n",
      "MAPE of Polynomial degree 5 Line =  0.2942388626809141\n",
      "MAPE of Polynomial degree 15 Line =  0.17432462595126647\n"
     ]
    }
   ],
   "source": [
    "print(\"MAPE of Straight Line = \",mean_absolute_percentage_error(data['y'],data_pred))\n",
    "print(\"MAPE of Polynomial degree 2 Line = \",mean_absolute_percentage_error(data['y'],data_pred_poly))\n",
    "print(\"MAPE of Polynomial degree 3 Line = \",mean_absolute_percentage_error(data['y'],data_pred_poly_3))\n",
    "print(\"MAPE of Polynomial degree 5 Line = \",mean_absolute_percentage_error(data['y'],data_pred_poly_5))\n",
    "print(\"MAPE of Polynomial degree 15 Line = \",mean_absolute_percentage_error(data['y'],data_pred_poly_15))"
   ]
  },
  {
   "cell_type": "raw",
   "id": "46592306",
   "metadata": {},
   "source": [
    "accuracy of simple model = 85% \n",
    "acuuracy of little complex = 92% #1~ hour # 7% improvement\n",
    "accuracy of very much complex = 93% # 5~ hours # 1% improvement\n",
    "\n"
   ]
  },
  {
   "cell_type": "code",
   "execution_count": 17,
   "id": "44c9143f",
   "metadata": {},
   "outputs": [
    {
     "data": {
      "text/plain": [
       "0.07608695652173914"
      ]
     },
     "execution_count": 17,
     "metadata": {},
     "output_type": "execute_result"
    }
   ],
   "source": [
    "(92 -85)/92"
   ]
  },
  {
   "cell_type": "code",
   "execution_count": 18,
   "id": "25beed40",
   "metadata": {},
   "outputs": [
    {
     "data": {
      "text/plain": [
       "0.010752688172043012"
      ]
     },
     "execution_count": 18,
     "metadata": {},
     "output_type": "execute_result"
    }
   ],
   "source": [
    "(93-92)/93"
   ]
  },
  {
   "cell_type": "raw",
   "id": "6cf9436a",
   "metadata": {},
   "source": [
    "accuracy of simple model = 85% \n",
    "acuuracy of little complex = 87% #1~ hour # 2% improvement\n",
    "accuracy of very much complex = 90% # 5~ hours # 3% improvement"
   ]
  },
  {
   "cell_type": "code",
   "execution_count": 22,
   "id": "72b4a249",
   "metadata": {},
   "outputs": [
    {
     "data": {
      "text/plain": [
       "0.022988505747126436"
      ]
     },
     "execution_count": 22,
     "metadata": {},
     "output_type": "execute_result"
    }
   ],
   "source": [
    "(87 -85)/87"
   ]
  },
  {
   "cell_type": "code",
   "execution_count": 23,
   "id": "741b9d88",
   "metadata": {},
   "outputs": [
    {
     "data": {
      "text/plain": [
       "0.03333333333333333"
      ]
     },
     "execution_count": 23,
     "metadata": {},
     "output_type": "execute_result"
    }
   ],
   "source": [
    "(90 -87)/90"
   ]
  },
  {
   "cell_type": "code",
   "execution_count": null,
   "id": "36ffe38a",
   "metadata": {},
   "outputs": [],
   "source": []
  },
  {
   "cell_type": "code",
   "execution_count": 24,
   "id": "2e1c050f",
   "metadata": {},
   "outputs": [],
   "source": [
    "#train and test"
   ]
  },
  {
   "cell_type": "code",
   "execution_count": 131,
   "id": "1250d573",
   "metadata": {},
   "outputs": [],
   "source": [
    "data = data.sort_values(by = 'x')"
   ]
  },
  {
   "cell_type": "code",
   "execution_count": 161,
   "id": "ca8b0217",
   "metadata": {},
   "outputs": [],
   "source": [
    "train_X, test_X, train_y, test_y  = train_test_split(data[['x']],data['y'], test_size=0.35, random_state=10)\n"
   ]
  },
  {
   "cell_type": "code",
   "execution_count": 162,
   "id": "ac04b7de",
   "metadata": {},
   "outputs": [
    {
     "data": {
      "text/plain": [
       "((19, 1), (11, 1), (19,), (11,))"
      ]
     },
     "execution_count": 162,
     "metadata": {},
     "output_type": "execute_result"
    }
   ],
   "source": [
    "train_X.shape, test_X.shape, train_y.shape, test_y.shape"
   ]
  },
  {
   "cell_type": "code",
   "execution_count": 163,
   "id": "11c62135",
   "metadata": {},
   "outputs": [],
   "source": [
    "train = pd.concat([train_X,train_y], axis =1).sort_values(by = 'x')\n",
    "test = pd.concat([test_X,test_y], axis =1).sort_values(by = 'x')"
   ]
  },
  {
   "cell_type": "code",
   "execution_count": 164,
   "id": "5782359a",
   "metadata": {},
   "outputs": [
    {
     "data": {
      "text/html": [
       "<div>\n",
       "<style scoped>\n",
       "    .dataframe tbody tr th:only-of-type {\n",
       "        vertical-align: middle;\n",
       "    }\n",
       "\n",
       "    .dataframe tbody tr th {\n",
       "        vertical-align: top;\n",
       "    }\n",
       "\n",
       "    .dataframe thead th {\n",
       "        text-align: right;\n",
       "    }\n",
       "</style>\n",
       "<table border=\"1\" class=\"dataframe\">\n",
       "  <thead>\n",
       "    <tr style=\"text-align: right;\">\n",
       "      <th></th>\n",
       "      <th>x</th>\n",
       "      <th>y</th>\n",
       "    </tr>\n",
       "  </thead>\n",
       "  <tbody>\n",
       "    <tr>\n",
       "      <th>0</th>\n",
       "      <td>0</td>\n",
       "      <td>3</td>\n",
       "    </tr>\n",
       "    <tr>\n",
       "      <th>4</th>\n",
       "      <td>4</td>\n",
       "      <td>10</td>\n",
       "    </tr>\n",
       "    <tr>\n",
       "      <th>6</th>\n",
       "      <td>6</td>\n",
       "      <td>9</td>\n",
       "    </tr>\n",
       "    <tr>\n",
       "      <th>8</th>\n",
       "      <td>8</td>\n",
       "      <td>10</td>\n",
       "    </tr>\n",
       "    <tr>\n",
       "      <th>9</th>\n",
       "      <td>9</td>\n",
       "      <td>23</td>\n",
       "    </tr>\n",
       "    <tr>\n",
       "      <th>10</th>\n",
       "      <td>10</td>\n",
       "      <td>27</td>\n",
       "    </tr>\n",
       "    <tr>\n",
       "      <th>11</th>\n",
       "      <td>11</td>\n",
       "      <td>44</td>\n",
       "    </tr>\n",
       "    <tr>\n",
       "      <th>14</th>\n",
       "      <td>14</td>\n",
       "      <td>67</td>\n",
       "    </tr>\n",
       "    <tr>\n",
       "      <th>15</th>\n",
       "      <td>15</td>\n",
       "      <td>60</td>\n",
       "    </tr>\n",
       "    <tr>\n",
       "      <th>16</th>\n",
       "      <td>16</td>\n",
       "      <td>62</td>\n",
       "    </tr>\n",
       "    <tr>\n",
       "      <th>17</th>\n",
       "      <td>17</td>\n",
       "      <td>70</td>\n",
       "    </tr>\n",
       "    <tr>\n",
       "      <th>18</th>\n",
       "      <td>18</td>\n",
       "      <td>75</td>\n",
       "    </tr>\n",
       "    <tr>\n",
       "      <th>22</th>\n",
       "      <td>22</td>\n",
       "      <td>95</td>\n",
       "    </tr>\n",
       "    <tr>\n",
       "      <th>23</th>\n",
       "      <td>23</td>\n",
       "      <td>100</td>\n",
       "    </tr>\n",
       "    <tr>\n",
       "      <th>24</th>\n",
       "      <td>24</td>\n",
       "      <td>108</td>\n",
       "    </tr>\n",
       "    <tr>\n",
       "      <th>25</th>\n",
       "      <td>25</td>\n",
       "      <td>135</td>\n",
       "    </tr>\n",
       "    <tr>\n",
       "      <th>26</th>\n",
       "      <td>26</td>\n",
       "      <td>151</td>\n",
       "    </tr>\n",
       "    <tr>\n",
       "      <th>28</th>\n",
       "      <td>28</td>\n",
       "      <td>169</td>\n",
       "    </tr>\n",
       "    <tr>\n",
       "      <th>29</th>\n",
       "      <td>29</td>\n",
       "      <td>179</td>\n",
       "    </tr>\n",
       "  </tbody>\n",
       "</table>\n",
       "</div>"
      ],
      "text/plain": [
       "     x    y\n",
       "0    0    3\n",
       "4    4   10\n",
       "6    6    9\n",
       "8    8   10\n",
       "9    9   23\n",
       "10  10   27\n",
       "11  11   44\n",
       "14  14   67\n",
       "15  15   60\n",
       "16  16   62\n",
       "17  17   70\n",
       "18  18   75\n",
       "22  22   95\n",
       "23  23  100\n",
       "24  24  108\n",
       "25  25  135\n",
       "26  26  151\n",
       "28  28  169\n",
       "29  29  179"
      ]
     },
     "execution_count": 164,
     "metadata": {},
     "output_type": "execute_result"
    }
   ],
   "source": [
    "train"
   ]
  },
  {
   "cell_type": "code",
   "execution_count": 165,
   "id": "3641ae5c",
   "metadata": {},
   "outputs": [
    {
     "data": {
      "text/plain": [
       "<AxesSubplot:xlabel='x', ylabel='y'>"
      ]
     },
     "execution_count": 165,
     "metadata": {},
     "output_type": "execute_result"
    },
    {
     "data": {
      "image/png": "[encoded data removed]",
      "text/plain": [
       "<Figure size 640x480 with 1 Axes>"
      ]
     },
     "metadata": {},
     "output_type": "display_data"
    }
   ],
   "source": [
    "sns.scatterplot(x = train['x'], y = train['y'] )\n",
    "sns.scatterplot(x = test['x'], y = test['y'] )"
   ]
  },
  {
   "cell_type": "code",
   "execution_count": 267,
   "id": "8359c098",
   "metadata": {},
   "outputs": [],
   "source": [
    "poly = PolynomialFeatures(degree=5, include_bias=False)\n",
    "poly_train_x = poly.fit_transform(train[['x']])\n",
    "poly_test_x = poly.transform(test[['x']])\n",
    "\n",
    "model = LinearRegression()"
   ]
  },
  {
   "cell_type": "code",
   "execution_count": null,
   "id": "a6c4e92e",
   "metadata": {},
   "outputs": [],
   "source": []
  },
  {
   "cell_type": "code",
   "execution_count": 268,
   "id": "41cf8ed2",
   "metadata": {},
   "outputs": [
    {
     "data": {
      "text/plain": [
       "LinearRegression()"
      ]
     },
     "execution_count": 268,
     "metadata": {},
     "output_type": "execute_result"
    }
   ],
   "source": [
    "model.fit(poly_train_x, train['y'])"
   ]
  },
  {
   "cell_type": "code",
   "execution_count": 269,
   "id": "0a27d303",
   "metadata": {},
   "outputs": [],
   "source": [
    "data_pred_poly_train = model.predict(poly_train_x)\n",
    "data_pred_poly_test = model.predict(poly_test_x)\n"
   ]
  },
  {
   "cell_type": "code",
   "execution_count": 270,
   "id": "1c83db16",
   "metadata": {},
   "outputs": [
    {
     "data": {
      "text/plain": [
       "<AxesSubplot:xlabel='x', ylabel='y'>"
      ]
     },
     "execution_count": 270,
     "metadata": {},
     "output_type": "execute_result"
    },
    {
     "data": {
      "image/png": "[encoded data removed]",
      "text/plain": [
       "<Figure size 640x480 with 1 Axes>"
      ]
     },
     "metadata": {},
     "output_type": "display_data"
    }
   ],
   "source": [
    "sns.scatterplot(x = train['x'], y = train['y'] )\n",
    "sns.scatterplot(x = test['x'], y = test['y'] )"
   ]
  },
  {
   "cell_type": "code",
   "execution_count": 271,
   "id": "6f017789",
   "metadata": {},
   "outputs": [
    {
     "data": {
      "text/plain": [
       "[<matplotlib.lines.Line2D at 0x7fdff0eb4070>]"
      ]
     },
     "execution_count": 271,
     "metadata": {},
     "output_type": "execute_result"
    },
    {
     "data": {
      "image/png": "[encoded data removed]",
      "text/plain": [
       "<Figure size 640x480 with 1 Axes>"
      ]
     },
     "metadata": {},
     "output_type": "display_data"
    }
   ],
   "source": [
    "\n",
    "plt.plot(data_pred_poly_train, color = 'red')\n",
    "plt.plot(test['x'],data_pred_poly_test, color = 'blue')\n"
   ]
  },
  {
   "cell_type": "code",
   "execution_count": 272,
   "id": "fe6ad7ea",
   "metadata": {},
   "outputs": [
    {
     "data": {
      "text/plain": [
       "array([  5.16060701,   0.19064632,   9.12989878,  20.7151664 ,\n",
       "        26.77689733,  32.76702261,  38.57167611,  54.49253826,\n",
       "        59.38867947,  64.21010115,  69.07581502,  74.12406808,\n",
       "        99.267406  , 107.58374305, 117.00280043, 127.64085107,\n",
       "       139.58865431, 167.61542604, 183.69800255])"
      ]
     },
     "execution_count": 272,
     "metadata": {},
     "output_type": "execute_result"
    }
   ],
   "source": [
    "data_pred_poly_train"
   ]
  },
  {
   "cell_type": "code",
   "execution_count": 273,
   "id": "c0d3e52d",
   "metadata": {},
   "outputs": [],
   "source": [
    "r2_train = mean_absolute_percentage_error(train['y'],data_pred_poly_train)\n",
    "r2_test = mean_absolute_percentage_error(test['y'],data_pred_poly_test)"
   ]
  },
  {
   "cell_type": "code",
   "execution_count": 274,
   "id": "4d43c8de",
   "metadata": {
    "scrolled": true
   },
   "outputs": [
    {
     "data": {
      "text/plain": [
       "0.20601578951706703"
      ]
     },
     "execution_count": 274,
     "metadata": {},
     "output_type": "execute_result"
    }
   ],
   "source": [
    "r2_train"
   ]
  },
  {
   "cell_type": "code",
   "execution_count": 275,
   "id": "313fd8e8",
   "metadata": {},
   "outputs": [
    {
     "data": {
      "text/plain": [
       "0.5029649674228721"
      ]
     },
     "execution_count": 275,
     "metadata": {},
     "output_type": "execute_result"
    }
   ],
   "source": [
    "r2_test"
   ]
  },
  {
   "cell_type": "code",
   "execution_count": 276,
   "id": "5434ab49",
   "metadata": {},
   "outputs": [
    {
     "data": {
      "text/plain": [
       "array([-7.62313954e+00,  2.12147024e+00, -1.48953356e-01,  4.53054896e-03,\n",
       "       -4.66134701e-05])"
      ]
     },
     "execution_count": 276,
     "metadata": {},
     "output_type": "execute_result"
    }
   ],
   "source": [
    "model.coef_"
   ]
  },
  {
   "cell_type": "code",
   "execution_count": 278,
   "id": "66ba1ac2",
   "metadata": {
    "scrolled": true
   },
   "outputs": [
    {
     "data": {
      "text/plain": [
       "<AxesSubplot:>"
      ]
     },
     "execution_count": 278,
     "metadata": {},
     "output_type": "execute_result"
    },
    {
     "data": {
      "image/png": "[encoded data removed]",
      "text/plain": [
       "<Figure size 640x480 with 1 Axes>"
      ]
     },
     "metadata": {},
     "output_type": "display_data"
    }
   ],
   "source": [
    "pd.Series(model.coef_).plot(kind = 'bar')"
   ]
  },
  {
   "cell_type": "code",
   "execution_count": null,
   "id": "2825d751",
   "metadata": {},
   "outputs": [],
   "source": []
  },
  {
   "cell_type": "code",
   "execution_count": null,
   "id": "b17db1df",
   "metadata": {},
   "outputs": [],
   "source": []
  },
  {
   "cell_type": "code",
   "execution_count": null,
   "id": "0d56a5b9",
   "metadata": {},
   "outputs": [],
   "source": []
  },
  {
   "cell_type": "code",
   "execution_count": 279,
   "id": "bec44610",
   "metadata": {},
   "outputs": [],
   "source": [
    "from sklearn.linear_model import Ridge, Lasso, ElasticNet"
   ]
  },
  {
   "cell_type": "code",
   "execution_count": 280,
   "id": "48988627",
   "metadata": {},
   "outputs": [],
   "source": [
    "model = Ridge()"
   ]
  },
  {
   "cell_type": "code",
   "execution_count": null,
   "id": "07ed7de7",
   "metadata": {},
   "outputs": [],
   "source": []
  },
  {
   "cell_type": "code",
   "execution_count": 281,
   "id": "0ab3090a",
   "metadata": {},
   "outputs": [
    {
     "data": {
      "text/plain": [
       "Ridge()"
      ]
     },
     "execution_count": 281,
     "metadata": {},
     "output_type": "execute_result"
    }
   ],
   "source": [
    "model.fit(poly_train_x, train['y'])"
   ]
  },
  {
   "cell_type": "code",
   "execution_count": 282,
   "id": "a8c7d465",
   "metadata": {},
   "outputs": [],
   "source": [
    "data_pred_poly_train = model.predict(poly_train_x)\n",
    "data_pred_poly_test = model.predict(poly_test_x)\n"
   ]
  },
  {
   "cell_type": "code",
   "execution_count": 283,
   "id": "789a9775",
   "metadata": {},
   "outputs": [
    {
     "data": {
      "text/plain": [
       "<AxesSubplot:xlabel='x', ylabel='y'>"
      ]
     },
     "execution_count": 283,
     "metadata": {},
     "output_type": "execute_result"
    },
    {
     "data": {
      "image/png": "[encoded data removed]",
      "text/plain": [
       "<Figure size 640x480 with 1 Axes>"
      ]
     },
     "metadata": {},
     "output_type": "display_data"
    }
   ],
   "source": [
    "sns.scatterplot(x = train['x'], y = train['y'] )\n",
    "sns.scatterplot(x = test['x'], y = test['y'] )"
   ]
  },
  {
   "cell_type": "code",
   "execution_count": 284,
   "id": "d294a9a6",
   "metadata": {},
   "outputs": [
    {
     "data": {
      "text/plain": [
       "[<matplotlib.lines.Line2D at 0x7fdf8130aeb0>]"
      ]
     },
     "execution_count": 284,
     "metadata": {},
     "output_type": "execute_result"
    },
    {
     "data": {
      "image/png": "[encoded data removed]",
      "text/plain": [
       "<Figure size 640x480 with 1 Axes>"
      ]
     },
     "metadata": {},
     "output_type": "display_data"
    }
   ],
   "source": [
    "\n",
    "plt.plot(data_pred_poly_train, color = 'red')\n",
    "plt.plot(test['x'],data_pred_poly_test, color = 'blue')\n"
   ]
  },
  {
   "cell_type": "code",
   "execution_count": 285,
   "id": "34ecdc7e",
   "metadata": {},
   "outputs": [
    {
     "data": {
      "text/plain": [
       "array([  3.08613079,   2.43080108,  10.45763154,  20.85145469,\n",
       "        26.43267064,  32.08096071,  37.70027232,  53.92159228,\n",
       "        59.11308065,  64.26292427,  69.44701663,  74.76236259,\n",
       "        99.89453767, 107.90919726, 116.95973799, 127.23057406,\n",
       "       138.90998236, 167.25400019, 184.29507227])"
      ]
     },
     "execution_count": 285,
     "metadata": {},
     "output_type": "execute_result"
    }
   ],
   "source": [
    "data_pred_poly_train"
   ]
  },
  {
   "cell_type": "code",
   "execution_count": 286,
   "id": "255e00e3",
   "metadata": {},
   "outputs": [],
   "source": [
    "r2_train = mean_absolute_percentage_error(train['y'],data_pred_poly_train)\n",
    "r2_test = mean_absolute_percentage_error(test['y'],data_pred_poly_test)"
   ]
  },
  {
   "cell_type": "code",
   "execution_count": 287,
   "id": "0b11deb0",
   "metadata": {
    "scrolled": true
   },
   "outputs": [
    {
     "data": {
      "text/plain": [
       "0.16642074266866128"
      ]
     },
     "execution_count": 287,
     "metadata": {},
     "output_type": "execute_result"
    }
   ],
   "source": [
    "r2_train"
   ]
  },
  {
   "cell_type": "code",
   "execution_count": 288,
   "id": "e1ec94c7",
   "metadata": {},
   "outputs": [
    {
     "data": {
      "text/plain": [
       "0.4238795280252205"
      ]
     },
     "execution_count": 288,
     "metadata": {},
     "output_type": "execute_result"
    }
   ],
   "source": [
    "r2_test"
   ]
  },
  {
   "cell_type": "code",
   "execution_count": 289,
   "id": "407c5eb9",
   "metadata": {},
   "outputs": [
    {
     "data": {
      "text/plain": [
       "array([-4.53244044e+00,  1.40741128e+00, -8.77954650e-02,  2.31703084e-03,\n",
       "       -1.79673731e-05])"
      ]
     },
     "execution_count": 289,
     "metadata": {},
     "output_type": "execute_result"
    }
   ],
   "source": [
    "model.coef_"
   ]
  },
  {
   "cell_type": "code",
   "execution_count": 290,
   "id": "c868dce0",
   "metadata": {
    "scrolled": false
   },
   "outputs": [
    {
     "data": {
      "text/plain": [
       "<AxesSubplot:>"
      ]
     },
     "execution_count": 290,
     "metadata": {},
     "output_type": "execute_result"
    },
    {
     "data": {
      "image/png": "[encoded data removed]",
      "text/plain": [
       "<Figure size 640x480 with 1 Axes>"
      ]
     },
     "metadata": {},
     "output_type": "display_data"
    }
   ],
   "source": [
    "pd.Series(model.coef_).plot(kind = 'bar')"
   ]
  },
  {
   "cell_type": "code",
   "execution_count": null,
   "id": "d2ed7cfa",
   "metadata": {},
   "outputs": [],
   "source": []
  },
  {
   "cell_type": "code",
   "execution_count": null,
   "id": "259e3f45",
   "metadata": {},
   "outputs": [],
   "source": []
  },
  {
   "cell_type": "code",
   "execution_count": null,
   "id": "808a59c0",
   "metadata": {},
   "outputs": [],
   "source": []
  },
  {
   "cell_type": "code",
   "execution_count": null,
   "id": "9ccd1a28",
   "metadata": {},
   "outputs": [],
   "source": []
  },
  {
   "cell_type": "code",
   "execution_count": null,
   "id": "de53f5c6",
   "metadata": {},
   "outputs": [],
   "source": []
  },
  {
   "cell_type": "code",
   "execution_count": 279,
   "id": "faae4d03",
   "metadata": {},
   "outputs": [],
   "source": [
    "from sklearn.linear_model import Ridge, Lasso, ElasticNet"
   ]
  },
  {
   "cell_type": "code",
   "execution_count": 335,
   "id": "3d10707e",
   "metadata": {},
   "outputs": [],
   "source": [
    "model = Lasso(alpha=1)"
   ]
  },
  {
   "cell_type": "code",
   "execution_count": null,
   "id": "6a2956c3",
   "metadata": {},
   "outputs": [],
   "source": []
  },
  {
   "cell_type": "code",
   "execution_count": 336,
   "id": "8284fb3c",
   "metadata": {},
   "outputs": [
    {
     "name": "stderr",
     "output_type": "stream",
     "text": [
      "/Users/mohamednoordeenalaudeen/opt/anaconda3/lib/python3.9/site-packages/sklearn/linear_model/_coordinate_descent.py:647: ConvergenceWarning: Objective did not converge. You might want to increase the number of iterations, check the scale of the features or consider increasing regularisation. Duality gap: 5.233e+02, tolerance: 5.554e+00\n",
      "  model = cd_fast.enet_coordinate_descent(\n"
     ]
    },
    {
     "data": {
      "text/plain": [
       "Lasso(alpha=1)"
      ]
     },
     "execution_count": 336,
     "metadata": {},
     "output_type": "execute_result"
    }
   ],
   "source": [
    "model.fit(poly_train_x, train['y'])"
   ]
  },
  {
   "cell_type": "code",
   "execution_count": 337,
   "id": "bb6ec71a",
   "metadata": {},
   "outputs": [],
   "source": [
    "data_pred_poly_train = model.predict(poly_train_x)\n",
    "data_pred_poly_test = model.predict(poly_test_x)\n"
   ]
  },
  {
   "cell_type": "code",
   "execution_count": 338,
   "id": "1e191e7b",
   "metadata": {},
   "outputs": [
    {
     "data": {
      "text/plain": [
       "<AxesSubplot:xlabel='x', ylabel='y'>"
      ]
     },
     "execution_count": 338,
     "metadata": {},
     "output_type": "execute_result"
    },
    {
     "data": {
      "image/png": "[encoded data removed]",
      "text/plain": [
       "<Figure size 640x480 with 1 Axes>"
      ]
     },
     "metadata": {},
     "output_type": "display_data"
    }
   ],
   "source": [
    "sns.scatterplot(x = train['x'], y = train['y'] )\n",
    "sns.scatterplot(x = test['x'], y = test['y'] )"
   ]
  },
  {
   "cell_type": "code",
   "execution_count": 339,
   "id": "5073bb41",
   "metadata": {},
   "outputs": [
    {
     "data": {
      "text/plain": [
       "[<matplotlib.lines.Line2D at 0x7fdff12f2d60>]"
      ]
     },
     "execution_count": 339,
     "metadata": {},
     "output_type": "execute_result"
    },
    {
     "data": {
      "image/png": "[encoded data removed]",
      "text/plain": [
       "<Figure size 640x480 with 1 Axes>"
      ]
     },
     "metadata": {},
     "output_type": "display_data"
    }
   ],
   "source": [
    "\n",
    "plt.plot(data_pred_poly_train, color = 'red')\n",
    "plt.plot(test['x'],data_pred_poly_test, color = 'blue')\n"
   ]
  },
  {
   "cell_type": "code",
   "execution_count": 340,
   "id": "95132327",
   "metadata": {},
   "outputs": [
    {
     "data": {
      "text/plain": [
       "array([ -0.42977319,   7.85388945,  14.57167602,  22.50671575,\n",
       "        26.83372808,  31.35894651,  36.05904122,  51.08688093,\n",
       "        56.40736019,  61.9084283 ,  67.62108282,  73.58806721,\n",
       "       101.30834132, 109.65306083, 118.79829661, 128.89054421,\n",
       "       140.09419676, 166.58739058, 182.3021264 ])"
      ]
     },
     "execution_count": 340,
     "metadata": {},
     "output_type": "execute_result"
    }
   ],
   "source": [
    "data_pred_poly_train"
   ]
  },
  {
   "cell_type": "code",
   "execution_count": 341,
   "id": "79bc6f14",
   "metadata": {},
   "outputs": [],
   "source": [
    "r2_train = mean_absolute_percentage_error(train['y'],data_pred_poly_train)\n",
    "r2_test = mean_absolute_percentage_error(test['y'],data_pred_poly_test)"
   ]
  },
  {
   "cell_type": "code",
   "execution_count": 342,
   "id": "def74a72",
   "metadata": {
    "scrolled": true
   },
   "outputs": [
    {
     "data": {
      "text/plain": [
       "0.23689541503291264"
      ]
     },
     "execution_count": 342,
     "metadata": {},
     "output_type": "execute_result"
    }
   ],
   "source": [
    "r2_train"
   ]
  },
  {
   "cell_type": "code",
   "execution_count": 343,
   "id": "b95491de",
   "metadata": {},
   "outputs": [
    {
     "data": {
      "text/plain": [
       "0.31563519065847695"
      ]
     },
     "execution_count": 343,
     "metadata": {},
     "output_type": "execute_result"
    }
   ],
   "source": [
    "r2_test"
   ]
  },
  {
   "cell_type": "code",
   "execution_count": 344,
   "id": "ba44e332",
   "metadata": {},
   "outputs": [
    {
     "data": {
      "text/plain": [
       "array([ 1.00705806e+00,  3.01145920e-01, -8.80501305e-03, -2.32235357e-05,\n",
       "        6.40795531e-06])"
      ]
     },
     "execution_count": 344,
     "metadata": {},
     "output_type": "execute_result"
    }
   ],
   "source": [
    "model.coef_"
   ]
  },
  {
   "cell_type": "code",
   "execution_count": 345,
   "id": "cec33d0e",
   "metadata": {
    "scrolled": false
   },
   "outputs": [
    {
     "data": {
      "text/plain": [
       "<AxesSubplot:>"
      ]
     },
     "execution_count": 345,
     "metadata": {},
     "output_type": "execute_result"
    },
    {
     "data": {
      "image/png": "[encoded data removed]",
      "text/plain": [
       "<Figure size 640x480 with 1 Axes>"
      ]
     },
     "metadata": {},
     "output_type": "display_data"
    }
   ],
   "source": [
    "pd.Series(model.coef_).plot(kind = 'bar')"
   ]
  },
  {
   "cell_type": "code",
   "execution_count": null,
   "id": "c37776f6",
   "metadata": {},
   "outputs": [],
   "source": []
  },
  {
   "cell_type": "code",
   "execution_count": null,
   "id": "7b7d56d3",
   "metadata": {},
   "outputs": [],
   "source": []
  },
  {
   "cell_type": "code",
   "execution_count": null,
   "id": "e675c555",
   "metadata": {},
   "outputs": [],
   "source": []
  },
  {
   "cell_type": "code",
   "execution_count": 346,
   "id": "b1cbed1f",
   "metadata": {},
   "outputs": [],
   "source": [
    "model = ElasticNet(alpha=10.0, l1_ratio=0.5)"
   ]
  },
  {
   "cell_type": "code",
   "execution_count": null,
   "id": "af842dd1",
   "metadata": {},
   "outputs": [],
   "source": []
  },
  {
   "cell_type": "code",
   "execution_count": 347,
   "id": "04517308",
   "metadata": {},
   "outputs": [
    {
     "name": "stderr",
     "output_type": "stream",
     "text": [
      "/Users/mohamednoordeenalaudeen/opt/anaconda3/lib/python3.9/site-packages/sklearn/linear_model/_coordinate_descent.py:647: ConvergenceWarning: Objective did not converge. You might want to increase the number of iterations, check the scale of the features or consider increasing regularisation. Duality gap: 5.230e+02, tolerance: 5.554e+00\n",
      "  model = cd_fast.enet_coordinate_descent(\n"
     ]
    },
    {
     "data": {
      "text/plain": [
       "ElasticNet(alpha=10.0)"
      ]
     },
     "execution_count": 347,
     "metadata": {},
     "output_type": "execute_result"
    }
   ],
   "source": [
    "model.fit(poly_train_x, train['y'])"
   ]
  },
  {
   "cell_type": "code",
   "execution_count": 348,
   "id": "ddc314bf",
   "metadata": {},
   "outputs": [],
   "source": [
    "data_pred_poly_train = model.predict(poly_train_x)\n",
    "data_pred_poly_test = model.predict(poly_test_x)\n"
   ]
  },
  {
   "cell_type": "code",
   "execution_count": 349,
   "id": "e84b28de",
   "metadata": {},
   "outputs": [
    {
     "data": {
      "text/plain": [
       "<AxesSubplot:xlabel='x', ylabel='y'>"
      ]
     },
     "execution_count": 349,
     "metadata": {},
     "output_type": "execute_result"
    },
    {
     "data": {
      "image/png": "[encoded data removed]",
      "text/plain": [
       "<Figure size 640x480 with 1 Axes>"
      ]
     },
     "metadata": {},
     "output_type": "display_data"
    }
   ],
   "source": [
    "sns.scatterplot(x = train['x'], y = train['y'] )\n",
    "sns.scatterplot(x = test['x'], y = test['y'] )"
   ]
  },
  {
   "cell_type": "code",
   "execution_count": 350,
   "id": "ab13635f",
   "metadata": {},
   "outputs": [
    {
     "data": {
      "text/plain": [
       "[<matplotlib.lines.Line2D at 0x7fdff1150a00>]"
      ]
     },
     "execution_count": 350,
     "metadata": {},
     "output_type": "execute_result"
    },
    {
     "data": {
      "image/png": "[encoded data removed]",
      "text/plain": [
       "<Figure size 640x480 with 1 Axes>"
      ]
     },
     "metadata": {},
     "output_type": "display_data"
    }
   ],
   "source": [
    "\n",
    "plt.plot(data_pred_poly_train, color = 'red')\n",
    "plt.plot(test['x'],data_pred_poly_test, color = 'blue')\n"
   ]
  },
  {
   "cell_type": "code",
   "execution_count": 351,
   "id": "8b48e629",
   "metadata": {},
   "outputs": [
    {
     "data": {
      "text/plain": [
       "array([  1.24408943,   7.18902371,  13.69845367,  21.80294831,\n",
       "        26.29958615,  31.02340523,  35.93243317,  51.49320644,\n",
       "        56.91992681,  62.47822221,  68.1956455 ,  74.11485405,\n",
       "       101.24761925, 109.41461355, 118.41280461, 128.41871754,\n",
       "       139.63202085, 166.60121868, 182.88121085])"
      ]
     },
     "execution_count": 351,
     "metadata": {},
     "output_type": "execute_result"
    }
   ],
   "source": [
    "data_pred_poly_train"
   ]
  },
  {
   "cell_type": "code",
   "execution_count": 352,
   "id": "c02cf2ef",
   "metadata": {},
   "outputs": [],
   "source": [
    "r2_train = mean_absolute_percentage_error(train['y'],data_pred_poly_train)\n",
    "r2_test = mean_absolute_percentage_error(test['y'],data_pred_poly_test)"
   ]
  },
  {
   "cell_type": "code",
   "execution_count": 353,
   "id": "a20732b8",
   "metadata": {
    "scrolled": true
   },
   "outputs": [
    {
     "data": {
      "text/plain": [
       "0.19941491498242855"
      ]
     },
     "execution_count": 353,
     "metadata": {},
     "output_type": "execute_result"
    }
   ],
   "source": [
    "r2_train"
   ]
  },
  {
   "cell_type": "code",
   "execution_count": 354,
   "id": "f4c9427e",
   "metadata": {},
   "outputs": [
    {
     "data": {
      "text/plain": [
       "0.28310774301820635"
      ]
     },
     "execution_count": 354,
     "metadata": {},
     "output_type": "execute_result"
    }
   ],
   "source": [
    "r2_test"
   ]
  },
  {
   "cell_type": "code",
   "execution_count": 355,
   "id": "858f38f9",
   "metadata": {},
   "outputs": [
    {
     "data": {
      "text/plain": [
       "array([ 0.00000000e+00,  4.23802596e-01, -1.30328366e-02, -4.05487684e-05,\n",
       "        8.37380506e-06])"
      ]
     },
     "execution_count": 355,
     "metadata": {},
     "output_type": "execute_result"
    }
   ],
   "source": [
    "model.coef_"
   ]
  },
  {
   "cell_type": "code",
   "execution_count": 356,
   "id": "eb5701c3",
   "metadata": {
    "scrolled": false
   },
   "outputs": [
    {
     "data": {
      "text/plain": [
       "<AxesSubplot:>"
      ]
     },
     "execution_count": 356,
     "metadata": {},
     "output_type": "execute_result"
    },
    {
     "data": {
      "image/png": "[encoded data removed]",
      "text/plain": [
       "<Figure size 640x480 with 1 Axes>"
      ]
     },
     "metadata": {},
     "output_type": "display_data"
    }
   ],
   "source": [
    "pd.Series(model.coef_).plot(kind = 'bar')"
   ]
  },
  {
   "cell_type": "code",
   "execution_count": null,
   "id": "726d5d35",
   "metadata": {},
   "outputs": [],
   "source": []
  },
  {
   "cell_type": "code",
   "execution_count": null,
   "id": "b2b43498",
   "metadata": {},
   "outputs": [],
   "source": [
    "model = Lasso(alpha=1)\n",
    "\n",
    "\n",
    "\n",
    "model.fit(poly_train_x, train['y'])\n",
    "\n",
    "data_pred_poly_train = model.predict(poly_train_x)\n",
    "data_pred_poly_test = model.predict(poly_test_x)\n",
    "\n",
    "\n",
    "sns.scatterplot(x = train['x'], y = train['y'] )\n",
    "sns.scatterplot(x = test['x'], y = test['y'] )\n",
    "\n",
    "\n",
    "plt.plot(data_pred_poly_train, color = 'red')\n",
    "plt.plot(test['x'],data_pred_poly_test, color = 'blue')\n",
    "\n",
    "\n",
    "data_pred_poly_train\n",
    "\n",
    "r2_train = mean_absolute_percentage_error(train['y'],data_pred_poly_train)\n",
    "r2_test = mean_absolute_percentage_error(test['y'],data_pred_poly_test)\n",
    "\n",
    "r2_train\n",
    "\n",
    "r2_test\n",
    "\n",
    "model.coef_\n",
    "\n",
    "pd.Series(model.coef_).plot(kind = 'bar')\n",
    "\n"
   ]
  },
  {
   "cell_type": "code",
   "execution_count": null,
   "id": "461f400a",
   "metadata": {},
   "outputs": [],
   "source": []
  },
  {
   "cell_type": "code",
   "execution_count": null,
   "id": "ada9d539",
   "metadata": {},
   "outputs": [],
   "source": []
  },
  {
   "cell_type": "code",
   "execution_count": null,
   "id": "43911cea",
   "metadata": {},
   "outputs": [],
   "source": []
  },
  {
   "cell_type": "code",
   "execution_count": null,
   "id": "574065f3",
   "metadata": {},
   "outputs": [],
   "source": []
  },
  {
   "cell_type": "code",
   "execution_count": null,
   "id": "9ffcb568",
   "metadata": {},
   "outputs": [],
   "source": []
  },
  {
   "cell_type": "code",
   "execution_count": null,
   "id": "372b05a9",
   "metadata": {},
   "outputs": [],
   "source": []
  },
  {
   "cell_type": "code",
   "execution_count": null,
   "id": "8cd4af89",
   "metadata": {},
   "outputs": [],
   "source": []
  },
  {
   "cell_type": "code",
   "execution_count": null,
   "id": "1f07964c",
   "metadata": {},
   "outputs": [],
   "source": []
  },
  {
   "cell_type": "code",
   "execution_count": null,
   "id": "ca726ecd",
   "metadata": {},
   "outputs": [],
   "source": []
  },
  {
   "cell_type": "code",
   "execution_count": null,
   "id": "8f1984c2",
   "metadata": {},
   "outputs": [],
   "source": []
  },
  {
   "cell_type": "code",
   "execution_count": null,
   "id": "fe231844",
   "metadata": {},
   "outputs": [],
   "source": []
  },
  {
   "cell_type": "code",
   "execution_count": null,
   "id": "584fcbbd",
   "metadata": {},
   "outputs": [],
   "source": []
  },
  {
   "cell_type": "code",
   "execution_count": null,
   "id": "bb61b555",
   "metadata": {},
   "outputs": [],
   "source": []
  },
  {
   "cell_type": "code",
   "execution_count": null,
   "id": "8b6f47c8",
   "metadata": {},
   "outputs": [],
   "source": []
  },
  {
   "cell_type": "code",
   "execution_count": null,
   "id": "11f432eb",
   "metadata": {},
   "outputs": [],
   "source": [
    "poly = PolynomialFeatures(degree=5, include_bias=False)\n",
    "poly_train_x = poly.fit_transform(train[['x']])\n",
    "poly_test_x = poly.transform(test[['x']])\n",
    "\n",
    "model = LinearRegression()\n",
    "\n",
    "\n",
    "\n",
    "model.fit(poly_train_x, train['y'])\n",
    "\n",
    "data_pred_poly_train = model.predict(poly_train_x)\n",
    "data_pred_poly_test = model.predict(poly_test_x)\n",
    "\n",
    "\n",
    "sns.scatterplot(x = train['x'], y = train['y'] )\n",
    "sns.scatterplot(x = test['x'], y = test['y'] )\n",
    "\n",
    "\n",
    "plt.plot(data_pred_poly_train, color = 'red')\n",
    "plt.plot(test['x'],data_pred_poly_test, color = 'blue')\n",
    "\n",
    "\n",
    "data_pred_poly_train\n",
    "\n",
    "r2_train = mean_absolute_percentage_error(train['y'],data_pred_poly_train)\n",
    "r2_test = mean_absolute_percentage_error(test['y'],data_pred_poly_test)\n",
    "\n",
    "r2_train\n",
    "\n",
    "r2_test\n",
    "\n",
    "model.coef_\n",
    "\n",
    "pd.Series(model.coef_).plot(kind = 'bar')\n",
    "\n"
   ]
  },
  {
   "cell_type": "code",
   "execution_count": null,
   "id": "0eee89e8",
   "metadata": {},
   "outputs": [],
   "source": []
  },
  {
   "cell_type": "code",
   "execution_count": null,
   "id": "508318b6",
   "metadata": {},
   "outputs": [],
   "source": []
  },
  {
   "cell_type": "code",
   "execution_count": null,
   "id": "2ae946f3",
   "metadata": {},
   "outputs": [],
   "source": []
  },
  {
   "cell_type": "code",
   "execution_count": null,
   "id": "3ee7699a",
   "metadata": {},
   "outputs": [],
   "source": []
  },
  {
   "cell_type": "code",
   "execution_count": null,
   "id": "cb57df0a",
   "metadata": {},
   "outputs": [],
   "source": []
  },
  {
   "cell_type": "code",
   "execution_count": null,
   "id": "4e77c81b",
   "metadata": {},
   "outputs": [],
   "source": []
  },
  {
   "cell_type": "code",
   "execution_count": null,
   "id": "fa0e7312",
   "metadata": {},
   "outputs": [],
   "source": []
  },
  {
   "cell_type": "code",
   "execution_count": null,
   "id": "421bb23e",
   "metadata": {},
   "outputs": [],
   "source": []
  },
  {
   "cell_type": "code",
   "execution_count": null,
   "id": "03bc79c6",
   "metadata": {},
   "outputs": [],
   "source": []
  },
  {
   "cell_type": "code",
   "execution_count": null,
   "id": "b1f3a123",
   "metadata": {},
   "outputs": [],
   "source": []
  },
  {
   "cell_type": "code",
   "execution_count": null,
   "id": "66ce14c0",
   "metadata": {},
   "outputs": [],
   "source": []
  },
  {
   "cell_type": "code",
   "execution_count": null,
   "id": "0ff14516",
   "metadata": {},
   "outputs": [],
   "source": []
  },
  {
   "cell_type": "code",
   "execution_count": null,
   "id": "2ffe85af",
   "metadata": {},
   "outputs": [],
   "source": []
  },
  {
   "cell_type": "code",
   "execution_count": null,
   "id": "205da90b",
   "metadata": {},
   "outputs": [],
   "source": []
  },
  {
   "cell_type": "code",
   "execution_count": null,
   "id": "4a091f4c",
   "metadata": {},
   "outputs": [],
   "source": []
  },
  {
   "cell_type": "code",
   "execution_count": null,
   "id": "e6fa631b",
   "metadata": {},
   "outputs": [],
   "source": []
  },
  {
   "cell_type": "code",
   "execution_count": null,
   "id": "29cba15d",
   "metadata": {},
   "outputs": [],
   "source": []
  },
  {
   "cell_type": "code",
   "execution_count": null,
   "id": "6e783354",
   "metadata": {},
   "outputs": [],
   "source": []
  },
  {
   "cell_type": "code",
   "execution_count": null,
   "id": "6ec7d0a7",
   "metadata": {},
   "outputs": [],
   "source": []
  },
  {
   "cell_type": "code",
   "execution_count": 39,
   "id": "ea3e9d8a",
   "metadata": {},
   "outputs": [],
   "source": [
    "def model_run(model, train_X, test_X, train_y, test_y):\n",
    "    model.fit(train_X,train_y)\n",
    "    train_pred = model.predict(train_X)\n",
    "    test_pred = model.predict(test_X)\n",
    "    r2_train = r2_score(train_y,train_pred)\n",
    "    r2_test = r2_score(test_y,test_pred)\n",
    "    return r2_train, r2_test"
   ]
  },
  {
   "cell_type": "code",
   "execution_count": 40,
   "id": "30906d8f",
   "metadata": {},
   "outputs": [
    {
     "data": {
      "text/plain": [
       "(11, 1)"
      ]
     },
     "execution_count": 40,
     "metadata": {},
     "output_type": "execute_result"
    }
   ],
   "source": [
    "test_X.shape"
   ]
  },
  {
   "cell_type": "code",
   "execution_count": 41,
   "id": "d829ce72",
   "metadata": {},
   "outputs": [],
   "source": [
    "trainerr = []\n",
    "testerr = []\n",
    "\n",
    "for i in range(0,10):\n",
    "    if i ==0:\n",
    "        model = LinearRegression()\n",
    "        mape_train, mape_test = model_run(model, train_X, test_X, train_y, test_y)\n",
    "        trainerr.append(1-mape_train)\n",
    "        testerr.append(1-mape_test)\n",
    "        \n",
    "        \n",
    "    else:\n",
    "        poly = PolynomialFeatures(degree=i, include_bias=False)\n",
    "        poly_feature_train_x = poly.fit_transform(train_X)\n",
    "        poly_feature_test_x = poly.transform(test_X)\n",
    "        ploy_model = LinearRegression()\n",
    "        error_train, error_test = model_run(ploy_model, poly_feature_train_x, poly_feature_test_x, train_y, test_y)\n",
    "        trainerr.append(1-error_train)\n",
    "        testerr.append(1-error_test)\n"
   ]
  },
  {
   "cell_type": "code",
   "execution_count": 31,
   "id": "3e15dbbb",
   "metadata": {},
   "outputs": [
    {
     "data": {
      "text/plain": [
       "[0.051213134574498276,\n",
       " 0.051213134574498276,\n",
       " 0.011386977902735462,\n",
       " 0.01090985442225223,\n",
       " 0.008776381124455668,\n",
       " 0.008509637007715898,\n",
       " 0.004567371269360132,\n",
       " 0.004215816041595377,\n",
       " 0.002937429594913832,\n",
       " 0.0017142263104424904]"
      ]
     },
     "execution_count": 31,
     "metadata": {},
     "output_type": "execute_result"
    }
   ],
   "source": [
    "trainerr"
   ]
  },
  {
   "cell_type": "code",
   "execution_count": 32,
   "id": "4d0c5440",
   "metadata": {
    "scrolled": true
   },
   "outputs": [
    {
     "data": {
      "text/plain": [
       "<matplotlib.collections.PathCollection at 0x7fdfa0ee7700>"
      ]
     },
     "execution_count": 32,
     "metadata": {},
     "output_type": "execute_result"
    },
    {
     "data": {
      "image/png": "[encoded data removed]",
      "text/plain": [
       "<Figure size 640x480 with 1 Axes>"
      ]
     },
     "metadata": {},
     "output_type": "display_data"
    }
   ],
   "source": [
    "plt.scatter(x = range(0,10), y = trainerr)\n",
    "plt.scatter(x = range(0,10), y = testerr)\n"
   ]
  },
  {
   "cell_type": "code",
   "execution_count": null,
   "id": "523fb539",
   "metadata": {},
   "outputs": [],
   "source": []
  },
  {
   "cell_type": "code",
   "execution_count": null,
   "id": "28117c3d",
   "metadata": {},
   "outputs": [],
   "source": []
  },
  {
   "cell_type": "code",
   "execution_count": null,
   "id": "770468f5",
   "metadata": {},
   "outputs": [],
   "source": []
  },
  {
   "cell_type": "code",
   "execution_count": null,
   "id": "ce0ce6ba",
   "metadata": {},
   "outputs": [],
   "source": []
  },
  {
   "cell_type": "code",
   "execution_count": null,
   "id": "a6908178",
   "metadata": {},
   "outputs": [],
   "source": []
  },
  {
   "cell_type": "code",
   "execution_count": null,
   "id": "da299c22",
   "metadata": {},
   "outputs": [],
   "source": []
  },
  {
   "cell_type": "code",
   "execution_count": null,
   "id": "10674b93",
   "metadata": {},
   "outputs": [],
   "source": []
  },
  {
   "cell_type": "code",
   "execution_count": null,
   "id": "5a4052e6",
   "metadata": {},
   "outputs": [],
   "source": []
  },
  {
   "cell_type": "code",
   "execution_count": null,
   "id": "b226866c",
   "metadata": {},
   "outputs": [],
   "source": []
  },
  {
   "cell_type": "code",
   "execution_count": null,
   "id": "1334424d",
   "metadata": {},
   "outputs": [],
   "source": []
  },
  {
   "cell_type": "code",
   "execution_count": null,
   "id": "caf65b0a",
   "metadata": {},
   "outputs": [],
   "source": []
  },
  {
   "cell_type": "code",
   "execution_count": null,
   "id": "7ddd7b22",
   "metadata": {},
   "outputs": [],
   "source": []
  },
  {
   "cell_type": "code",
   "execution_count": null,
   "id": "3b9c6145",
   "metadata": {},
   "outputs": [],
   "source": []
  },
  {
   "cell_type": "code",
   "execution_count": null,
   "id": "776dc1cb",
   "metadata": {},
   "outputs": [],
   "source": []
  },
  {
   "cell_type": "code",
   "execution_count": null,
   "id": "7e0c8e67",
   "metadata": {},
   "outputs": [],
   "source": []
  },
  {
   "cell_type": "code",
   "execution_count": null,
   "id": "a454d159",
   "metadata": {},
   "outputs": [],
   "source": []
  },
  {
   "cell_type": "code",
   "execution_count": null,
   "id": "b37930d7",
   "metadata": {},
   "outputs": [],
   "source": []
  },
  {
   "cell_type": "code",
   "execution_count": null,
   "id": "c519d8dc",
   "metadata": {},
   "outputs": [],
   "source": []
  },
  {
   "cell_type": "code",
   "execution_count": null,
   "id": "888b5316",
   "metadata": {},
   "outputs": [],
   "source": []
  },
  {
   "cell_type": "code",
   "execution_count": null,
   "id": "d1a1b528",
   "metadata": {},
   "outputs": [],
   "source": []
  },
  {
   "cell_type": "code",
   "execution_count": null,
   "id": "9b5178c4",
   "metadata": {},
   "outputs": [],
   "source": []
  },
  {
   "cell_type": "code",
   "execution_count": null,
   "id": "013a5ad7",
   "metadata": {},
   "outputs": [],
   "source": []
  },
  {
   "cell_type": "code",
   "execution_count": null,
   "id": "355fd44e",
   "metadata": {},
   "outputs": [],
   "source": []
  },
  {
   "cell_type": "raw",
   "id": "06fd8ee9",
   "metadata": {},
   "source": [
    "a = 0\n",
    "a = 5\n",
    "b = 3\n",
    "\n",
    "a = a+b = 8\n"
   ]
  },
  {
   "cell_type": "raw",
   "id": "25fc9895",
   "metadata": {},
   "source": [
    "a + b = 11"
   ]
  },
  {
   "cell_type": "raw",
   "id": "11468db7",
   "metadata": {},
   "source": [
    "a = 0 -> .fit()\n",
    "a+b    -> .transform()"
   ]
  },
  {
   "cell_type": "raw",
   "id": "c9905951",
   "metadata": {},
   "source": [
    "a = 0 , a+b .fit_transform()"
   ]
  },
  {
   "cell_type": "raw",
   "id": "80173536",
   "metadata": {},
   "source": [
    ".fit -> initializing\n",
    ".transform -> applying\n",
    ".fit_transform -> initializing and applying"
   ]
  },
  {
   "cell_type": "raw",
   "id": "9057cb49",
   "metadata": {},
   "source": [
    "initializing -> Training \n",
    "transform/ applying -> train and test\n",
    "initializing can it happen on test -> NO"
   ]
  },
  {
   "cell_type": "code",
   "execution_count": null,
   "id": "1a8f26b7",
   "metadata": {},
   "outputs": [],
   "source": []
  },
  {
   "cell_type": "raw",
   "id": "cb72ec41",
   "metadata": {},
   "source": [
    "Scaling ->"
   ]
  },
  {
   "cell_type": "raw",
   "id": "e1c6abbd",
   "metadata": {},
   "source": [
    "z = x-mean/std"
   ]
  },
  {
   "cell_type": "raw",
   "id": "0077626f",
   "metadata": {},
   "source": [
    "train -> Fit\n",
    "mean - column A = 23 \n",
    "Std - column A = 2\n",
    "\n",
    "transform ->\n",
    "z = x-mean/std\n",
    "\n",
    "Fit_transform\n",
    "Find mean and Std and find Z score\n",
    "\n",
    "\n",
    "\n",
    "Test -> Fit\n",
    "mean - column A = 12 \n",
    "Std - column A = 5\n",
    "\n",
    "\n",
    "Test -> Transform\n",
    "mean - column A = 12 \n",
    "Std - column A = 5\n",
    "\n"
   ]
  },
  {
   "cell_type": "raw",
   "id": "e4f4f071",
   "metadata": {},
   "source": [
    "80 sample train mean = 30\n",
    "20 sample test  mean = 20\n",
    "\n",
    "80 sample train std = 2\n",
    "20 sample test  std = 4"
   ]
  },
  {
   "cell_type": "raw",
   "id": "4cddd2f0",
   "metadata": {},
   "source": [
    "train \n",
    "X,y\n",
    "\n",
    "\n",
    "Test\n",
    "X\n",
    "\n",
    "\n",
    "------------------------\n",
    "\n",
    "train+ Test\n",
    "\n",
    "**X**, y   -> Fit\n",
    "**X**, na\n",
    "\n",
    "\n",
    "Realtime \n",
    "\n",
    "test data  -> never fit\n",
    "\n",
    "\n",
    "\n",
    "\n"
   ]
  },
  {
   "cell_type": "raw",
   "id": "b9a38823",
   "metadata": {},
   "source": [
    "Apple or Orange\n",
    "\n",
    "\n",
    "500 data 300 apple + 200 orange"
   ]
  },
  {
   "cell_type": "raw",
   "id": "7de1c0fe",
   "metadata": {},
   "source": [
    "train.<-> test"
   ]
  },
  {
   "cell_type": "raw",
   "id": "16566f1e",
   "metadata": {},
   "source": [
    "train - 200 apple+100 orange\n",
    "test - 100 apple+50 orange"
   ]
  },
  {
   "cell_type": "raw",
   "id": "a0d99d43",
   "metadata": {},
   "source": [
    "train - > fit model\n",
    "extracting feautures -> color, shape , weight , height\n",
    "Class - - Object - function -> intialize -> feature ->\n",
    "Extracted the features\n",
    "\n",
    "Featute Object-> Live -> not deallocate \n",
    "\n",
    "Creating Model\n",
    "\n",
    "Model Object - > LinearRegression()\n",
    "Model Object-> Live -> not deallocate \n",
    "\n",
    "\n",
    "\n",
    "Test \n",
    "\n",
    "use same\n",
    "\n",
    "Featute Object - > extract the feature of test data\n",
    "\n",
    "Model Object -> Predict\n",
    "\n"
   ]
  },
  {
   "cell_type": "code",
   "execution_count": 125,
   "id": "0eafed62",
   "metadata": {},
   "outputs": [
    {
     "data": {
      "text/plain": [
       "LinearRegression()"
      ]
     },
     "execution_count": 125,
     "metadata": {},
     "output_type": "execute_result"
    }
   ],
   "source": [
    "model"
   ]
  },
  {
   "cell_type": "code",
   "execution_count": 126,
   "id": "5c379c9e",
   "metadata": {},
   "outputs": [
    {
     "data": {
      "text/plain": [
       "-21.630919501515642"
      ]
     },
     "execution_count": 126,
     "metadata": {},
     "output_type": "execute_result"
    }
   ],
   "source": [
    "model.intercept_"
   ]
  },
  {
   "cell_type": "code",
   "execution_count": null,
   "id": "b39d784b",
   "metadata": {},
   "outputs": [],
   "source": []
  }
 ],
 "metadata": {
  "kernelspec": {
   "display_name": "Python 3 (ipykernel)",
   "language": "python",
   "name": "python3"
  },
  "language_info": {
   "codemirror_mode": {
    "name": "ipython",
    "version": 3
   },
   "file_extension": ".py",
   "mimetype": "text/x-python",
   "name": "python",
   "nbconvert_exporter": "python",
   "pygments_lexer": "ipython3",
   "version": "3.9.13"
  }
 },
 "nbformat": 4,
 "nbformat_minor": 5
}
