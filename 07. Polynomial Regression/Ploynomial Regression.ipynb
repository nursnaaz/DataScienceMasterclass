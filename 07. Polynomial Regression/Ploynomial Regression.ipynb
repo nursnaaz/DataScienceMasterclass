{
 "cells": [
  {
   "cell_type": "code",
   "execution_count": 100,
   "id": "0a2f622c",
   "metadata": {},
   "outputs": [],
   "source": [
    "import pandas as pd\n",
    "import seaborn as sns\n",
    "import matplotlib.pyplot as plt\n",
    "\n",
    "from sklearn.model_selection import train_test_split\n",
    "\n",
    "from sklearn.preprocessing import PolynomialFeatures\n",
    "from sklearn.linear_model import LinearRegression\n",
    "\n",
    "from sklearn.metrics import mean_absolute_percentage_error, r2_score"
   ]
  },
  {
   "cell_type": "code",
   "execution_count": 2,
   "id": "2f1d7f25",
   "metadata": {},
   "outputs": [],
   "source": [
    "data = pd.read_csv('data_poly.csv')"
   ]
  },
  {
   "cell_type": "code",
   "execution_count": 3,
   "id": "cf92d768",
   "metadata": {},
   "outputs": [
    {
     "data": {
      "text/html": [
       "<div>\n",
       "<style scoped>\n",
       "    .dataframe tbody tr th:only-of-type {\n",
       "        vertical-align: middle;\n",
       "    }\n",
       "\n",
       "    .dataframe tbody tr th {\n",
       "        vertical-align: top;\n",
       "    }\n",
       "\n",
       "    .dataframe thead th {\n",
       "        text-align: right;\n",
       "    }\n",
       "</style>\n",
       "<table border=\"1\" class=\"dataframe\">\n",
       "  <thead>\n",
       "    <tr style=\"text-align: right;\">\n",
       "      <th></th>\n",
       "      <th>x</th>\n",
       "      <th>y</th>\n",
       "    </tr>\n",
       "  </thead>\n",
       "  <tbody>\n",
       "    <tr>\n",
       "      <th>0</th>\n",
       "      <td>0</td>\n",
       "      <td>3</td>\n",
       "    </tr>\n",
       "    <tr>\n",
       "      <th>1</th>\n",
       "      <td>1</td>\n",
       "      <td>4</td>\n",
       "    </tr>\n",
       "    <tr>\n",
       "      <th>2</th>\n",
       "      <td>2</td>\n",
       "      <td>5</td>\n",
       "    </tr>\n",
       "    <tr>\n",
       "      <th>3</th>\n",
       "      <td>3</td>\n",
       "      <td>7</td>\n",
       "    </tr>\n",
       "    <tr>\n",
       "      <th>4</th>\n",
       "      <td>4</td>\n",
       "      <td>10</td>\n",
       "    </tr>\n",
       "    <tr>\n",
       "      <th>5</th>\n",
       "      <td>5</td>\n",
       "      <td>8</td>\n",
       "    </tr>\n",
       "    <tr>\n",
       "      <th>6</th>\n",
       "      <td>6</td>\n",
       "      <td>9</td>\n",
       "    </tr>\n",
       "    <tr>\n",
       "      <th>7</th>\n",
       "      <td>7</td>\n",
       "      <td>10</td>\n",
       "    </tr>\n",
       "    <tr>\n",
       "      <th>8</th>\n",
       "      <td>8</td>\n",
       "      <td>10</td>\n",
       "    </tr>\n",
       "    <tr>\n",
       "      <th>9</th>\n",
       "      <td>9</td>\n",
       "      <td>23</td>\n",
       "    </tr>\n",
       "    <tr>\n",
       "      <th>10</th>\n",
       "      <td>10</td>\n",
       "      <td>27</td>\n",
       "    </tr>\n",
       "    <tr>\n",
       "      <th>11</th>\n",
       "      <td>11</td>\n",
       "      <td>44</td>\n",
       "    </tr>\n",
       "    <tr>\n",
       "      <th>12</th>\n",
       "      <td>12</td>\n",
       "      <td>50</td>\n",
       "    </tr>\n",
       "    <tr>\n",
       "      <th>13</th>\n",
       "      <td>13</td>\n",
       "      <td>63</td>\n",
       "    </tr>\n",
       "    <tr>\n",
       "      <th>14</th>\n",
       "      <td>14</td>\n",
       "      <td>67</td>\n",
       "    </tr>\n",
       "    <tr>\n",
       "      <th>15</th>\n",
       "      <td>15</td>\n",
       "      <td>60</td>\n",
       "    </tr>\n",
       "    <tr>\n",
       "      <th>16</th>\n",
       "      <td>16</td>\n",
       "      <td>62</td>\n",
       "    </tr>\n",
       "    <tr>\n",
       "      <th>17</th>\n",
       "      <td>17</td>\n",
       "      <td>70</td>\n",
       "    </tr>\n",
       "    <tr>\n",
       "      <th>18</th>\n",
       "      <td>18</td>\n",
       "      <td>75</td>\n",
       "    </tr>\n",
       "    <tr>\n",
       "      <th>19</th>\n",
       "      <td>19</td>\n",
       "      <td>88</td>\n",
       "    </tr>\n",
       "    <tr>\n",
       "      <th>20</th>\n",
       "      <td>20</td>\n",
       "      <td>81</td>\n",
       "    </tr>\n",
       "    <tr>\n",
       "      <th>21</th>\n",
       "      <td>21</td>\n",
       "      <td>87</td>\n",
       "    </tr>\n",
       "    <tr>\n",
       "      <th>22</th>\n",
       "      <td>22</td>\n",
       "      <td>95</td>\n",
       "    </tr>\n",
       "    <tr>\n",
       "      <th>23</th>\n",
       "      <td>23</td>\n",
       "      <td>100</td>\n",
       "    </tr>\n",
       "    <tr>\n",
       "      <th>24</th>\n",
       "      <td>24</td>\n",
       "      <td>108</td>\n",
       "    </tr>\n",
       "    <tr>\n",
       "      <th>25</th>\n",
       "      <td>25</td>\n",
       "      <td>135</td>\n",
       "    </tr>\n",
       "    <tr>\n",
       "      <th>26</th>\n",
       "      <td>26</td>\n",
       "      <td>151</td>\n",
       "    </tr>\n",
       "    <tr>\n",
       "      <th>27</th>\n",
       "      <td>27</td>\n",
       "      <td>160</td>\n",
       "    </tr>\n",
       "    <tr>\n",
       "      <th>28</th>\n",
       "      <td>28</td>\n",
       "      <td>169</td>\n",
       "    </tr>\n",
       "    <tr>\n",
       "      <th>29</th>\n",
       "      <td>29</td>\n",
       "      <td>179</td>\n",
       "    </tr>\n",
       "  </tbody>\n",
       "</table>\n",
       "</div>"
      ],
      "text/plain": [
       "     x    y\n",
       "0    0    3\n",
       "1    1    4\n",
       "2    2    5\n",
       "3    3    7\n",
       "4    4   10\n",
       "5    5    8\n",
       "6    6    9\n",
       "7    7   10\n",
       "8    8   10\n",
       "9    9   23\n",
       "10  10   27\n",
       "11  11   44\n",
       "12  12   50\n",
       "13  13   63\n",
       "14  14   67\n",
       "15  15   60\n",
       "16  16   62\n",
       "17  17   70\n",
       "18  18   75\n",
       "19  19   88\n",
       "20  20   81\n",
       "21  21   87\n",
       "22  22   95\n",
       "23  23  100\n",
       "24  24  108\n",
       "25  25  135\n",
       "26  26  151\n",
       "27  27  160\n",
       "28  28  169\n",
       "29  29  179"
      ]
     },
     "execution_count": 3,
     "metadata": {},
     "output_type": "execute_result"
    }
   ],
   "source": [
    "data"
   ]
  },
  {
   "cell_type": "code",
   "execution_count": 5,
   "id": "320d029e",
   "metadata": {},
   "outputs": [
    {
     "data": {
      "text/plain": [
       "<AxesSubplot:xlabel='x', ylabel='y'>"
      ]
     },
     "execution_count": 5,
     "metadata": {},
     "output_type": "execute_result"
    },
    {
     "data": {
      "image/png": "[encoded data removed]",
      "text/plain": [
       "<Figure size 640x480 with 1 Axes>"
      ]
     },
     "metadata": {},
     "output_type": "display_data"
    }
   ],
   "source": [
    "sns.scatterplot(x = 'x', y = 'y', data=data )"
   ]
  },
  {
   "cell_type": "code",
   "execution_count": 7,
   "id": "fbfd3ec7",
   "metadata": {},
   "outputs": [
    {
     "data": {
      "text/plain": [
       "LinearRegression()"
      ]
     },
     "execution_count": 7,
     "metadata": {},
     "output_type": "execute_result"
    }
   ],
   "source": [
    "model = LinearRegression()\n",
    "model.fit(data[['x']], data['y'])"
   ]
  },
  {
   "cell_type": "code",
   "execution_count": 8,
   "id": "63941aa4",
   "metadata": {},
   "outputs": [],
   "source": [
    "data_pred = model.predict(data[['x']])"
   ]
  },
  {
   "cell_type": "code",
   "execution_count": 10,
   "id": "4ce10e91",
   "metadata": {},
   "outputs": [
    {
     "data": {
      "text/plain": [
       "[<matplotlib.lines.Line2D at 0x7ff0f90ed250>]"
      ]
     },
     "execution_count": 10,
     "metadata": {},
     "output_type": "execute_result"
    },
    {
     "data": {
      "image/png": "[encoded data removed]",
      "text/plain": [
       "<Figure size 640x480 with 1 Axes>"
      ]
     },
     "metadata": {},
     "output_type": "display_data"
    }
   ],
   "source": [
    "sns.scatterplot(x = 'x', y = 'y', data=data )\n",
    "plt.plot(data_pred)"
   ]
  },
  {
   "cell_type": "code",
   "execution_count": null,
   "id": "b5ee7336",
   "metadata": {},
   "outputs": [],
   "source": [
    "x, z\n",
    "\n",
    "1,x,z,x^2,z^2,xz"
   ]
  },
  {
   "cell_type": "code",
   "execution_count": null,
   "id": "a7dd92e4",
   "metadata": {},
   "outputs": [],
   "source": [
    "x\n",
    "\n",
    "1, x^2, x"
   ]
  },
  {
   "cell_type": "code",
   "execution_count": 43,
   "id": "071f5fe7",
   "metadata": {},
   "outputs": [],
   "source": [
    "poly = PolynomialFeatures(degree=2, include_bias=False)\n",
    "poly_3 = PolynomialFeatures(degree=3, include_bias=False)\n",
    "poly_5 = PolynomialFeatures(degree=5, include_bias=False)\n",
    "poly_15 = PolynomialFeatures(degree=15, include_bias=False)"
   ]
  },
  {
   "cell_type": "code",
   "execution_count": 44,
   "id": "e2ce93f3",
   "metadata": {},
   "outputs": [],
   "source": [
    "poly_x = poly.fit_transform(data[['x']])\n",
    "poly_x3 = poly_3.fit_transform(data[['x']])\n",
    "poly_x5 = poly_5.fit_transform(data[['x']])\n",
    "poly_x15 = poly_15.fit_transform(data[['x']])"
   ]
  },
  {
   "cell_type": "code",
   "execution_count": 45,
   "id": "dcce94aa",
   "metadata": {},
   "outputs": [
    {
     "data": {
      "text/plain": [
       "LinearRegression()"
      ]
     },
     "execution_count": 45,
     "metadata": {},
     "output_type": "execute_result"
    }
   ],
   "source": [
    "model = LinearRegression()\n",
    "model_3 = LinearRegression()\n",
    "model_5 = LinearRegression()\n",
    "model_15 = LinearRegression()\n",
    "\n",
    "\n",
    "model.fit(poly_x, data['y'])\n",
    "model_3.fit(poly_x3, data['y'])\n",
    "model_5.fit(poly_x5, data['y'])\n",
    "model_15.fit(poly_x15, data['y'])"
   ]
  },
  {
   "cell_type": "code",
   "execution_count": 46,
   "id": "d1a06f5d",
   "metadata": {},
   "outputs": [],
   "source": [
    "data_pred_poly = model.predict(poly_x)\n",
    "\n",
    "data_pred_poly_3 = model_3.predict(poly_x3)\n",
    "data_pred_poly_5 = model_5.predict(poly_x5)\n",
    "data_pred_poly_15 = model_15.predict(poly_x15)"
   ]
  },
  {
   "cell_type": "code",
   "execution_count": 63,
   "id": "e9d0190f",
   "metadata": {},
   "outputs": [
    {
     "data": {
      "text/plain": [
       "[<matplotlib.lines.Line2D at 0x7ff0f11fa640>]"
      ]
     },
     "execution_count": 63,
     "metadata": {},
     "output_type": "execute_result"
    },
    {
     "data": {
      "image/png": "[encoded data removed]",
      "text/plain": [
       "<Figure size 640x480 with 1 Axes>"
      ]
     },
     "metadata": {},
     "output_type": "display_data"
    }
   ],
   "source": [
    "sns.scatterplot(x = 'x', y = 'y', data=data )\n",
    "plt.plot(data_pred,color = 'red')\n",
    "plt.plot(data_pred_poly, color = 'green')\n",
    "plt.plot(data_pred_poly_3, color = 'black')\n",
    "plt.plot(data_pred_poly_5, color = 'pink')\n",
    "plt.plot(data_pred_poly_15, color = 'yellow')"
   ]
  },
  {
   "cell_type": "code",
   "execution_count": 55,
   "id": "e77e033e",
   "metadata": {},
   "outputs": [
    {
     "name": "stdout",
     "output_type": "stream",
     "text": [
      "MAPE of Straight Line =  0.7996999195631865\n",
      "MAPE of Polynomial degree 2 Line =  0.2031995437736923\n",
      "MAPE of Polynomial degree 3 Line =  0.32043050951182656\n",
      "MAPE of Polynomial degree 5 Line =  0.2942388626809141\n",
      "MAPE of Polynomial degree 15 Line =  0.17432462595126647\n"
     ]
    }
   ],
   "source": [
    "print(\"MAPE of Straight Line = \",mean_absolute_percentage_error(data['y'],data_pred))\n",
    "print(\"MAPE of Polynomial degree 2 Line = \",mean_absolute_percentage_error(data['y'],data_pred_poly))\n",
    "print(\"MAPE of Polynomial degree 3 Line = \",mean_absolute_percentage_error(data['y'],data_pred_poly_3))\n",
    "print(\"MAPE of Polynomial degree 5 Line = \",mean_absolute_percentage_error(data['y'],data_pred_poly_5))\n",
    "print(\"MAPE of Polynomial degree 15 Line = \",mean_absolute_percentage_error(data['y'],data_pred_poly_15))"
   ]
  },
  {
   "cell_type": "code",
   "execution_count": null,
   "id": "728bed2c",
   "metadata": {},
   "outputs": [],
   "source": [
    "accuracy of simple model = 85% \n",
    "acuuracy of little complex = 92% #1~ hour # 7% improvement\n",
    "accuracy of very much complex = 93% # 5~ hours # 1% improvement\n",
    "\n"
   ]
  },
  {
   "cell_type": "code",
   "execution_count": 59,
   "id": "44c9143f",
   "metadata": {},
   "outputs": [
    {
     "data": {
      "text/plain": [
       "0.07608695652173914"
      ]
     },
     "execution_count": 59,
     "metadata": {},
     "output_type": "execute_result"
    }
   ],
   "source": [
    "(92 -85)/92"
   ]
  },
  {
   "cell_type": "code",
   "execution_count": 60,
   "id": "25beed40",
   "metadata": {},
   "outputs": [
    {
     "data": {
      "text/plain": [
       "0.010752688172043012"
      ]
     },
     "execution_count": 60,
     "metadata": {},
     "output_type": "execute_result"
    }
   ],
   "source": [
    "(93-92)/93"
   ]
  },
  {
   "cell_type": "code",
   "execution_count": null,
   "id": "6a17d385",
   "metadata": {},
   "outputs": [],
   "source": [
    "accuracy of simple model = 85% \n",
    "acuuracy of little complex = 87% #1~ hour # 2% improvement\n",
    "accuracy of very much complex = 90% # 5~ hours # 3% improvement"
   ]
  },
  {
   "cell_type": "code",
   "execution_count": 61,
   "id": "72b4a249",
   "metadata": {},
   "outputs": [
    {
     "data": {
      "text/plain": [
       "0.022988505747126436"
      ]
     },
     "execution_count": 61,
     "metadata": {},
     "output_type": "execute_result"
    }
   ],
   "source": [
    "(87 -85)/87"
   ]
  },
  {
   "cell_type": "code",
   "execution_count": 62,
   "id": "741b9d88",
   "metadata": {},
   "outputs": [
    {
     "data": {
      "text/plain": [
       "0.03333333333333333"
      ]
     },
     "execution_count": 62,
     "metadata": {},
     "output_type": "execute_result"
    }
   ],
   "source": [
    "(90 -87)/90"
   ]
  },
  {
   "cell_type": "code",
   "execution_count": null,
   "id": "36ffe38a",
   "metadata": {},
   "outputs": [],
   "source": []
  },
  {
   "cell_type": "code",
   "execution_count": null,
   "id": "2e1c050f",
   "metadata": {},
   "outputs": [],
   "source": [
    "#train and test"
   ]
  },
  {
   "cell_type": "code",
   "execution_count": 73,
   "id": "ca8b0217",
   "metadata": {},
   "outputs": [],
   "source": [
    "train_X, test_X, train_y, test_y  = train_test_split(data[['x']],data['y'], test_size=0.35, random_state=1)\n"
   ]
  },
  {
   "cell_type": "code",
   "execution_count": 74,
   "id": "ac04b7de",
   "metadata": {},
   "outputs": [
    {
     "data": {
      "text/plain": [
       "((19, 1), (11, 1), (19,), (11,))"
      ]
     },
     "execution_count": 74,
     "metadata": {},
     "output_type": "execute_result"
    }
   ],
   "source": [
    "train_X.shape, test_X.shape, train_y.shape, test_y.shape"
   ]
  },
  {
   "cell_type": "code",
   "execution_count": 146,
   "id": "ea3e9d8a",
   "metadata": {},
   "outputs": [],
   "source": [
    "def model_run(model, train_X, test_X, train_y, test_y):\n",
    "    model.fit(train_X,train_y)\n",
    "    train_pred = model.predict(train_X)\n",
    "    test_pred = model.predict(test_X)\n",
    "    r2_train = r2_score(train_y,train_pred)\n",
    "    r2_test = r2_score(test_y,test_pred)\n",
    "    return r2_train, r2_test"
   ]
  },
  {
   "cell_type": "code",
   "execution_count": 147,
   "id": "30906d8f",
   "metadata": {},
   "outputs": [
    {
     "data": {
      "text/plain": [
       "(11, 1)"
      ]
     },
     "execution_count": 147,
     "metadata": {},
     "output_type": "execute_result"
    }
   ],
   "source": [
    "test_X.shape"
   ]
  },
  {
   "cell_type": "code",
   "execution_count": 155,
   "id": "d829ce72",
   "metadata": {},
   "outputs": [],
   "source": [
    "trainerr = []\n",
    "testerr = []\n",
    "\n",
    "for i in range(0,10):\n",
    "    if i ==0:\n",
    "        model = LinearRegression()\n",
    "        mape_train, mape_test = model_run(model, train_X, test_X, train_y, test_y)\n",
    "        trainerr.append(1-mape_train)\n",
    "        testerr.append(1-mape_test)\n",
    "        \n",
    "        \n",
    "    else:\n",
    "        poly = PolynomialFeatures(degree=i, include_bias=False)\n",
    "        poly_feature_train_x = poly.fit_transform(train_X)\n",
    "        poly_feature_test_x = poly.transform(test_X)\n",
    "        ploy_model = LinearRegression()\n",
    "        error_train, error_test = model_run(ploy_model, poly_feature_train_x, poly_feature_test_x, train_y, test_y)\n",
    "        trainerr.append(1-error_train)\n",
    "        testerr.append(1-error_test)\n"
   ]
  },
  {
   "cell_type": "code",
   "execution_count": 156,
   "id": "1687efec",
   "metadata": {},
   "outputs": [
    {
     "data": {
      "text/plain": [
       "[0.22663642741156087,\n",
       " 0.22663642741156087,\n",
       " 0.1208845902586877,\n",
       " 0.15168780978673024,\n",
       " 0.09098213255413878,\n",
       " 0.08470345633138698,\n",
       " 0.022128846523611134,\n",
       " 0.031788993295670864,\n",
       " 0.039710433062164485,\n",
       " 0.09731107017417517,\n",
       " 0.22663642741156087,\n",
       " 0.22663642741156087,\n",
       " 0.22663642741156087]"
      ]
     },
     "execution_count": 156,
     "metadata": {},
     "output_type": "execute_result"
    }
   ],
   "source": [
    "mapetest"
   ]
  },
  {
   "cell_type": "code",
   "execution_count": 157,
   "id": "3e15dbbb",
   "metadata": {},
   "outputs": [
    {
     "data": {
      "text/plain": [
       "[0.051213134574498276,\n",
       " 0.051213134574498276,\n",
       " 0.011386977902735462,\n",
       " 0.01090985442225223,\n",
       " 0.008776381124455668,\n",
       " 0.008509637007715898,\n",
       " 0.004567371269360132,\n",
       " 0.004215816041595377,\n",
       " 0.002937429594913832,\n",
       " 0.0017142263104424904]"
      ]
     },
     "execution_count": 157,
     "metadata": {},
     "output_type": "execute_result"
    }
   ],
   "source": [
    "trainerr"
   ]
  },
  {
   "cell_type": "code",
   "execution_count": 158,
   "id": "4d0c5440",
   "metadata": {},
   "outputs": [
    {
     "data": {
      "text/plain": [
       "<matplotlib.collections.PathCollection at 0x7ff0f11f31c0>"
      ]
     },
     "execution_count": 158,
     "metadata": {},
     "output_type": "execute_result"
    },
    {
     "data": {
      "image/png": "[encoded data removed]",
      "text/plain": [
       "<Figure size 640x480 with 1 Axes>"
      ]
     },
     "metadata": {},
     "output_type": "display_data"
    }
   ],
   "source": [
    "plt.scatter(x = range(0,10), y = trainerr)\n",
    "plt.scatter(x = range(0,10), y = testerr)\n"
   ]
  },
  {
   "cell_type": "code",
   "execution_count": null,
   "id": "523fb539",
   "metadata": {},
   "outputs": [],
   "source": []
  },
  {
   "cell_type": "code",
   "execution_count": null,
   "id": "013a5ad7",
   "metadata": {},
   "outputs": [],
   "source": []
  },
  {
   "cell_type": "code",
   "execution_count": null,
   "id": "355fd44e",
   "metadata": {},
   "outputs": [],
   "source": []
  },
  {
   "cell_type": "raw",
   "id": "06fd8ee9",
   "metadata": {},
   "source": [
    "a = 0\n",
    "a = 5\n",
    "b = 3\n",
    "\n",
    "a = a+b = 8\n"
   ]
  },
  {
   "cell_type": "code",
   "execution_count": null,
   "id": "4f284e46",
   "metadata": {},
   "outputs": [],
   "source": [
    "a + b = 11"
   ]
  },
  {
   "cell_type": "code",
   "execution_count": null,
   "id": "5af1e3f4",
   "metadata": {},
   "outputs": [],
   "source": [
    "a = 0 -> .fit()\n",
    "a+b    -> .transform()"
   ]
  },
  {
   "cell_type": "code",
   "execution_count": null,
   "id": "05196602",
   "metadata": {},
   "outputs": [],
   "source": [
    "a = 0 , a+b .fit_transform()"
   ]
  },
  {
   "cell_type": "code",
   "execution_count": null,
   "id": "ce222c14",
   "metadata": {},
   "outputs": [],
   "source": [
    ".fit -> initializing\n",
    ".transform -> applying\n",
    ".fit_transform -> initializing and applying"
   ]
  },
  {
   "cell_type": "code",
   "execution_count": null,
   "id": "25dd6959",
   "metadata": {},
   "outputs": [],
   "source": [
    "initializing -> Training \n",
    "transform/ applying -> train and test\n",
    "initializing can it happen on test -> NO"
   ]
  },
  {
   "cell_type": "code",
   "execution_count": null,
   "id": "1a8f26b7",
   "metadata": {},
   "outputs": [],
   "source": []
  },
  {
   "cell_type": "code",
   "execution_count": null,
   "id": "e4f42429",
   "metadata": {},
   "outputs": [],
   "source": [
    "Scaling ->"
   ]
  },
  {
   "cell_type": "code",
   "execution_count": null,
   "id": "638e4b9e",
   "metadata": {},
   "outputs": [],
   "source": [
    "z = x-mean/std"
   ]
  },
  {
   "cell_type": "code",
   "execution_count": null,
   "id": "156489e1",
   "metadata": {},
   "outputs": [],
   "source": [
    "train -> Fit\n",
    "mean - column A = 23 \n",
    "Std - column A = 2\n",
    "\n",
    "transform ->\n",
    "z = x-mean/std\n",
    "\n",
    "Fit_transform\n",
    "Find mean and Std and find Z score\n",
    "\n",
    "\n",
    "\n",
    "Test -> Fit\n",
    "mean - column A = 12 \n",
    "Std - column A = 5\n",
    "\n",
    "\n",
    "Test -> Transform\n",
    "mean - column A = 12 \n",
    "Std - column A = 5\n",
    "\n"
   ]
  },
  {
   "cell_type": "code",
   "execution_count": null,
   "id": "7cc585ac",
   "metadata": {},
   "outputs": [],
   "source": [
    "80 sample train mean = 30\n",
    "20 sample test  mean = 20\n",
    "\n",
    "80 sample train std = 2\n",
    "20 sample test  std = 4"
   ]
  },
  {
   "cell_type": "markdown",
   "id": "280b119d",
   "metadata": {},
   "source": [
    "train \n",
    "X,y\n",
    "\n",
    "\n",
    "Test\n",
    "X\n",
    "\n",
    "\n",
    "------------------------\n",
    "\n",
    "train+ Test\n",
    "\n",
    "**X**, y   -> Fit\n",
    "**X**, na\n",
    "\n",
    "\n",
    "Realtime \n",
    "\n",
    "test data  -> never fit\n",
    "\n",
    "\n",
    "\n",
    "\n"
   ]
  },
  {
   "cell_type": "code",
   "execution_count": null,
   "id": "e48c9482",
   "metadata": {},
   "outputs": [],
   "source": [
    "Apple or Orange\n",
    "\n",
    "\n",
    "500 data 300 apple + 200 orange"
   ]
  },
  {
   "cell_type": "code",
   "execution_count": null,
   "id": "48a08792",
   "metadata": {},
   "outputs": [],
   "source": [
    "train.<-> test"
   ]
  },
  {
   "cell_type": "code",
   "execution_count": null,
   "id": "ec7aa16c",
   "metadata": {},
   "outputs": [],
   "source": [
    "train - 200 apple+100 orange\n",
    "test - 100 apple+50 orange"
   ]
  },
  {
   "cell_type": "code",
   "execution_count": null,
   "id": "fa21ec7d",
   "metadata": {},
   "outputs": [],
   "source": [
    "train - > fit model\n",
    "extracting feautures -> color, shape , weight , height\n",
    "Class - - Object - function -> intialize -> feature ->\n",
    "Extracted the features\n",
    "\n",
    "Featute Object-> Live -> not deallocate \n",
    "\n",
    "Creating Model\n",
    "\n",
    "Model Object - > LinearRegression()\n",
    "Model Object-> Live -> not deallocate \n",
    "\n",
    "\n",
    "\n",
    "Test \n",
    "\n",
    "use same\n",
    "\n",
    "Featute Object - > extract the feature of test data\n",
    "\n",
    "Model Object -> Predict\n",
    "\n"
   ]
  },
  {
   "cell_type": "code",
   "execution_count": 125,
   "id": "0eafed62",
   "metadata": {},
   "outputs": [
    {
     "data": {
      "text/plain": [
       "LinearRegression()"
      ]
     },
     "execution_count": 125,
     "metadata": {},
     "output_type": "execute_result"
    }
   ],
   "source": [
    "model"
   ]
  },
  {
   "cell_type": "code",
   "execution_count": 126,
   "id": "5c379c9e",
   "metadata": {},
   "outputs": [
    {
     "data": {
      "text/plain": [
       "-21.630919501515642"
      ]
     },
     "execution_count": 126,
     "metadata": {},
     "output_type": "execute_result"
    }
   ],
   "source": [
    "model.intercept_"
   ]
  },
  {
   "cell_type": "code",
   "execution_count": null,
   "id": "b39d784b",
   "metadata": {},
   "outputs": [],
   "source": []
  }
 ],
 "metadata": {
  "kernelspec": {
   "display_name": "Python 3 (ipykernel)",
   "language": "python",
   "name": "python3"
  },
  "language_info": {
   "codemirror_mode": {
    "name": "ipython",
    "version": 3
   },
   "file_extension": ".py",
   "mimetype": "text/x-python",
   "name": "python",
   "nbconvert_exporter": "python",
   "pygments_lexer": "ipython3",
   "version": "3.9.13"
  }
 },
 "nbformat": 4,
 "nbformat_minor": 5
}
